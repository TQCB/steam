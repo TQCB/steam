{
 "cells": [
  {
   "cell_type": "markdown",
   "metadata": {
    "application/vnd.databricks.v1+cell": {
     "cellMetadata": {
      "byteLimit": 2048000,
      "rowLimit": 10000
     },
     "inputWidgets": {},
     "nuid": "9d0c441f-7291-415c-8e9e-cde99f8ac0b6",
     "showTitle": false,
     "title": ""
    }
   },
   "source": [
    "# Imports"
   ]
  },
  {
   "cell_type": "code",
   "execution_count": 0,
   "metadata": {
    "application/vnd.databricks.v1+cell": {
     "cellMetadata": {
      "byteLimit": 2048000,
      "rowLimit": 10000
     },
     "inputWidgets": {},
     "nuid": "2dc3559a-eda0-4df7-af4b-27f6039a1080",
     "showTitle": false,
     "title": ""
    }
   },
   "outputs": [],
   "source": [
    "# Import modules\n",
    "from pyspark.sql import functions as F\n",
    "import pyspark.sql.types as DataTypes\n",
    "\n",
    "from dotenv import load_dotenv\n",
    "import os"
   ]
  },
  {
   "cell_type": "markdown",
   "metadata": {
    "application/vnd.databricks.v1+cell": {
     "cellMetadata": {
      "byteLimit": 2048000,
      "rowLimit": 10000
     },
     "inputWidgets": {},
     "nuid": "feff87e4-8dd9-4b5b-bedd-e442f4b01be1",
     "showTitle": false,
     "title": ""
    }
   },
   "source": [
    "# Data Import and Cleaning"
   ]
  },
  {
   "cell_type": "code",
   "execution_count": 0,
   "metadata": {
    "application/vnd.databricks.v1+cell": {
     "cellMetadata": {
      "byteLimit": 2048000,
      "rowLimit": 10000
     },
     "inputWidgets": {},
     "nuid": "b3a43071-3c40-47c2-9d99-985d88e462ad",
     "showTitle": false,
     "title": ""
    }
   },
   "outputs": [
    {
     "data": {
      "text/html": [
       "<style scoped>\n",
       "  .table-result-container {\n",
       "    max-height: 300px;\n",
       "    overflow: auto;\n",
       "  }\n",
       "  table, th, td {\n",
       "    border: 1px solid black;\n",
       "    border-collapse: collapse;\n",
       "  }\n",
       "  th, td {\n",
       "    padding: 5px;\n",
       "  }\n",
       "  th {\n",
       "    text-align: left;\n",
       "  }\n",
       "</style><div class='table-result-container'><table class='table-result'><thead style='background-color: white'><tr><th>appid</th><th>categories</th><th>ccu</th><th>developer</th><th>discount</th><th>genre</th><th>header_image</th><th>initialprice</th><th>languages</th><th>name</th><th>negative</th><th>owners</th><th>platforms</th><th>positive</th><th>price</th><th>publisher</th><th>release_date</th><th>required_age</th><th>short_description</th><th>tags</th><th>type</th><th>website</th></tr></thead><tbody><tr><td>10</td><td>List(Multi-player, Valve Anti-Cheat enabled, Online PvP, Shared/Split Screen PvP, PvP)</td><td>13990</td><td>Valve</td><td>0</td><td>Action</td><td>https://cdn.akamai.steamstatic.com/steam/apps/10/header.jpg?t=1666823513</td><td>999</td><td>English, French, German, Italian, Spanish - Spain, Simplified Chinese, Traditional Chinese, Korean</td><td>Counter-Strike</td><td>5199</td><td>10,000,000 .. 20,000,000</td><td>List(true, true, true)</td><td>201215</td><td>999</td><td>Valve</td><td>2000/11/1</td><td>0</td><td>Play the world's number 1 online action game. Engage in an incredibly realistic brand of terrorist warfare in this wildly popular team-based game. Ally with teammates to complete strategic missions. Take out enemy sites. Rescue hostages. Your role affects your team's success. Your team's success affects your role.</td><td>List(266, 1191, null, null, null, null, null, null, null, null, null, null, null, null, null, null, null, 5426, null, null, null, null, null, null, null, null, null, null, null, null, null, null, null, null, null, 227, null, null, null, null, null, null, null, null, null, null, null, null, null, null, null, null, null, null, null, null, null, null, null, null, null, null, null, null, null, null, null, null, null, null, null, null, null, null, null, null, null, 2784, null, null, null, null, null, null, null, null, null, null, null, null, 1607, null, null, null, null, null, null, null, null, null, null, null, null, null, null, null, null, null, null, null, null, null, null, null, null, null, null, null, null, null, null, null, null, null, null, null, null, null, null, null, null, null, null, null, null, null, null, null, null, null, 4831, null, null, null, null, null, null, null, null, null, 1707, null, null, null, null, null, null, null, null, null, null, null, null, null, null, null, null, null, null, null, null, null, null, null, null, null, null, null, null, null, null, null, null, null, null, null, null, null, null, null, null, null, null, null, null, null, null, null, null, null, null, null, null, null, null, null, null, null, null, null, null, null, null, null, null, null, null, null, null, null, null, null, null, null, null, null, null, null, null, null, 632, null, null, null, null, null, null, null, null, null, null, null, 3392, null, null, null, null, null, null, null, null, null, null, null, null, null, null, null, null, 131, null, null, 769, null, null, null, null, null, null, null, null, null, null, null, null, null, null, null, null, null, null, null, null, null, null, null, null, null, null, null, null, null, null, null, null, null, null, 881, null, null, null, null, null, null, null, null, null, null, null, null, null, null, null, null, null, null, null, null, null, null, null, null, null, null, null, null, null, null, null, 289, null, null, null, 3353, null, null, null, null, null, null, null, null, null, null, null, null, null, null, null, null, null, null, null, null, null, null, null, null, null, null, null, null, null, null, null, null, 614, null, null, null, null, null, null, 304, null, null, null, 1344, null, null, 1864, null, null, null, null, null, null, null, null, null, null, null, null, null, null, null, null, null, null, null, null, null, null, null, null, null, null, null, null, null, null, null, null, null, null, null, null, null, null, null, null, null, null, null, null, null, null, null, null, null, null, null, null, null, null, null, null, null, null, null, 1192)</td><td>game</td><td></td></tr><tr><td>1000000</td><td>List(Single-player, Partial Controller Support, Steam Achievements, Steam Cloud)</td><td>0</td><td>IndigoBlue Game Studio</td><td>0</td><td>Action, Adventure, Indie</td><td>https://cdn.akamai.steamstatic.com/steam/apps/1000000/header.jpg?t=1655723048</td><td>999</td><td>English, Korean, Simplified Chinese</td><td>ASCENXION</td><td>5</td><td>0 .. 20,000</td><td>List(false, false, true)</td><td>27</td><td>999</td><td>PsychoFlux Entertainment</td><td>2021/05/14</td><td>0</td><td>ASCENXION is a 2D shoot 'em up game where you explore the field to progress. Players must overcome puzzles, traps, elite units, boss fights, and other various obstacles while navigating the field. Grow stronger through rewards earned, to uncover the truth of this world.</td><td>List(null, null, null, 159, null, null, null, null, null, null, null, null, null, null, null, null, 111, 138, null, null, null, null, null, 73, null, null, null, null, null, null, null, null, null, null, null, null, null, null, 88, null, null, null, null, null, null, null, null, null, null, null, null, null, null, null, null, null, null, null, null, 179, null, null, null, null, null, null, null, null, null, null, null, null, null, null, null, null, null, null, null, null, null, null, null, null, null, 124, null, null, null, null, null, null, 148, null, null, null, null, null, null, null, null, null, null, null, null, null, null, null, null, null, null, null, null, null, null, 161, null, null, null, null, null, null, null, null, null, null, null, null, null, null, null, null, null, null, null, null, null, null, null, null, null, null, null, null, null, null, null, null, null, null, null, null, null, null, null, null, null, null, null, null, 51, null, null, null, null, null, null, null, 38, null, null, null, null, null, null, null, null, null, null, null, null, null, null, null, null, null, null, null, null, 69, null, null, null, null, null, null, null, null, null, null, null, null, null, null, null, null, null, null, null, null, null, null, null, null, null, null, null, null, null, null, null, null, null, null, null, null, null, null, null, 181, null, null, null, 136, null, null, null, null, null, null, null, null, null, null, null, null, null, null, null, null, null, null, null, null, null, null, null, null, null, null, null, null, null, null, null, null, null, null, null, null, null, null, null, null, null, null, null, null, null, null, null, null, null, null, null, null, null, null, null, null, null, null, null, null, null, null, null, null, null, null, null, null, null, null, null, null, null, null, null, null, null, null, null, null, 100, null, null, null, null, null, null, null, null, null, null, null, null, null, null, null, null, null, 186, 159, null, null, 175, null, null, 71, null, null, null, null, null, null, null, null, null, null, null, null, null, null, null, null, null, null, null, null, null, null, null, null, null, null, null, null, null, null, null, null, null, null, null, null, null, null, null, null, null, null, null, null, null, null, null, null, null, null, null, null, null, null, null, null, null, null, null, null, null, null, null, null, null, null, null, null, 170, null, null, null, null, null, null, null, null, null, null, null, null, null, null, null, null, null, null, null, null, null, null, null, null, null, null, null, null, null, null, null, null)</td><td>game</td><td></td></tr><tr><td>1000010</td><td>List(Single-player, Partial Controller Support, Steam Achievements, Steam Cloud, Steam Trading Cards)</td><td>99</td><td>NEXT Studios</td><td>70</td><td>Adventure, Indie, RPG, Strategy</td><td>https://cdn.akamai.steamstatic.com/steam/apps/1000010/header.jpg?t=1655724189</td><td>1999</td><td>Simplified Chinese, English, Japanese, Traditional Chinese, French, German, Spanish - Spain, Russian, Portuguese - Brazil</td><td>Crown Trick</td><td>646</td><td>200,000 .. 500,000</td><td>List(false, false, true)</td><td>4032</td><td>599</td><td>Team17, NEXT Studios</td><td>2020/10/16</td><td>0</td><td>Enter a labyrinth that moves as you move, where mastering the elements is key to defeating enemies and uncovering the mysteries of this underground world. With a new experience awaiting every time you enter the dungeon, let the power bestowed by the crown guide you in this challenging adventure!</td><td>List(null, null, null, 205, null, null, null, null, null, null, null, null, null, null, null, null, null, null, null, null, null, 179, null, 225, null, null, null, null, null, null, null, null, null, null, null, null, null, null, null, null, null, null, null, null, null, null, null, null, null, null, null, null, null, null, null, null, null, null, null, null, null, null, null, null, null, null, null, null, null, null, null, null, null, null, null, null, null, null, null, null, null, null, null, null, null, null, null, null, null, null, null, null, null, null, null, null, null, null, null, null, null, null, null, null, null, null, null, null, null, null, null, null, null, null, null, 189, null, null, null, null, null, null, null, 225, null, null, null, null, null, null, null, null, null, null, null, null, null, null, null, null, null, null, null, 179, null, null, null, null, 217, null, null, null, null, null, null, null, null, null, null, null, null, null, null, null, null, null, null, null, null, null, null, null, null, null, null, null, null, null, null, null, null, null, null, null, null, null, null, null, null, null, null, null, null, null, null, null, null, null, null, null, null, null, null, null, null, null, null, null, null, null, null, null, null, null, null, null, 171, null, null, null, null, null, null, null, null, null, null, null, null, null, null, null, null, null, null, null, null, null, null, null, null, null, null, null, null, null, null, null, null, null, null, null, null, null, null, null, null, null, null, null, null, null, null, null, null, null, null, null, null, null, null, null, null, null, 231, null, null, null, null, null, null, null, null, null, null, null, null, null, null, null, null, null, null, null, null, null, null, null, null, 237, null, null, null, null, null, null, null, null, null, null, 192, null, null, null, null, null, 268, 226, null, null, null, null, null, null, null, null, null, null, null, null, null, null, null, null, null, null, null, null, null, 211, null, null, null, null, null, null, null, null, null, null, null, null, null, null, null, null, null, null, null, null, null, null, null, null, null, null, 225, null, null, null, null, null, null, null, null, null, null, 184, null, null, null, null, null, null, null, null, null, null, null, null, null, 178, null, null, null, null, null, null, null, null, null, null, null, 222, 254, 216, null, null, null, null, null, null, null, null, null, null, null, null, null, null, null, null, null, null, null, null, null, null, null, null, null, null, null, null, null, null, null, null, null, null, null)</td><td>game</td><td></td></tr><tr><td>1000030</td><td>List(Multi-player, Single-player, Co-op, Steam Achievements, Steam Cloud, Shared/Split Screen, Full controller support, Steam Trading Cards, Shared/Split Screen Co-op, Remote Play on Phone, Remote Play on Tablet, Remote Play on TV, Remote Play Together)</td><td>76</td><td>Vertigo Gaming Inc.</td><td>0</td><td>Action, Indie, Simulation, Strategy</td><td>https://cdn.akamai.steamstatic.com/steam/apps/1000030/header.jpg?t=1660866300</td><td>1999</td><td>English</td><td>Cook, Serve, Delicious! 3?!</td><td>115</td><td>100,000 .. 200,000</td><td>List(false, true, true)</td><td>1575</td><td>1999</td><td>Vertigo Gaming Inc.</td><td>2020/10/14</td><td>0</td><td>Cook, serve and manage your food truck as you dish out hundreds of different foods across war-torn America in this massive sequel to the million-selling series!</td><td>List(null, null, null, 187, null, null, null, null, null, null, null, null, null, null, null, null, null, 175, null, null, null, null, null, null, null, null, null, null, null, null, null, 200, null, null, null, null, null, null, null, null, null, null, null, null, null, null, null, null, null, null, null, null, null, null, null, null, null, null, null, null, null, null, null, null, null, null, null, 209, null, null, null, null, null, null, null, null, null, null, null, 175, 123, null, null, null, null, null, null, null, 176, null, null, null, null, null, 119, null, null, null, null, null, null, null, null, null, null, null, null, null, null, null, null, null, null, null, null, 208, null, null, null, null, null, null, null, null, null, null, null, null, null, null, null, null, null, null, null, null, null, null, null, null, null, null, 175, null, null, null, 120, null, null, null, null, null, null, null, null, null, 184, null, null, null, null, null, null, null, null, null, null, null, null, null, null, null, null, null, null, null, null, null, null, null, null, null, null, null, null, null, null, null, null, null, null, null, null, null, null, null, null, null, null, null, null, null, null, null, null, null, null, 163, 158, null, null, null, null, null, null, null, null, null, 213, null, null, null, null, null, null, null, null, null, null, null, null, null, null, null, null, null, null, null, null, null, null, null, 157, null, null, null, null, null, null, null, null, null, null, null, null, null, null, null, null, null, null, null, null, null, null, null, null, null, null, null, null, null, null, null, null, null, null, null, null, null, null, null, null, null, null, null, null, null, null, null, null, null, null, null, null, null, null, null, null, null, null, null, null, null, null, null, null, null, null, null, null, null, null, null, null, null, null, null, null, null, null, null, null, null, null, null, null, null, null, null, null, null, null, null, null, null, null, null, 182, 134, null, null, null, null, null, null, null, null, null, null, null, null, null, null, null, null, null, null, null, null, null, null, null, null, null, null, 190, null, null, null, null, null, null, null, null, null, null, null, null, null, null, null, null, null, null, null, null, null, null, null, null, null, null, null, null, null, null, null, null, null, null, null, null, null, null, null, null, null, null, 221, null, null, null, null, null, null, null, null, null, null, null, null, null, null, null, null, null, null, null, null, null, null, null, null, null, null, null, null, null, null, null)</td><td>game</td><td>http://www.cookservedelicious.com</td></tr><tr><td>1000040</td><td>List(Single-player)</td><td>0</td><td>DoubleC Games</td><td>0</td><td>Action, Casual, Indie, Simulation</td><td>https://cdn.akamai.steamstatic.com/steam/apps/1000040/header.jpg?t=1627033870</td><td>199</td><td>Simplified Chinese</td><td>细胞战争</td><td>1</td><td>0 .. 20,000</td><td>List(false, false, true)</td><td>0</td><td>199</td><td>DoubleC Games</td><td>2019/03/30</td><td>0</td><td>这是一款打击感十足的细胞主题游戏！操作简单但活下去却不简单，“你”作为侵入人体的细菌病毒，通过与细胞之间的战斗来获得基因变异点数和进入下一关的资格，每种细菌病毒都有独特的能力和攻击效果，你是否可以破坏五大器官并占领人体呢！？</td><td>List(null, null, null, null, null, null, null, null, null, null, null, null, null, null, null, null, null, 22, null, null, null, null, null, null, null, null, null, null, null, null, null, null, null, null, null, null, null, null, null, null, null, null, null, null, null, null, null, null, null, null, null, null, null, null, null, null, null, null, null, null, null, null, null, null, null, null, null, 22, null, null, null, null, null, null, null, null, null, null, null, null, null, null, null, null, null, null, null, null, null, null, null, null, null, null, null, null, null, null, null, null, null, null, null, null, null, null, null, null, null, null, null, null, null, null, null, null, null, null, null, null, null, null, null, null, null, null, null, null, null, null, null, null, null, null, null, null, null, null, null, null, null, null, null, null, null, null, null, null, null, null, null, null, null, null, null, null, null, null, null, null, null, null, null, null, null, null, null, null, null, null, null, null, null, null, null, null, null, null, null, null, null, null, null, null, null, null, null, null, null, 21, null, null, null, null, null, null, null, null, null, null, null, null, null, null, null, null, null, null, null, null, null, null, null, null, null, null, null, null, null, null, null, null, null, null, null, null, null, null, null, null, null, null, null, null, null, null, null, null, null, null, null, null, null, null, null, null, null, null, null, null, null, null, null, null, null, null, null, null, null, null, null, null, null, null, null, null, null, null, null, null, null, null, null, null, null, null, null, null, null, null, null, null, null, null, null, null, null, null, null, null, null, null, null, null, null, null, null, null, null, null, null, null, null, null, null, null, null, null, null, null, null, null, null, null, null, null, null, null, null, null, null, null, null, null, null, null, null, null, null, null, null, null, null, null, null, null, null, null, 20, null, null, null, null, null, null, null, null, null, null, null, null, null, null, null, null, null, null, null, null, null, null, null, null, null, null, null, null, null, null, null, null, null, null, null, null, null, null, null, null, null, null, null, null, null, null, null, null, null, null, null, null, null, null, null, null, null, null, null, null, null, null, null, null, null, null, null, null, null, null, null, null, null, null, null, null, null, null, null, null, null, null, null, null, null, null, null, null, null, null, null, null, null, null, null, null, null, null, null, null, null, null)</td><td>game</td><td></td></tr></tbody></table></div>"
      ]
     },
     "metadata": {
      "application/vnd.databricks.v1+output": {
       "addedWidgets": {},
       "aggData": [],
       "aggError": "",
       "aggOverflow": false,
       "aggSchema": [],
       "aggSeriesLimitReached": false,
       "aggType": "",
       "arguments": {},
       "columnCustomDisplayInfos": {},
       "data": [
        [
         10,
         [
          "Multi-player",
          "Valve Anti-Cheat enabled",
          "Online PvP",
          "Shared/Split Screen PvP",
          "PvP"
         ],
         13990,
         "Valve",
         "0",
         "Action",
         "https://cdn.akamai.steamstatic.com/steam/apps/10/header.jpg?t=1666823513",
         "999",
         "English, French, German, Italian, Spanish - Spain, Simplified Chinese, Traditional Chinese, Korean",
         "Counter-Strike",
         5199,
         "10,000,000 .. 20,000,000",
         [
          true,
          true,
          true
         ],
         201215,
         "999",
         "Valve",
         "2000/11/1",
         "0",
         "Play the world's number 1 online action game. Engage in an incredibly realistic brand of terrorist warfare in this wildly popular team-based game. Ally with teammates to complete strategic missions. Take out enemy sites. Rescue hostages. Your role affects your team's success. Your team's success affects your role.",
         [
          266,
          1191,
          null,
          null,
          null,
          null,
          null,
          null,
          null,
          null,
          null,
          null,
          null,
          null,
          null,
          null,
          null,
          5426,
          null,
          null,
          null,
          null,
          null,
          null,
          null,
          null,
          null,
          null,
          null,
          null,
          null,
          null,
          null,
          null,
          null,
          227,
          null,
          null,
          null,
          null,
          null,
          null,
          null,
          null,
          null,
          null,
          null,
          null,
          null,
          null,
          null,
          null,
          null,
          null,
          null,
          null,
          null,
          null,
          null,
          null,
          null,
          null,
          null,
          null,
          null,
          null,
          null,
          null,
          null,
          null,
          null,
          null,
          null,
          null,
          null,
          null,
          null,
          2784,
          null,
          null,
          null,
          null,
          null,
          null,
          null,
          null,
          null,
          null,
          null,
          null,
          1607,
          null,
          null,
          null,
          null,
          null,
          null,
          null,
          null,
          null,
          null,
          null,
          null,
          null,
          null,
          null,
          null,
          null,
          null,
          null,
          null,
          null,
          null,
          null,
          null,
          null,
          null,
          null,
          null,
          null,
          null,
          null,
          null,
          null,
          null,
          null,
          null,
          null,
          null,
          null,
          null,
          null,
          null,
          null,
          null,
          null,
          null,
          null,
          null,
          null,
          4831,
          null,
          null,
          null,
          null,
          null,
          null,
          null,
          null,
          null,
          1707,
          null,
          null,
          null,
          null,
          null,
          null,
          null,
          null,
          null,
          null,
          null,
          null,
          null,
          null,
          null,
          null,
          null,
          null,
          null,
          null,
          null,
          null,
          null,
          null,
          null,
          null,
          null,
          null,
          null,
          null,
          null,
          null,
          null,
          null,
          null,
          null,
          null,
          null,
          null,
          null,
          null,
          null,
          null,
          null,
          null,
          null,
          null,
          null,
          null,
          null,
          null,
          null,
          null,
          null,
          null,
          null,
          null,
          null,
          null,
          null,
          null,
          null,
          null,
          null,
          null,
          null,
          null,
          null,
          null,
          null,
          null,
          null,
          null,
          null,
          null,
          null,
          null,
          null,
          null,
          632,
          null,
          null,
          null,
          null,
          null,
          null,
          null,
          null,
          null,
          null,
          null,
          3392,
          null,
          null,
          null,
          null,
          null,
          null,
          null,
          null,
          null,
          null,
          null,
          null,
          null,
          null,
          null,
          null,
          131,
          null,
          null,
          769,
          null,
          null,
          null,
          null,
          null,
          null,
          null,
          null,
          null,
          null,
          null,
          null,
          null,
          null,
          null,
          null,
          null,
          null,
          null,
          null,
          null,
          null,
          null,
          null,
          null,
          null,
          null,
          null,
          null,
          null,
          null,
          null,
          null,
          null,
          881,
          null,
          null,
          null,
          null,
          null,
          null,
          null,
          null,
          null,
          null,
          null,
          null,
          null,
          null,
          null,
          null,
          null,
          null,
          null,
          null,
          null,
          null,
          null,
          null,
          null,
          null,
          null,
          null,
          null,
          null,
          null,
          289,
          null,
          null,
          null,
          3353,
          null,
          null,
          null,
          null,
          null,
          null,
          null,
          null,
          null,
          null,
          null,
          null,
          null,
          null,
          null,
          null,
          null,
          null,
          null,
          null,
          null,
          null,
          null,
          null,
          null,
          null,
          null,
          null,
          null,
          null,
          null,
          null,
          614,
          null,
          null,
          null,
          null,
          null,
          null,
          304,
          null,
          null,
          null,
          1344,
          null,
          null,
          1864,
          null,
          null,
          null,
          null,
          null,
          null,
          null,
          null,
          null,
          null,
          null,
          null,
          null,
          null,
          null,
          null,
          null,
          null,
          null,
          null,
          null,
          null,
          null,
          null,
          null,
          null,
          null,
          null,
          null,
          null,
          null,
          null,
          null,
          null,
          null,
          null,
          null,
          null,
          null,
          null,
          null,
          null,
          null,
          null,
          null,
          null,
          null,
          null,
          null,
          null,
          null,
          null,
          null,
          null,
          null,
          null,
          null,
          null,
          null,
          1192
         ],
         "game",
         ""
        ],
        [
         1000000,
         [
          "Single-player",
          "Partial Controller Support",
          "Steam Achievements",
          "Steam Cloud"
         ],
         0,
         "IndigoBlue Game Studio",
         "0",
         "Action, Adventure, Indie",
         "https://cdn.akamai.steamstatic.com/steam/apps/1000000/header.jpg?t=1655723048",
         "999",
         "English, Korean, Simplified Chinese",
         "ASCENXION",
         5,
         "0 .. 20,000",
         [
          false,
          false,
          true
         ],
         27,
         "999",
         "PsychoFlux Entertainment",
         "2021/05/14",
         "0",
         "ASCENXION is a 2D shoot 'em up game where you explore the field to progress. Players must overcome puzzles, traps, elite units, boss fights, and other various obstacles while navigating the field. Grow stronger through rewards earned, to uncover the truth of this world.",
         [
          null,
          null,
          null,
          159,
          null,
          null,
          null,
          null,
          null,
          null,
          null,
          null,
          null,
          null,
          null,
          null,
          111,
          138,
          null,
          null,
          null,
          null,
          null,
          73,
          null,
          null,
          null,
          null,
          null,
          null,
          null,
          null,
          null,
          null,
          null,
          null,
          null,
          null,
          88,
          null,
          null,
          null,
          null,
          null,
          null,
          null,
          null,
          null,
          null,
          null,
          null,
          null,
          null,
          null,
          null,
          null,
          null,
          null,
          null,
          179,
          null,
          null,
          null,
          null,
          null,
          null,
          null,
          null,
          null,
          null,
          null,
          null,
          null,
          null,
          null,
          null,
          null,
          null,
          null,
          null,
          null,
          null,
          null,
          null,
          null,
          124,
          null,
          null,
          null,
          null,
          null,
          null,
          148,
          null,
          null,
          null,
          null,
          null,
          null,
          null,
          null,
          null,
          null,
          null,
          null,
          null,
          null,
          null,
          null,
          null,
          null,
          null,
          null,
          null,
          null,
          161,
          null,
          null,
          null,
          null,
          null,
          null,
          null,
          null,
          null,
          null,
          null,
          null,
          null,
          null,
          null,
          null,
          null,
          null,
          null,
          null,
          null,
          null,
          null,
          null,
          null,
          null,
          null,
          null,
          null,
          null,
          null,
          null,
          null,
          null,
          null,
          null,
          null,
          null,
          null,
          null,
          null,
          null,
          null,
          null,
          51,
          null,
          null,
          null,
          null,
          null,
          null,
          null,
          38,
          null,
          null,
          null,
          null,
          null,
          null,
          null,
          null,
          null,
          null,
          null,
          null,
          null,
          null,
          null,
          null,
          null,
          null,
          null,
          null,
          69,
          null,
          null,
          null,
          null,
          null,
          null,
          null,
          null,
          null,
          null,
          null,
          null,
          null,
          null,
          null,
          null,
          null,
          null,
          null,
          null,
          null,
          null,
          null,
          null,
          null,
          null,
          null,
          null,
          null,
          null,
          null,
          null,
          null,
          null,
          null,
          null,
          null,
          null,
          null,
          181,
          null,
          null,
          null,
          136,
          null,
          null,
          null,
          null,
          null,
          null,
          null,
          null,
          null,
          null,
          null,
          null,
          null,
          null,
          null,
          null,
          null,
          null,
          null,
          null,
          null,
          null,
          null,
          null,
          null,
          null,
          null,
          null,
          null,
          null,
          null,
          null,
          null,
          null,
          null,
          null,
          null,
          null,
          null,
          null,
          null,
          null,
          null,
          null,
          null,
          null,
          null,
          null,
          null,
          null,
          null,
          null,
          null,
          null,
          null,
          null,
          null,
          null,
          null,
          null,
          null,
          null,
          null,
          null,
          null,
          null,
          null,
          null,
          null,
          null,
          null,
          null,
          null,
          null,
          null,
          null,
          null,
          null,
          null,
          null,
          100,
          null,
          null,
          null,
          null,
          null,
          null,
          null,
          null,
          null,
          null,
          null,
          null,
          null,
          null,
          null,
          null,
          null,
          186,
          159,
          null,
          null,
          175,
          null,
          null,
          71,
          null,
          null,
          null,
          null,
          null,
          null,
          null,
          null,
          null,
          null,
          null,
          null,
          null,
          null,
          null,
          null,
          null,
          null,
          null,
          null,
          null,
          null,
          null,
          null,
          null,
          null,
          null,
          null,
          null,
          null,
          null,
          null,
          null,
          null,
          null,
          null,
          null,
          null,
          null,
          null,
          null,
          null,
          null,
          null,
          null,
          null,
          null,
          null,
          null,
          null,
          null,
          null,
          null,
          null,
          null,
          null,
          null,
          null,
          null,
          null,
          null,
          null,
          null,
          null,
          null,
          null,
          null,
          null,
          170,
          null,
          null,
          null,
          null,
          null,
          null,
          null,
          null,
          null,
          null,
          null,
          null,
          null,
          null,
          null,
          null,
          null,
          null,
          null,
          null,
          null,
          null,
          null,
          null,
          null,
          null,
          null,
          null,
          null,
          null,
          null,
          null
         ],
         "game",
         ""
        ],
        [
         1000010,
         [
          "Single-player",
          "Partial Controller Support",
          "Steam Achievements",
          "Steam Cloud",
          "Steam Trading Cards"
         ],
         99,
         "NEXT Studios",
         "70",
         "Adventure, Indie, RPG, Strategy",
         "https://cdn.akamai.steamstatic.com/steam/apps/1000010/header.jpg?t=1655724189",
         "1999",
         "Simplified Chinese, English, Japanese, Traditional Chinese, French, German, Spanish - Spain, Russian, Portuguese - Brazil",
         "Crown Trick",
         646,
         "200,000 .. 500,000",
         [
          false,
          false,
          true
         ],
         4032,
         "599",
         "Team17, NEXT Studios",
         "2020/10/16",
         "0",
         "Enter a labyrinth that moves as you move, where mastering the elements is key to defeating enemies and uncovering the mysteries of this underground world. With a new experience awaiting every time you enter the dungeon, let the power bestowed by the crown guide you in this challenging adventure!",
         [
          null,
          null,
          null,
          205,
          null,
          null,
          null,
          null,
          null,
          null,
          null,
          null,
          null,
          null,
          null,
          null,
          null,
          null,
          null,
          null,
          null,
          179,
          null,
          225,
          null,
          null,
          null,
          null,
          null,
          null,
          null,
          null,
          null,
          null,
          null,
          null,
          null,
          null,
          null,
          null,
          null,
          null,
          null,
          null,
          null,
          null,
          null,
          null,
          null,
          null,
          null,
          null,
          null,
          null,
          null,
          null,
          null,
          null,
          null,
          null,
          null,
          null,
          null,
          null,
          null,
          null,
          null,
          null,
          null,
          null,
          null,
          null,
          null,
          null,
          null,
          null,
          null,
          null,
          null,
          null,
          null,
          null,
          null,
          null,
          null,
          null,
          null,
          null,
          null,
          null,
          null,
          null,
          null,
          null,
          null,
          null,
          null,
          null,
          null,
          null,
          null,
          null,
          null,
          null,
          null,
          null,
          null,
          null,
          null,
          null,
          null,
          null,
          null,
          null,
          null,
          189,
          null,
          null,
          null,
          null,
          null,
          null,
          null,
          225,
          null,
          null,
          null,
          null,
          null,
          null,
          null,
          null,
          null,
          null,
          null,
          null,
          null,
          null,
          null,
          null,
          null,
          null,
          null,
          179,
          null,
          null,
          null,
          null,
          217,
          null,
          null,
          null,
          null,
          null,
          null,
          null,
          null,
          null,
          null,
          null,
          null,
          null,
          null,
          null,
          null,
          null,
          null,
          null,
          null,
          null,
          null,
          null,
          null,
          null,
          null,
          null,
          null,
          null,
          null,
          null,
          null,
          null,
          null,
          null,
          null,
          null,
          null,
          null,
          null,
          null,
          null,
          null,
          null,
          null,
          null,
          null,
          null,
          null,
          null,
          null,
          null,
          null,
          null,
          null,
          null,
          null,
          null,
          null,
          null,
          null,
          null,
          null,
          null,
          null,
          null,
          null,
          171,
          null,
          null,
          null,
          null,
          null,
          null,
          null,
          null,
          null,
          null,
          null,
          null,
          null,
          null,
          null,
          null,
          null,
          null,
          null,
          null,
          null,
          null,
          null,
          null,
          null,
          null,
          null,
          null,
          null,
          null,
          null,
          null,
          null,
          null,
          null,
          null,
          null,
          null,
          null,
          null,
          null,
          null,
          null,
          null,
          null,
          null,
          null,
          null,
          null,
          null,
          null,
          null,
          null,
          null,
          null,
          null,
          null,
          231,
          null,
          null,
          null,
          null,
          null,
          null,
          null,
          null,
          null,
          null,
          null,
          null,
          null,
          null,
          null,
          null,
          null,
          null,
          null,
          null,
          null,
          null,
          null,
          null,
          237,
          null,
          null,
          null,
          null,
          null,
          null,
          null,
          null,
          null,
          null,
          192,
          null,
          null,
          null,
          null,
          null,
          268,
          226,
          null,
          null,
          null,
          null,
          null,
          null,
          null,
          null,
          null,
          null,
          null,
          null,
          null,
          null,
          null,
          null,
          null,
          null,
          null,
          null,
          null,
          211,
          null,
          null,
          null,
          null,
          null,
          null,
          null,
          null,
          null,
          null,
          null,
          null,
          null,
          null,
          null,
          null,
          null,
          null,
          null,
          null,
          null,
          null,
          null,
          null,
          null,
          null,
          225,
          null,
          null,
          null,
          null,
          null,
          null,
          null,
          null,
          null,
          null,
          184,
          null,
          null,
          null,
          null,
          null,
          null,
          null,
          null,
          null,
          null,
          null,
          null,
          null,
          178,
          null,
          null,
          null,
          null,
          null,
          null,
          null,
          null,
          null,
          null,
          null,
          222,
          254,
          216,
          null,
          null,
          null,
          null,
          null,
          null,
          null,
          null,
          null,
          null,
          null,
          null,
          null,
          null,
          null,
          null,
          null,
          null,
          null,
          null,
          null,
          null,
          null,
          null,
          null,
          null,
          null,
          null,
          null,
          null,
          null,
          null,
          null,
          null,
          null
         ],
         "game",
         ""
        ],
        [
         1000030,
         [
          "Multi-player",
          "Single-player",
          "Co-op",
          "Steam Achievements",
          "Steam Cloud",
          "Shared/Split Screen",
          "Full controller support",
          "Steam Trading Cards",
          "Shared/Split Screen Co-op",
          "Remote Play on Phone",
          "Remote Play on Tablet",
          "Remote Play on TV",
          "Remote Play Together"
         ],
         76,
         "Vertigo Gaming Inc.",
         "0",
         "Action, Indie, Simulation, Strategy",
         "https://cdn.akamai.steamstatic.com/steam/apps/1000030/header.jpg?t=1660866300",
         "1999",
         "English",
         "Cook, Serve, Delicious! 3?!",
         115,
         "100,000 .. 200,000",
         [
          false,
          true,
          true
         ],
         1575,
         "1999",
         "Vertigo Gaming Inc.",
         "2020/10/14",
         "0",
         "Cook, serve and manage your food truck as you dish out hundreds of different foods across war-torn America in this massive sequel to the million-selling series!",
         [
          null,
          null,
          null,
          187,
          null,
          null,
          null,
          null,
          null,
          null,
          null,
          null,
          null,
          null,
          null,
          null,
          null,
          175,
          null,
          null,
          null,
          null,
          null,
          null,
          null,
          null,
          null,
          null,
          null,
          null,
          null,
          200,
          null,
          null,
          null,
          null,
          null,
          null,
          null,
          null,
          null,
          null,
          null,
          null,
          null,
          null,
          null,
          null,
          null,
          null,
          null,
          null,
          null,
          null,
          null,
          null,
          null,
          null,
          null,
          null,
          null,
          null,
          null,
          null,
          null,
          null,
          null,
          209,
          null,
          null,
          null,
          null,
          null,
          null,
          null,
          null,
          null,
          null,
          null,
          175,
          123,
          null,
          null,
          null,
          null,
          null,
          null,
          null,
          176,
          null,
          null,
          null,
          null,
          null,
          119,
          null,
          null,
          null,
          null,
          null,
          null,
          null,
          null,
          null,
          null,
          null,
          null,
          null,
          null,
          null,
          null,
          null,
          null,
          null,
          null,
          208,
          null,
          null,
          null,
          null,
          null,
          null,
          null,
          null,
          null,
          null,
          null,
          null,
          null,
          null,
          null,
          null,
          null,
          null,
          null,
          null,
          null,
          null,
          null,
          null,
          null,
          null,
          175,
          null,
          null,
          null,
          120,
          null,
          null,
          null,
          null,
          null,
          null,
          null,
          null,
          null,
          184,
          null,
          null,
          null,
          null,
          null,
          null,
          null,
          null,
          null,
          null,
          null,
          null,
          null,
          null,
          null,
          null,
          null,
          null,
          null,
          null,
          null,
          null,
          null,
          null,
          null,
          null,
          null,
          null,
          null,
          null,
          null,
          null,
          null,
          null,
          null,
          null,
          null,
          null,
          null,
          null,
          null,
          null,
          null,
          null,
          null,
          null,
          null,
          null,
          null,
          null,
          163,
          158,
          null,
          null,
          null,
          null,
          null,
          null,
          null,
          null,
          null,
          213,
          null,
          null,
          null,
          null,
          null,
          null,
          null,
          null,
          null,
          null,
          null,
          null,
          null,
          null,
          null,
          null,
          null,
          null,
          null,
          null,
          null,
          null,
          null,
          157,
          null,
          null,
          null,
          null,
          null,
          null,
          null,
          null,
          null,
          null,
          null,
          null,
          null,
          null,
          null,
          null,
          null,
          null,
          null,
          null,
          null,
          null,
          null,
          null,
          null,
          null,
          null,
          null,
          null,
          null,
          null,
          null,
          null,
          null,
          null,
          null,
          null,
          null,
          null,
          null,
          null,
          null,
          null,
          null,
          null,
          null,
          null,
          null,
          null,
          null,
          null,
          null,
          null,
          null,
          null,
          null,
          null,
          null,
          null,
          null,
          null,
          null,
          null,
          null,
          null,
          null,
          null,
          null,
          null,
          null,
          null,
          null,
          null,
          null,
          null,
          null,
          null,
          null,
          null,
          null,
          null,
          null,
          null,
          null,
          null,
          null,
          null,
          null,
          null,
          null,
          null,
          null,
          null,
          null,
          null,
          182,
          134,
          null,
          null,
          null,
          null,
          null,
          null,
          null,
          null,
          null,
          null,
          null,
          null,
          null,
          null,
          null,
          null,
          null,
          null,
          null,
          null,
          null,
          null,
          null,
          null,
          null,
          null,
          190,
          null,
          null,
          null,
          null,
          null,
          null,
          null,
          null,
          null,
          null,
          null,
          null,
          null,
          null,
          null,
          null,
          null,
          null,
          null,
          null,
          null,
          null,
          null,
          null,
          null,
          null,
          null,
          null,
          null,
          null,
          null,
          null,
          null,
          null,
          null,
          null,
          null,
          null,
          null,
          null,
          null,
          null,
          221,
          null,
          null,
          null,
          null,
          null,
          null,
          null,
          null,
          null,
          null,
          null,
          null,
          null,
          null,
          null,
          null,
          null,
          null,
          null,
          null,
          null,
          null,
          null,
          null,
          null,
          null,
          null,
          null,
          null,
          null,
          null
         ],
         "game",
         "http://www.cookservedelicious.com"
        ],
        [
         1000040,
         [
          "Single-player"
         ],
         0,
         "DoubleC Games",
         "0",
         "Action, Casual, Indie, Simulation",
         "https://cdn.akamai.steamstatic.com/steam/apps/1000040/header.jpg?t=1627033870",
         "199",
         "Simplified Chinese",
         "细胞战争",
         1,
         "0 .. 20,000",
         [
          false,
          false,
          true
         ],
         0,
         "199",
         "DoubleC Games",
         "2019/03/30",
         "0",
         "这是一款打击感十足的细胞主题游戏！操作简单但活下去却不简单，“你”作为侵入人体的细菌病毒，通过与细胞之间的战斗来获得基因变异点数和进入下一关的资格，每种细菌病毒都有独特的能力和攻击效果，你是否可以破坏五大器官并占领人体呢！？",
         [
          null,
          null,
          null,
          null,
          null,
          null,
          null,
          null,
          null,
          null,
          null,
          null,
          null,
          null,
          null,
          null,
          null,
          22,
          null,
          null,
          null,
          null,
          null,
          null,
          null,
          null,
          null,
          null,
          null,
          null,
          null,
          null,
          null,
          null,
          null,
          null,
          null,
          null,
          null,
          null,
          null,
          null,
          null,
          null,
          null,
          null,
          null,
          null,
          null,
          null,
          null,
          null,
          null,
          null,
          null,
          null,
          null,
          null,
          null,
          null,
          null,
          null,
          null,
          null,
          null,
          null,
          null,
          22,
          null,
          null,
          null,
          null,
          null,
          null,
          null,
          null,
          null,
          null,
          null,
          null,
          null,
          null,
          null,
          null,
          null,
          null,
          null,
          null,
          null,
          null,
          null,
          null,
          null,
          null,
          null,
          null,
          null,
          null,
          null,
          null,
          null,
          null,
          null,
          null,
          null,
          null,
          null,
          null,
          null,
          null,
          null,
          null,
          null,
          null,
          null,
          null,
          null,
          null,
          null,
          null,
          null,
          null,
          null,
          null,
          null,
          null,
          null,
          null,
          null,
          null,
          null,
          null,
          null,
          null,
          null,
          null,
          null,
          null,
          null,
          null,
          null,
          null,
          null,
          null,
          null,
          null,
          null,
          null,
          null,
          null,
          null,
          null,
          null,
          null,
          null,
          null,
          null,
          null,
          null,
          null,
          null,
          null,
          null,
          null,
          null,
          null,
          null,
          null,
          null,
          null,
          null,
          null,
          null,
          null,
          null,
          null,
          null,
          null,
          null,
          null,
          null,
          null,
          null,
          null,
          null,
          null,
          null,
          null,
          null,
          21,
          null,
          null,
          null,
          null,
          null,
          null,
          null,
          null,
          null,
          null,
          null,
          null,
          null,
          null,
          null,
          null,
          null,
          null,
          null,
          null,
          null,
          null,
          null,
          null,
          null,
          null,
          null,
          null,
          null,
          null,
          null,
          null,
          null,
          null,
          null,
          null,
          null,
          null,
          null,
          null,
          null,
          null,
          null,
          null,
          null,
          null,
          null,
          null,
          null,
          null,
          null,
          null,
          null,
          null,
          null,
          null,
          null,
          null,
          null,
          null,
          null,
          null,
          null,
          null,
          null,
          null,
          null,
          null,
          null,
          null,
          null,
          null,
          null,
          null,
          null,
          null,
          null,
          null,
          null,
          null,
          null,
          null,
          null,
          null,
          null,
          null,
          null,
          null,
          null,
          null,
          null,
          null,
          null,
          null,
          null,
          null,
          null,
          null,
          null,
          null,
          null,
          null,
          null,
          null,
          null,
          null,
          null,
          null,
          null,
          null,
          null,
          null,
          null,
          null,
          null,
          null,
          null,
          null,
          null,
          null,
          null,
          null,
          null,
          null,
          null,
          null,
          null,
          null,
          null,
          null,
          null,
          null,
          null,
          null,
          null,
          null,
          null,
          null,
          null,
          null,
          null,
          null,
          null,
          null,
          null,
          null,
          null,
          null,
          20,
          null,
          null,
          null,
          null,
          null,
          null,
          null,
          null,
          null,
          null,
          null,
          null,
          null,
          null,
          null,
          null,
          null,
          null,
          null,
          null,
          null,
          null,
          null,
          null,
          null,
          null,
          null,
          null,
          null,
          null,
          null,
          null,
          null,
          null,
          null,
          null,
          null,
          null,
          null,
          null,
          null,
          null,
          null,
          null,
          null,
          null,
          null,
          null,
          null,
          null,
          null,
          null,
          null,
          null,
          null,
          null,
          null,
          null,
          null,
          null,
          null,
          null,
          null,
          null,
          null,
          null,
          null,
          null,
          null,
          null,
          null,
          null,
          null,
          null,
          null,
          null,
          null,
          null,
          null,
          null,
          null,
          null,
          null,
          null,
          null,
          null,
          null,
          null,
          null,
          null,
          null,
          null,
          null,
          null,
          null,
          null,
          null,
          null,
          null,
          null,
          null,
          null
         ],
         "game",
         ""
        ]
       ],
       "datasetInfos": [],
       "dbfsResultPath": null,
       "isJsonSchema": true,
       "metadata": {},
       "overflow": false,
       "plotOptions": {
        "customPlotOptions": {},
        "displayType": "table",
        "pivotAggregation": null,
        "pivotColumns": null,
        "xColumns": null,
        "yColumns": null
       },
       "removedWidgets": [],
       "schema": [
        {
         "metadata": "{}",
         "name": "appid",
         "type": "\"long\""
        },
        {
         "metadata": "{}",
         "name": "categories",
         "type": "{\"type\":\"array\",\"elementType\":\"string\",\"containsNull\":true}"
        },
        {
         "metadata": "{}",
         "name": "ccu",
         "type": "\"long\""
        },
        {
         "metadata": "{}",
         "name": "developer",
         "type": "\"string\""
        },
        {
         "metadata": "{}",
         "name": "discount",
         "type": "\"string\""
        },
        {
         "metadata": "{}",
         "name": "genre",
         "type": "\"string\""
        },
        {
         "metadata": "{}",
         "name": "header_image",
         "type": "\"string\""
        },
        {
         "metadata": "{}",
         "name": "initialprice",
         "type": "\"string\""
        },
        {
         "metadata": "{}",
         "name": "languages",
         "type": "\"string\""
        },
        {
         "metadata": "{}",
         "name": "name",
         "type": "\"string\""
        },
        {
         "metadata": "{}",
         "name": "negative",
         "type": "\"long\""
        },
        {
         "metadata": "{}",
         "name": "owners",
         "type": "\"string\""
        },
        {
         "metadata": "{}",
         "name": "platforms",
         "type": "{\"type\":\"struct\",\"fields\":[{\"name\":\"linux\",\"type\":\"boolean\",\"nullable\":true,\"metadata\":{}},{\"name\":\"mac\",\"type\":\"boolean\",\"nullable\":true,\"metadata\":{}},{\"name\":\"windows\",\"type\":\"boolean\",\"nullable\":true,\"metadata\":{}}]}"
        },
        {
         "metadata": "{}",
         "name": "positive",
         "type": "\"long\""
        },
        {
         "metadata": "{}",
         "name": "price",
         "type": "\"string\""
        },
        {
         "metadata": "{}",
         "name": "publisher",
         "type": "\"string\""
        },
        {
         "metadata": "{}",
         "name": "release_date",
         "type": "\"string\""
        },
        {
         "metadata": "{}",
         "name": "required_age",
         "type": "\"string\""
        },
        {
         "metadata": "{}",
         "name": "short_description",
         "type": "\"string\""
        },
        {
         "metadata": "{}",
         "name": "tags",
         "type": "{\"type\":\"struct\",\"fields\":[{\"name\":\"1980s\",\"type\":\"long\",\"nullable\":true,\"metadata\":{}},{\"name\":\"1990's\",\"type\":\"long\",\"nullable\":true,\"metadata\":{}},{\"name\":\"2.5D\",\"type\":\"long\",\"nullable\":true,\"metadata\":{}},{\"name\":\"2D\",\"type\":\"long\",\"nullable\":true,\"metadata\":{}},{\"name\":\"2D Fighter\",\"type\":\"long\",\"nullable\":true,\"metadata\":{}},{\"name\":\"2D Platformer\",\"type\":\"long\",\"nullable\":true,\"metadata\":{}},{\"name\":\"360 Video\",\"type\":\"long\",\"nullable\":true,\"metadata\":{}},{\"name\":\"3D\",\"type\":\"long\",\"nullable\":true,\"metadata\":{}},{\"name\":\"3D Fighter\",\"type\":\"long\",\"nullable\":true,\"metadata\":{}},{\"name\":\"3D Platformer\",\"type\":\"long\",\"nullable\":true,\"metadata\":{}},{\"name\":\"3D Vision\",\"type\":\"long\",\"nullable\":true,\"metadata\":{}},{\"name\":\"4 Player Local\",\"type\":\"long\",\"nullable\":true,\"metadata\":{}},{\"name\":\"4X\",\"type\":\"long\",\"nullable\":true,\"metadata\":{}},{\"name\":\"6DOF\",\"type\":\"long\",\"nullable\":true,\"metadata\":{}},{\"name\":\"8-bit Music\",\"type\":\"long\",\"nullable\":true,\"metadata\":{}},{\"name\":\"ATV\",\"type\":\"long\",\"nullable\":true,\"metadata\":{}},{\"name\":\"Abstract\",\"type\":\"long\",\"nullable\":true,\"metadata\":{}},{\"name\":\"Action\",\"type\":\"long\",\"nullable\":true,\"metadata\":{}},{\"name\":\"Action RPG\",\"type\":\"long\",\"nullable\":true,\"metadata\":{}},{\"name\":\"Action RTS\",\"type\":\"long\",\"nullable\":true,\"metadata\":{}},{\"name\":\"Action Roguelike\",\"type\":\"long\",\"nullable\":true,\"metadata\":{}},{\"name\":\"Action-Adventure\",\"type\":\"long\",\"nullable\":true,\"metadata\":{}},{\"name\":\"Addictive\",\"type\":\"long\",\"nullable\":true,\"metadata\":{}},{\"name\":\"Adventure\",\"type\":\"long\",\"nullable\":true,\"metadata\":{}},{\"name\":\"Agriculture\",\"type\":\"long\",\"nullable\":true,\"metadata\":{}},{\"name\":\"Aliens\",\"type\":\"long\",\"nullable\":true,\"metadata\":{}},{\"name\":\"Alternate History\",\"type\":\"long\",\"nullable\":true,\"metadata\":{}},{\"name\":\"Ambient\",\"type\":\"long\",\"nullable\":true,\"metadata\":{}},{\"name\":\"America\",\"type\":\"long\",\"nullable\":true,\"metadata\":{}},{\"name\":\"Animation & Modeling\",\"type\":\"long\",\"nullable\":true,\"metadata\":{}},{\"name\":\"Anime\",\"type\":\"long\",\"nullable\":true,\"metadata\":{}},{\"name\":\"Arcade\",\"type\":\"long\",\"nullable\":true,\"metadata\":{}},{\"name\":\"Archery\",\"type\":\"long\",\"nullable\":true,\"metadata\":{}},{\"name\":\"Arena Shooter\",\"type\":\"long\",\"nullable\":true,\"metadata\":{}},{\"name\":\"Artificial Intelligence\",\"type\":\"long\",\"nullable\":true,\"metadata\":{}},{\"name\":\"Assassin\",\"type\":\"long\",\"nullable\":true,\"metadata\":{}},{\"name\":\"Asymmetric VR\",\"type\":\"long\",\"nullable\":true,\"metadata\":{}},{\"name\":\"Asynchronous Multiplayer\",\"type\":\"long\",\"nullable\":true,\"metadata\":{}},{\"name\":\"Atmospheric\",\"type\":\"long\",\"nullable\":true,\"metadata\":{}},{\"name\":\"Audio Production\",\"type\":\"long\",\"nullable\":true,\"metadata\":{}},{\"name\":\"Auto Battler\",\"type\":\"long\",\"nullable\":true,\"metadata\":{}},{\"name\":\"Automation\",\"type\":\"long\",\"nullable\":true,\"metadata\":{}},{\"name\":\"Automobile Sim\",\"type\":\"long\",\"nullable\":true,\"metadata\":{}},{\"name\":\"BMX\",\"type\":\"long\",\"nullable\":true,\"metadata\":{}},{\"name\":\"Base-Building\",\"type\":\"long\",\"nullable\":true,\"metadata\":{}},{\"name\":\"Baseball\",\"type\":\"long\",\"nullable\":true,\"metadata\":{}},{\"name\":\"Based On A Novel\",\"type\":\"long\",\"nullable\":true,\"metadata\":{}},{\"name\":\"Basketball\",\"type\":\"long\",\"nullable\":true,\"metadata\":{}},{\"name\":\"Battle Royale\",\"type\":\"long\",\"nullable\":true,\"metadata\":{}},{\"name\":\"Beat 'em up\",\"type\":\"long\",\"nullable\":true,\"metadata\":{}},{\"name\":\"Beautiful\",\"type\":\"long\",\"nullable\":true,\"metadata\":{}},{\"name\":\"Benchmark\",\"type\":\"long\",\"nullable\":true,\"metadata\":{}},{\"name\":\"Bikes\",\"type\":\"long\",\"nullable\":true,\"metadata\":{}},{\"name\":\"Blood\",\"type\":\"long\",\"nullable\":true,\"metadata\":{}},{\"name\":\"Board Game\",\"type\":\"long\",\"nullable\":true,\"metadata\":{}},{\"name\":\"Boss Rush\",\"type\":\"long\",\"nullable\":true,\"metadata\":{}},{\"name\":\"Bowling\",\"type\":\"long\",\"nullable\":true,\"metadata\":{}},{\"name\":\"Boxing\",\"type\":\"long\",\"nullable\":true,\"metadata\":{}},{\"name\":\"Building\",\"type\":\"long\",\"nullable\":true,\"metadata\":{}},{\"name\":\"Bullet Hell\",\"type\":\"long\",\"nullable\":true,\"metadata\":{}},{\"name\":\"Bullet Time\",\"type\":\"long\",\"nullable\":true,\"metadata\":{}},{\"name\":\"CRPG\",\"type\":\"long\",\"nullable\":true,\"metadata\":{}},{\"name\":\"Capitalism\",\"type\":\"long\",\"nullable\":true,\"metadata\":{}},{\"name\":\"Card Battler\",\"type\":\"long\",\"nullable\":true,\"metadata\":{}},{\"name\":\"Card Game\",\"type\":\"long\",\"nullable\":true,\"metadata\":{}},{\"name\":\"Cartoon\",\"type\":\"long\",\"nullable\":true,\"metadata\":{}},{\"name\":\"Cartoony\",\"type\":\"long\",\"nullable\":true,\"metadata\":{}},{\"name\":\"Casual\",\"type\":\"long\",\"nullable\":true,\"metadata\":{}},{\"name\":\"Cats\",\"type\":\"long\",\"nullable\":true,\"metadata\":{}},{\"name\":\"Character Action Game\",\"type\":\"long\",\"nullable\":true,\"metadata\":{}},{\"name\":\"Character Customization\",\"type\":\"long\",\"nullable\":true,\"metadata\":{}},{\"name\":\"Chess\",\"type\":\"long\",\"nullable\":true,\"metadata\":{}},{\"name\":\"Choices Matter\",\"type\":\"long\",\"nullable\":true,\"metadata\":{}},{\"name\":\"Choose Your Own Adventure\",\"type\":\"long\",\"nullable\":true,\"metadata\":{}},{\"name\":\"Cinematic\",\"type\":\"long\",\"nullable\":true,\"metadata\":{}},{\"name\":\"City Builder\",\"type\":\"long\",\"nullable\":true,\"metadata\":{}},{\"name\":\"Class-Based\",\"type\":\"long\",\"nullable\":true,\"metadata\":{}},{\"name\":\"Classic\",\"type\":\"long\",\"nullable\":true,\"metadata\":{}},{\"name\":\"Clicker\",\"type\":\"long\",\"nullable\":true,\"metadata\":{}},{\"name\":\"Co-op\",\"type\":\"long\",\"nullable\":true,\"metadata\":{}},{\"name\":\"Co-op Campaign\",\"type\":\"long\",\"nullable\":true,\"metadata\":{}},{\"name\":\"Coding\",\"type\":\"long\",\"nullable\":true,\"metadata\":{}},{\"name\":\"Cold War\",\"type\":\"long\",\"nullable\":true,\"metadata\":{}},{\"name\":\"Collectathon\",\"type\":\"long\",\"nullable\":true,\"metadata\":{}},{\"name\":\"Colony Sim\",\"type\":\"long\",\"nullable\":true,\"metadata\":{}},{\"name\":\"Colorful\",\"type\":\"long\",\"nullable\":true,\"metadata\":{}},{\"name\":\"Combat\",\"type\":\"long\",\"nullable\":true,\"metadata\":{}},{\"name\":\"Combat Racing\",\"type\":\"long\",\"nullable\":true,\"metadata\":{}},{\"name\":\"Comedy\",\"type\":\"long\",\"nullable\":true,\"metadata\":{}},{\"name\":\"Comic Book\",\"type\":\"long\",\"nullable\":true,\"metadata\":{}},{\"name\":\"Competitive\",\"type\":\"long\",\"nullable\":true,\"metadata\":{}},{\"name\":\"Conspiracy\",\"type\":\"long\",\"nullable\":true,\"metadata\":{}},{\"name\":\"Controller\",\"type\":\"long\",\"nullable\":true,\"metadata\":{}},{\"name\":\"Conversation\",\"type\":\"long\",\"nullable\":true,\"metadata\":{}},{\"name\":\"Cooking\",\"type\":\"long\",\"nullable\":true,\"metadata\":{}},{\"name\":\"Cozy\",\"type\":\"long\",\"nullable\":true,\"metadata\":{}},{\"name\":\"Crafting\",\"type\":\"long\",\"nullable\":true,\"metadata\":{}},{\"name\":\"Creature Collector\",\"type\":\"long\",\"nullable\":true,\"metadata\":{}},{\"name\":\"Cricket\",\"type\":\"long\",\"nullable\":true,\"metadata\":{}},{\"name\":\"Crime\",\"type\":\"long\",\"nullable\":true,\"metadata\":{}},{\"name\":\"Crowdfunded\",\"type\":\"long\",\"nullable\":true,\"metadata\":{}},{\"name\":\"Cult Classic\",\"type\":\"long\",\"nullable\":true,\"metadata\":{}},{\"name\":\"Cute\",\"type\":\"long\",\"nullable\":true,\"metadata\":{}},{\"name\":\"Cyberpunk\",\"type\":\"long\",\"nullable\":true,\"metadata\":{}},{\"name\":\"Cycling\",\"type\":\"long\",\"nullable\":true,\"metadata\":{}},{\"name\":\"Dark\",\"type\":\"long\",\"nullable\":true,\"metadata\":{}},{\"name\":\"Dark Comedy\",\"type\":\"long\",\"nullable\":true,\"metadata\":{}},{\"name\":\"Dark Fantasy\",\"type\":\"long\",\"nullable\":true,\"metadata\":{}},{\"name\":\"Dark Humor\",\"type\":\"long\",\"nullable\":true,\"metadata\":{}},{\"name\":\"Dating Sim\",\"type\":\"long\",\"nullable\":true,\"metadata\":{}},{\"name\":\"Deckbuilding\",\"type\":\"long\",\"nullable\":true,\"metadata\":{}},{\"name\":\"Demons\",\"type\":\"long\",\"nullable\":true,\"metadata\":{}},{\"name\":\"Design & Illustration\",\"type\":\"long\",\"nullable\":true,\"metadata\":{}},{\"name\":\"Destruction\",\"type\":\"long\",\"nullable\":true,\"metadata\":{}},{\"name\":\"Detective\",\"type\":\"long\",\"nullable\":true,\"metadata\":{}},{\"name\":\"Difficult\",\"type\":\"long\",\"nullable\":true,\"metadata\":{}},{\"name\":\"Dinosaurs\",\"type\":\"long\",\"nullable\":true,\"metadata\":{}},{\"name\":\"Diplomacy\",\"type\":\"long\",\"nullable\":true,\"metadata\":{}},{\"name\":\"Documentary\",\"type\":\"long\",\"nullable\":true,\"metadata\":{}},{\"name\":\"Dog\",\"type\":\"long\",\"nullable\":true,\"metadata\":{}},{\"name\":\"Dragons\",\"type\":\"long\",\"nullable\":true,\"metadata\":{}},{\"name\":\"Drama\",\"type\":\"long\",\"nullable\":true,\"metadata\":{}},{\"name\":\"Driving\",\"type\":\"long\",\"nullable\":true,\"metadata\":{}},{\"name\":\"Dungeon Crawler\",\"type\":\"long\",\"nullable\":true,\"metadata\":{}},{\"name\":\"Dungeons & Dragons\",\"type\":\"long\",\"nullable\":true,\"metadata\":{}},{\"name\":\"Dynamic Narration\",\"type\":\"long\",\"nullable\":true,\"metadata\":{}},{\"name\":\"Dystopian \",\"type\":\"long\",\"nullable\":true,\"metadata\":{}},{\"name\":\"Early Access\",\"type\":\"long\",\"nullable\":true,\"metadata\":{}},{\"name\":\"Economy\",\"type\":\"long\",\"nullable\":true,\"metadata\":{}},{\"name\":\"Education\",\"type\":\"long\",\"nullable\":true,\"metadata\":{}},{\"name\":\"Electronic\",\"type\":\"long\",\"nullable\":true,\"metadata\":{}},{\"name\":\"Electronic Music\",\"type\":\"long\",\"nullable\":true,\"metadata\":{}},{\"name\":\"Emotional\",\"type\":\"long\",\"nullable\":true,\"metadata\":{}},{\"name\":\"Epic\",\"type\":\"long\",\"nullable\":true,\"metadata\":{}},{\"name\":\"Episodic\",\"type\":\"long\",\"nullable\":true,\"metadata\":{}},{\"name\":\"Escape Room\",\"type\":\"long\",\"nullable\":true,\"metadata\":{}},{\"name\":\"Experience\",\"type\":\"long\",\"nullable\":true,\"metadata\":{}},{\"name\":\"Experimental\",\"type\":\"long\",\"nullable\":true,\"metadata\":{}},{\"name\":\"Exploration\",\"type\":\"long\",\"nullable\":true,\"metadata\":{}},{\"name\":\"FMV\",\"type\":\"long\",\"nullable\":true,\"metadata\":{}},{\"name\":\"FPS\",\"type\":\"long\",\"nullable\":true,\"metadata\":{}},{\"name\":\"Faith\",\"type\":\"long\",\"nullable\":true,\"metadata\":{}},{\"name\":\"Family Friendly\",\"type\":\"long\",\"nullable\":true,\"metadata\":{}},{\"name\":\"Fantasy\",\"type\":\"long\",\"nullable\":true,\"metadata\":{}},{\"name\":\"Farming\",\"type\":\"long\",\"nullable\":true,\"metadata\":{}},{\"name\":\"Farming Sim\",\"type\":\"long\",\"nullable\":true,\"metadata\":{}},{\"name\":\"Fast-Paced\",\"type\":\"long\",\"nullable\":true,\"metadata\":{}},{\"name\":\"Feature Film\",\"type\":\"long\",\"nullable\":true,\"metadata\":{}},{\"name\":\"Female Protagonist\",\"type\":\"long\",\"nullable\":true,\"metadata\":{}},{\"name\":\"Fighting\",\"type\":\"long\",\"nullable\":true,\"metadata\":{}},{\"name\":\"First-Person\",\"type\":\"long\",\"nullable\":true,\"metadata\":{}},{\"name\":\"Fishing\",\"type\":\"long\",\"nullable\":true,\"metadata\":{}},{\"name\":\"Flight\",\"type\":\"long\",\"nullable\":true,\"metadata\":{}},{\"name\":\"Football\",\"type\":\"long\",\"nullable\":true,\"metadata\":{}},{\"name\":\"Foreign\",\"type\":\"long\",\"nullable\":true,\"metadata\":{}},{\"name\":\"Free to Play\",\"type\":\"long\",\"nullable\":true,\"metadata\":{}},{\"name\":\"Funny\",\"type\":\"long\",\"nullable\":true,\"metadata\":{}},{\"name\":\"Futuristic\",\"type\":\"long\",\"nullable\":true,\"metadata\":{}},{\"name\":\"Gambling\",\"type\":\"long\",\"nullable\":true,\"metadata\":{}},{\"name\":\"Game Development\",\"type\":\"long\",\"nullable\":true,\"metadata\":{}},{\"name\":\"GameMaker\",\"type\":\"long\",\"nullable\":true,\"metadata\":{}},{\"name\":\"Games Workshop\",\"type\":\"long\",\"nullable\":true,\"metadata\":{}},{\"name\":\"Gaming\",\"type\":\"long\",\"nullable\":true,\"metadata\":{}},{\"name\":\"God Game\",\"type\":\"long\",\"nullable\":true,\"metadata\":{}},{\"name\":\"Golf\",\"type\":\"long\",\"nullable\":true,\"metadata\":{}},{\"name\":\"Gore\",\"type\":\"long\",\"nullable\":true,\"metadata\":{}},{\"name\":\"Gothic\",\"type\":\"long\",\"nullable\":true,\"metadata\":{}},{\"name\":\"Grand Strategy\",\"type\":\"long\",\"nullable\":true,\"metadata\":{}},{\"name\":\"Great Soundtrack\",\"type\":\"long\",\"nullable\":true,\"metadata\":{}},{\"name\":\"Grid-Based Movement\",\"type\":\"long\",\"nullable\":true,\"metadata\":{}},{\"name\":\"Gun Customization\",\"type\":\"long\",\"nullable\":true,\"metadata\":{}},{\"name\":\"Hack and Slash\",\"type\":\"long\",\"nullable\":true,\"metadata\":{}},{\"name\":\"Hacking\",\"type\":\"long\",\"nullable\":true,\"metadata\":{}},{\"name\":\"Hand-drawn\",\"type\":\"long\",\"nullable\":true,\"metadata\":{}},{\"name\":\"Hardware\",\"type\":\"long\",\"nullable\":true,\"metadata\":{}},{\"name\":\"Heist\",\"type\":\"long\",\"nullable\":true,\"metadata\":{}},{\"name\":\"Hentai\",\"type\":\"long\",\"nullable\":true,\"metadata\":{}},{\"name\":\"Hero Shooter\",\"type\":\"long\",\"nullable\":true,\"metadata\":{}},{\"name\":\"Hex Grid\",\"type\":\"long\",\"nullable\":true,\"metadata\":{}},{\"name\":\"Hidden Object\",\"type\":\"long\",\"nullable\":true,\"metadata\":{}},{\"name\":\"Historical\",\"type\":\"long\",\"nullable\":true,\"metadata\":{}},{\"name\":\"Hockey\",\"type\":\"long\",\"nullable\":true,\"metadata\":{}},{\"name\":\"Horror\",\"type\":\"long\",\"nullable\":true,\"metadata\":{}},{\"name\":\"Horses\",\"type\":\"long\",\"nullable\":true,\"metadata\":{}},{\"name\":\"Hunting\",\"type\":\"long\",\"nullable\":true,\"metadata\":{}},{\"name\":\"Idler\",\"type\":\"long\",\"nullable\":true,\"metadata\":{}},{\"name\":\"Illuminati\",\"type\":\"long\",\"nullable\":true,\"metadata\":{}},{\"name\":\"Immersive\",\"type\":\"long\",\"nullable\":true,\"metadata\":{}},{\"name\":\"Immersive Sim\",\"type\":\"long\",\"nullable\":true,\"metadata\":{}},{\"name\":\"Indie\",\"type\":\"long\",\"nullable\":true,\"metadata\":{}},{\"name\":\"Instrumental Music\",\"type\":\"long\",\"nullable\":true,\"metadata\":{}},{\"name\":\"Intentionally Awkward Controls\",\"type\":\"long\",\"nullable\":true,\"metadata\":{}},{\"name\":\"Interactive Fiction\",\"type\":\"long\",\"nullable\":true,\"metadata\":{}},{\"name\":\"Inventory Management\",\"type\":\"long\",\"nullable\":true,\"metadata\":{}},{\"name\":\"Investigation\",\"type\":\"long\",\"nullable\":true,\"metadata\":{}},{\"name\":\"Isometric\",\"type\":\"long\",\"nullable\":true,\"metadata\":{}},{\"name\":\"JRPG\",\"type\":\"long\",\"nullable\":true,\"metadata\":{}},{\"name\":\"Jet\",\"type\":\"long\",\"nullable\":true,\"metadata\":{}},{\"name\":\"Job Simulator\",\"type\":\"long\",\"nullable\":true,\"metadata\":{}},{\"name\":\"Jump Scare\",\"type\":\"long\",\"nullable\":true,\"metadata\":{}},{\"name\":\"Kickstarter\",\"type\":\"long\",\"nullable\":true,\"metadata\":{}},{\"name\":\"LEGO\",\"type\":\"long\",\"nullable\":true,\"metadata\":{}},{\"name\":\"LGBTQ+\",\"type\":\"long\",\"nullable\":true,\"metadata\":{}},{\"name\":\"Lemmings\",\"type\":\"long\",\"nullable\":true,\"metadata\":{}},{\"name\":\"Level Editor\",\"type\":\"long\",\"nullable\":true,\"metadata\":{}},{\"name\":\"Life Sim\",\"type\":\"long\",\"nullable\":true,\"metadata\":{}},{\"name\":\"Linear\",\"type\":\"long\",\"nullable\":true,\"metadata\":{}},{\"name\":\"Local Co-Op\",\"type\":\"long\",\"nullable\":true,\"metadata\":{}},{\"name\":\"Local Multiplayer\",\"type\":\"long\",\"nullable\":true,\"metadata\":{}},{\"name\":\"Logic\",\"type\":\"long\",\"nullable\":true,\"metadata\":{}},{\"name\":\"Loot\",\"type\":\"long\",\"nullable\":true,\"metadata\":{}},{\"name\":\"Looter Shooter\",\"type\":\"long\",\"nullable\":true,\"metadata\":{}},{\"name\":\"Lore-Rich\",\"type\":\"long\",\"nullable\":true,\"metadata\":{}},{\"name\":\"Lovecraftian\",\"type\":\"long\",\"nullable\":true,\"metadata\":{}},{\"name\":\"MMORPG\",\"type\":\"long\",\"nullable\":true,\"metadata\":{}},{\"name\":\"MOBA\",\"type\":\"long\",\"nullable\":true,\"metadata\":{}},{\"name\":\"Magic\",\"type\":\"long\",\"nullable\":true,\"metadata\":{}},{\"name\":\"Mahjong\",\"type\":\"long\",\"nullable\":true,\"metadata\":{}},{\"name\":\"Management\",\"type\":\"long\",\"nullable\":true,\"metadata\":{}},{\"name\":\"Mars\",\"type\":\"long\",\"nullable\":true,\"metadata\":{}},{\"name\":\"Martial Arts\",\"type\":\"long\",\"nullable\":true,\"metadata\":{}},{\"name\":\"Massively Multiplayer\",\"type\":\"long\",\"nullable\":true,\"metadata\":{}},{\"name\":\"Masterpiece\",\"type\":\"long\",\"nullable\":true,\"metadata\":{}},{\"name\":\"Match 3\",\"type\":\"long\",\"nullable\":true,\"metadata\":{}},{\"name\":\"Mature\",\"type\":\"long\",\"nullable\":true,\"metadata\":{}},{\"name\":\"Mechs\",\"type\":\"long\",\"nullable\":true,\"metadata\":{}},{\"name\":\"Medical Sim\",\"type\":\"long\",\"nullable\":true,\"metadata\":{}},{\"name\":\"Medieval\",\"type\":\"long\",\"nullable\":true,\"metadata\":{}},{\"name\":\"Memes\",\"type\":\"long\",\"nullable\":true,\"metadata\":{}},{\"name\":\"Metroidvania\",\"type\":\"long\",\"nullable\":true,\"metadata\":{}},{\"name\":\"Military\",\"type\":\"long\",\"nullable\":true,\"metadata\":{}},{\"name\":\"Mini Golf\",\"type\":\"long\",\"nullable\":true,\"metadata\":{}},{\"name\":\"Minigames\",\"type\":\"long\",\"nullable\":true,\"metadata\":{}},{\"name\":\"Minimalist\",\"type\":\"long\",\"nullable\":true,\"metadata\":{}},{\"name\":\"Mining\",\"type\":\"long\",\"nullable\":true,\"metadata\":{}},{\"name\":\"Mod\",\"type\":\"long\",\"nullable\":true,\"metadata\":{}},{\"name\":\"Moddable\",\"type\":\"long\",\"nullable\":true,\"metadata\":{}},{\"name\":\"Modern\",\"type\":\"long\",\"nullable\":true,\"metadata\":{}},{\"name\":\"Motocross\",\"type\":\"long\",\"nullable\":true,\"metadata\":{}},{\"name\":\"Motorbike\",\"type\":\"long\",\"nullable\":true,\"metadata\":{}},{\"name\":\"Mouse only\",\"type\":\"long\",\"nullable\":true,\"metadata\":{}},{\"name\":\"Movie\",\"type\":\"long\",\"nullable\":true,\"metadata\":{}},{\"name\":\"Multiplayer\",\"type\":\"long\",\"nullable\":true,\"metadata\":{}},{\"name\":\"Multiple Endings\",\"type\":\"long\",\"nullable\":true,\"metadata\":{}},{\"name\":\"Music\",\"type\":\"long\",\"nullable\":true,\"metadata\":{}},{\"name\":\"Music-Based Procedural Generation\",\"type\":\"long\",\"nullable\":true,\"metadata\":{}},{\"name\":\"Musou\",\"type\":\"long\",\"nullable\":true,\"metadata\":{}},{\"name\":\"Mystery\",\"type\":\"long\",\"nullable\":true,\"metadata\":{}},{\"name\":\"Mystery Dungeon\",\"type\":\"long\",\"nullable\":true,\"metadata\":{}},{\"name\":\"Mythology\",\"type\":\"long\",\"nullable\":true,\"metadata\":{}},{\"name\":\"NSFW\",\"type\":\"long\",\"nullable\":true,\"metadata\":{}},{\"name\":\"Narration\",\"type\":\"long\",\"nullable\":true,\"metadata\":{}},{\"name\":\"Narrative\",\"type\":\"long\",\"nullable\":true,\"metadata\":{}},{\"name\":\"Nature\",\"type\":\"long\",\"nullable\":true,\"metadata\":{}},{\"name\":\"Naval\",\"type\":\"long\",\"nullable\":true,\"metadata\":{}},{\"name\":\"Naval Combat\",\"type\":\"long\",\"nullable\":true,\"metadata\":{}},{\"name\":\"Ninja\",\"type\":\"long\",\"nullable\":true,\"metadata\":{}},{\"name\":\"Noir\",\"type\":\"long\",\"nullable\":true,\"metadata\":{}},{\"name\":\"Nonlinear\",\"type\":\"long\",\"nullable\":true,\"metadata\":{}},{\"name\":\"Nostalgia\",\"type\":\"long\",\"nullable\":true,\"metadata\":{}},{\"name\":\"Nudity\",\"type\":\"long\",\"nullable\":true,\"metadata\":{}},{\"name\":\"Offroad\",\"type\":\"long\",\"nullable\":true,\"metadata\":{}},{\"name\":\"Old School\",\"type\":\"long\",\"nullable\":true,\"metadata\":{}},{\"name\":\"On-Rails Shooter\",\"type\":\"long\",\"nullable\":true,\"metadata\":{}},{\"name\":\"Online Co-Op\",\"type\":\"long\",\"nullable\":true,\"metadata\":{}},{\"name\":\"Open World\",\"type\":\"long\",\"nullable\":true,\"metadata\":{}},{\"name\":\"Open World Survival Craft\",\"type\":\"long\",\"nullable\":true,\"metadata\":{}},{\"name\":\"Otome\",\"type\":\"long\",\"nullable\":true,\"metadata\":{}},{\"name\":\"Outbreak Sim\",\"type\":\"long\",\"nullable\":true,\"metadata\":{}},{\"name\":\"Parkour\",\"type\":\"long\",\"nullable\":true,\"metadata\":{}},{\"name\":\"Parody \",\"type\":\"long\",\"nullable\":true,\"metadata\":{}},{\"name\":\"Party\",\"type\":\"long\",\"nullable\":true,\"metadata\":{}},{\"name\":\"Party Game\",\"type\":\"long\",\"nullable\":true,\"metadata\":{}},{\"name\":\"Party-Based RPG\",\"type\":\"long\",\"nullable\":true,\"metadata\":{}},{\"name\":\"Perma Death\",\"type\":\"long\",\"nullable\":true,\"metadata\":{}},{\"name\":\"Philosophical\",\"type\":\"long\",\"nullable\":true,\"metadata\":{}},{\"name\":\"Photo Editing\",\"type\":\"long\",\"nullable\":true,\"metadata\":{}},{\"name\":\"Physics\",\"type\":\"long\",\"nullable\":true,\"metadata\":{}},{\"name\":\"Pinball\",\"type\":\"long\",\"nullable\":true,\"metadata\":{}},{\"name\":\"Pirates\",\"type\":\"long\",\"nullable\":true,\"metadata\":{}},{\"name\":\"Pixel Graphics\",\"type\":\"long\",\"nullable\":true,\"metadata\":{}},{\"name\":\"Platformer\",\"type\":\"long\",\"nullable\":true,\"metadata\":{}},{\"name\":\"Point & Click\",\"type\":\"long\",\"nullable\":true,\"metadata\":{}},{\"name\":\"Political\",\"type\":\"long\",\"nullable\":true,\"metadata\":{}},{\"name\":\"Political Sim\",\"type\":\"long\",\"nullable\":true,\"metadata\":{}},{\"name\":\"Politics\",\"type\":\"long\",\"nullable\":true,\"metadata\":{}},{\"name\":\"Pool\",\"type\":\"long\",\"nullable\":true,\"metadata\":{}},{\"name\":\"Post-apocalyptic\",\"type\":\"long\",\"nullable\":true,\"metadata\":{}},{\"name\":\"Precision Platformer\",\"type\":\"long\",\"nullable\":true,\"metadata\":{}},{\"name\":\"Procedural Generation\",\"type\":\"long\",\"nullable\":true,\"metadata\":{}},{\"name\":\"Programming\",\"type\":\"long\",\"nullable\":true,\"metadata\":{}},{\"name\":\"Psychedelic\",\"type\":\"long\",\"nullable\":true,\"metadata\":{}},{\"name\":\"Psychological\",\"type\":\"long\",\"nullable\":true,\"metadata\":{}},{\"name\":\"Psychological Horror\",\"type\":\"long\",\"nullable\":true,\"metadata\":{}},{\"name\":\"Puzzle\",\"type\":\"long\",\"nullable\":true,\"metadata\":{}},{\"name\":\"Puzzle-Platformer\",\"type\":\"long\",\"nullable\":true,\"metadata\":{}},{\"name\":\"PvE\",\"type\":\"long\",\"nullable\":true,\"metadata\":{}},{\"name\":\"PvP\",\"type\":\"long\",\"nullable\":true,\"metadata\":{}},{\"name\":\"Quick-Time Events\",\"type\":\"long\",\"nullable\":true,\"metadata\":{}},{\"name\":\"RPG\",\"type\":\"long\",\"nullable\":true,\"metadata\":{}},{\"name\":\"RPGMaker\",\"type\":\"long\",\"nullable\":true,\"metadata\":{}},{\"name\":\"RTS\",\"type\":\"long\",\"nullable\":true,\"metadata\":{}},{\"name\":\"Racing\",\"type\":\"long\",\"nullable\":true,\"metadata\":{}},{\"name\":\"Real Time Tactics\",\"type\":\"long\",\"nullable\":true,\"metadata\":{}},{\"name\":\"Real-Time\",\"type\":\"long\",\"nullable\":true,\"metadata\":{}},{\"name\":\"Real-Time with Pause\",\"type\":\"long\",\"nullable\":true,\"metadata\":{}},{\"name\":\"Realistic\",\"type\":\"long\",\"nullable\":true,\"metadata\":{}},{\"name\":\"Reboot\",\"type\":\"long\",\"nullable\":true,\"metadata\":{}},{\"name\":\"Relaxing\",\"type\":\"long\",\"nullable\":true,\"metadata\":{}},{\"name\":\"Remake\",\"type\":\"long\",\"nullable\":true,\"metadata\":{}},{\"name\":\"Replay Value\",\"type\":\"long\",\"nullable\":true,\"metadata\":{}},{\"name\":\"Resource Management\",\"type\":\"long\",\"nullable\":true,\"metadata\":{}},{\"name\":\"Retro\",\"type\":\"long\",\"nullable\":true,\"metadata\":{}},{\"name\":\"Rhythm\",\"type\":\"long\",\"nullable\":true,\"metadata\":{}},{\"name\":\"Robots\",\"type\":\"long\",\"nullable\":true,\"metadata\":{}},{\"name\":\"Rock Music\",\"type\":\"long\",\"nullable\":true,\"metadata\":{}},{\"name\":\"Rogue-like\",\"type\":\"long\",\"nullable\":true,\"metadata\":{}},{\"name\":\"Rogue-lite\",\"type\":\"long\",\"nullable\":true,\"metadata\":{}},{\"name\":\"Roguelike Deckbuilder\",\"type\":\"long\",\"nullable\":true,\"metadata\":{}},{\"name\":\"Roguevania\",\"type\":\"long\",\"nullable\":true,\"metadata\":{}},{\"name\":\"Romance\",\"type\":\"long\",\"nullable\":true,\"metadata\":{}},{\"name\":\"Rome\",\"type\":\"long\",\"nullable\":true,\"metadata\":{}},{\"name\":\"Rugby\",\"type\":\"long\",\"nullable\":true,\"metadata\":{}},{\"name\":\"Runner\",\"type\":\"long\",\"nullable\":true,\"metadata\":{}},{\"name\":\"Sailing\",\"type\":\"long\",\"nullable\":true,\"metadata\":{}},{\"name\":\"Sandbox\",\"type\":\"long\",\"nullable\":true,\"metadata\":{}},{\"name\":\"Satire\",\"type\":\"long\",\"nullable\":true,\"metadata\":{}},{\"name\":\"Sci-fi\",\"type\":\"long\",\"nullable\":true,\"metadata\":{}},{\"name\":\"Science\",\"type\":\"long\",\"nullable\":true,\"metadata\":{}},{\"name\":\"Score Attack\",\"type\":\"long\",\"nullable\":true,\"metadata\":{}},{\"name\":\"Sequel\",\"type\":\"long\",\"nullable\":true,\"metadata\":{}},{\"name\":\"Sexual Content\",\"type\":\"long\",\"nullable\":true,\"metadata\":{}},{\"name\":\"Shoot 'Em Up\",\"type\":\"long\",\"nullable\":true,\"metadata\":{}},{\"name\":\"Shooter\",\"type\":\"long\",\"nullable\":true,\"metadata\":{}},{\"name\":\"Shop Keeper\",\"type\":\"long\",\"nullable\":true,\"metadata\":{}},{\"name\":\"Short\",\"type\":\"long\",\"nullable\":true,\"metadata\":{}},{\"name\":\"Side Scroller\",\"type\":\"long\",\"nullable\":true,\"metadata\":{}},{\"name\":\"Silent Protagonist\",\"type\":\"long\",\"nullable\":true,\"metadata\":{}},{\"name\":\"Simulation\",\"type\":\"long\",\"nullable\":true,\"metadata\":{}},{\"name\":\"Singleplayer\",\"type\":\"long\",\"nullable\":true,\"metadata\":{}},{\"name\":\"Skateboarding\",\"type\":\"long\",\"nullable\":true,\"metadata\":{}},{\"name\":\"Skating\",\"type\":\"long\",\"nullable\":true,\"metadata\":{}},{\"name\":\"Skiing\",\"type\":\"long\",\"nullable\":true,\"metadata\":{}},{\"name\":\"Sniper\",\"type\":\"long\",\"nullable\":true,\"metadata\":{}},{\"name\":\"Snooker\",\"type\":\"long\",\"nullable\":true,\"metadata\":{}},{\"name\":\"Snow\",\"type\":\"long\",\"nullable\":true,\"metadata\":{}},{\"name\":\"Snowboarding\",\"type\":\"long\",\"nullable\":true,\"metadata\":{}},{\"name\":\"Soccer\",\"type\":\"long\",\"nullable\":true,\"metadata\":{}},{\"name\":\"Social Deduction\",\"type\":\"long\",\"nullable\":true,\"metadata\":{}},{\"name\":\"Software\",\"type\":\"long\",\"nullable\":true,\"metadata\":{}},{\"name\":\"Software Training\",\"type\":\"long\",\"nullable\":true,\"metadata\":{}},{\"name\":\"Sokoban\",\"type\":\"long\",\"nullable\":true,\"metadata\":{}},{\"name\":\"Solitaire\",\"type\":\"long\",\"nullable\":true,\"metadata\":{}},{\"name\":\"Souls-like\",\"type\":\"long\",\"nullable\":true,\"metadata\":{}},{\"name\":\"Soundtrack\",\"type\":\"long\",\"nullable\":true,\"metadata\":{}},{\"name\":\"Space\",\"type\":\"long\",\"nullable\":true,\"metadata\":{}},{\"name\":\"Space Sim\",\"type\":\"long\",\"nullable\":true,\"metadata\":{}},{\"name\":\"Spaceships\",\"type\":\"long\",\"nullable\":true,\"metadata\":{}},{\"name\":\"Spectacle fighter\",\"type\":\"long\",\"nullable\":true,\"metadata\":{}},{\"name\":\"Spelling\",\"type\":\"long\",\"nullable\":true,\"metadata\":{}},{\"name\":\"Split Screen\",\"type\":\"long\",\"nullable\":true,\"metadata\":{}},{\"name\":\"Sports\",\"type\":\"long\",\"nullable\":true,\"metadata\":{}},{\"name\":\"Stealth\",\"type\":\"long\",\"nullable\":true,\"metadata\":{}},{\"name\":\"Steam Machine\",\"type\":\"long\",\"nullable\":true,\"metadata\":{}},{\"name\":\"Steampunk\",\"type\":\"long\",\"nullable\":true,\"metadata\":{}},{\"name\":\"Story Rich\",\"type\":\"long\",\"nullable\":true,\"metadata\":{}},{\"name\":\"Strategy\",\"type\":\"long\",\"nullable\":true,\"metadata\":{}},{\"name\":\"Strategy RPG\",\"type\":\"long\",\"nullable\":true,\"metadata\":{}},{\"name\":\"Stylized\",\"type\":\"long\",\"nullable\":true,\"metadata\":{}},{\"name\":\"Submarine\",\"type\":\"long\",\"nullable\":true,\"metadata\":{}},{\"name\":\"Superhero\",\"type\":\"long\",\"nullable\":true,\"metadata\":{}},{\"name\":\"Supernatural\",\"type\":\"long\",\"nullable\":true,\"metadata\":{}},{\"name\":\"Surreal\",\"type\":\"long\",\"nullable\":true,\"metadata\":{}},{\"name\":\"Survival\",\"type\":\"long\",\"nullable\":true,\"metadata\":{}},{\"name\":\"Survival Horror\",\"type\":\"long\",\"nullable\":true,\"metadata\":{}},{\"name\":\"Swordplay\",\"type\":\"long\",\"nullable\":true,\"metadata\":{}},{\"name\":\"Tabletop\",\"type\":\"long\",\"nullable\":true,\"metadata\":{}},{\"name\":\"Tactical\",\"type\":\"long\",\"nullable\":true,\"metadata\":{}},{\"name\":\"Tactical RPG\",\"type\":\"long\",\"nullable\":true,\"metadata\":{}},{\"name\":\"Tanks\",\"type\":\"long\",\"nullable\":true,\"metadata\":{}},{\"name\":\"Team-Based\",\"type\":\"long\",\"nullable\":true,\"metadata\":{}},{\"name\":\"Tennis\",\"type\":\"long\",\"nullable\":true,\"metadata\":{}},{\"name\":\"Text-Based\",\"type\":\"long\",\"nullable\":true,\"metadata\":{}},{\"name\":\"Third Person\",\"type\":\"long\",\"nullable\":true,\"metadata\":{}},{\"name\":\"Third-Person Shooter\",\"type\":\"long\",\"nullable\":true,\"metadata\":{}},{\"name\":\"Thriller\",\"type\":\"long\",\"nullable\":true,\"metadata\":{}},{\"name\":\"Tile-Matching\",\"type\":\"long\",\"nullable\":true,\"metadata\":{}},{\"name\":\"Time Attack\",\"type\":\"long\",\"nullable\":true,\"metadata\":{}},{\"name\":\"Time Management\",\"type\":\"long\",\"nullable\":true,\"metadata\":{}},{\"name\":\"Time Manipulation\",\"type\":\"long\",\"nullable\":true,\"metadata\":{}},{\"name\":\"Time Travel\",\"type\":\"long\",\"nullable\":true,\"metadata\":{}},{\"name\":\"Top-Down\",\"type\":\"long\",\"nullable\":true,\"metadata\":{}},{\"name\":\"Top-Down Shooter\",\"type\":\"long\",\"nullable\":true,\"metadata\":{}},{\"name\":\"Touch-Friendly\",\"type\":\"long\",\"nullable\":true,\"metadata\":{}},{\"name\":\"Tower Defense\",\"type\":\"long\",\"nullable\":true,\"metadata\":{}},{\"name\":\"TrackIR\",\"type\":\"long\",\"nullable\":true,\"metadata\":{}},{\"name\":\"Trading\",\"type\":\"long\",\"nullable\":true,\"metadata\":{}},{\"name\":\"Trading Card Game\",\"type\":\"long\",\"nullable\":true,\"metadata\":{}},{\"name\":\"Traditional Roguelike\",\"type\":\"long\",\"nullable\":true,\"metadata\":{}},{\"name\":\"Trains\",\"type\":\"long\",\"nullable\":true,\"metadata\":{}},{\"name\":\"Transhumanism\",\"type\":\"long\",\"nullable\":true,\"metadata\":{}},{\"name\":\"Transportation\",\"type\":\"long\",\"nullable\":true,\"metadata\":{}},{\"name\":\"Trivia\",\"type\":\"long\",\"nullable\":true,\"metadata\":{}},{\"name\":\"Turn-Based\",\"type\":\"long\",\"nullable\":true,\"metadata\":{}},{\"name\":\"Turn-Based Combat\",\"type\":\"long\",\"nullable\":true,\"metadata\":{}},{\"name\":\"Turn-Based Strategy\",\"type\":\"long\",\"nullable\":true,\"metadata\":{}},{\"name\":\"Turn-Based Tactics\",\"type\":\"long\",\"nullable\":true,\"metadata\":{}},{\"name\":\"Tutorial\",\"type\":\"long\",\"nullable\":true,\"metadata\":{}},{\"name\":\"Twin Stick Shooter\",\"type\":\"long\",\"nullable\":true,\"metadata\":{}},{\"name\":\"Typing\",\"type\":\"long\",\"nullable\":true,\"metadata\":{}},{\"name\":\"Underground\",\"type\":\"long\",\"nullable\":true,\"metadata\":{}},{\"name\":\"Underwater\",\"type\":\"long\",\"nullable\":true,\"metadata\":{}},{\"name\":\"Unforgiving\",\"type\":\"long\",\"nullable\":true,\"metadata\":{}},{\"name\":\"Utilities\",\"type\":\"long\",\"nullable\":true,\"metadata\":{}},{\"name\":\"VR\",\"type\":\"long\",\"nullable\":true,\"metadata\":{}},{\"name\":\"VR Only\",\"type\":\"long\",\"nullable\":true,\"metadata\":{}},{\"name\":\"Vampire\",\"type\":\"long\",\"nullable\":true,\"metadata\":{}},{\"name\":\"Vehicular Combat\",\"type\":\"long\",\"nullable\":true,\"metadata\":{}},{\"name\":\"Video Production\",\"type\":\"long\",\"nullable\":true,\"metadata\":{}},{\"name\":\"Vikings\",\"type\":\"long\",\"nullable\":true,\"metadata\":{}},{\"name\":\"Villain Protagonist\",\"type\":\"long\",\"nullable\":true,\"metadata\":{}},{\"name\":\"Violent\",\"type\":\"long\",\"nullable\":true,\"metadata\":{}},{\"name\":\"Visual Novel\",\"type\":\"long\",\"nullable\":true,\"metadata\":{}},{\"name\":\"Voice Control\",\"type\":\"long\",\"nullable\":true,\"metadata\":{}},{\"name\":\"Volleyball\",\"type\":\"long\",\"nullable\":true,\"metadata\":{}},{\"name\":\"Voxel\",\"type\":\"long\",\"nullable\":true,\"metadata\":{}},{\"name\":\"Walking Simulator\",\"type\":\"long\",\"nullable\":true,\"metadata\":{}},{\"name\":\"War\",\"type\":\"long\",\"nullable\":true,\"metadata\":{}},{\"name\":\"Wargame\",\"type\":\"long\",\"nullable\":true,\"metadata\":{}},{\"name\":\"Warhammer 40K\",\"type\":\"long\",\"nullable\":true,\"metadata\":{}},{\"name\":\"Web Publishing\",\"type\":\"long\",\"nullable\":true,\"metadata\":{}},{\"name\":\"Well-Written\",\"type\":\"long\",\"nullable\":true,\"metadata\":{}},{\"name\":\"Werewolves\",\"type\":\"long\",\"nullable\":true,\"metadata\":{}},{\"name\":\"Western\",\"type\":\"long\",\"nullable\":true,\"metadata\":{}},{\"name\":\"Wholesome\",\"type\":\"long\",\"nullable\":true,\"metadata\":{}},{\"name\":\"Word Game\",\"type\":\"long\",\"nullable\":true,\"metadata\":{}},{\"name\":\"World War I\",\"type\":\"long\",\"nullable\":true,\"metadata\":{}},{\"name\":\"World War II\",\"type\":\"long\",\"nullable\":true,\"metadata\":{}},{\"name\":\"Wrestling\",\"type\":\"long\",\"nullable\":true,\"metadata\":{}},{\"name\":\"Zombies\",\"type\":\"long\",\"nullable\":true,\"metadata\":{}},{\"name\":\"e-sports\",\"type\":\"long\",\"nullable\":true,\"metadata\":{}}]}"
        },
        {
         "metadata": "{}",
         "name": "type",
         "type": "\"string\""
        },
        {
         "metadata": "{}",
         "name": "website",
         "type": "\"string\""
        }
       ],
       "type": "table"
      }
     },
     "output_type": "display_data"
    },
    {
     "name": "stdout",
     "output_type": "stream",
     "text": [
      "root\n",
      " |-- appid: long (nullable = true)\n",
      " |-- categories: array (nullable = true)\n",
      " |    |-- element: string (containsNull = true)\n",
      " |-- ccu: long (nullable = true)\n",
      " |-- developer: string (nullable = true)\n",
      " |-- discount: string (nullable = true)\n",
      " |-- genre: string (nullable = true)\n",
      " |-- header_image: string (nullable = true)\n",
      " |-- initialprice: string (nullable = true)\n",
      " |-- languages: string (nullable = true)\n",
      " |-- name: string (nullable = true)\n",
      " |-- negative: long (nullable = true)\n",
      " |-- owners: string (nullable = true)\n",
      " |-- platforms: struct (nullable = true)\n",
      " |    |-- linux: boolean (nullable = true)\n",
      " |    |-- mac: boolean (nullable = true)\n",
      " |    |-- windows: boolean (nullable = true)\n",
      " |-- positive: long (nullable = true)\n",
      " |-- price: string (nullable = true)\n",
      " |-- publisher: string (nullable = true)\n",
      " |-- release_date: string (nullable = true)\n",
      " |-- required_age: string (nullable = true)\n",
      " |-- short_description: string (nullable = true)\n",
      " |-- tags: struct (nullable = true)\n",
      " |    |-- 1980s: long (nullable = true)\n",
      " |    |-- 1990's: long (nullable = true)\n",
      " |    |-- 2.5D: long (nullable = true)\n",
      " |    |-- 2D: long (nullable = true)\n",
      " |    |-- 2D Fighter: long (nullable = true)\n",
      " |    |-- 2D Platformer: long (nullable = true)\n",
      " |    |-- 360 Video: long (nullable = true)\n",
      " |    |-- 3D: long (nullable = true)\n",
      " |    |-- 3D Fighter: long (nullable = true)\n",
      " |    |-- 3D Platformer: long (nullable = true)\n",
      " |    |-- 3D Vision: long (nullable = true)\n",
      " |    |-- 4 Player Local: long (nullable = true)\n",
      " |    |-- 4X: long (nullable = true)\n",
      " |    |-- 6DOF: long (nullable = true)\n",
      " |    |-- 8-bit Music: long (nullable = true)\n",
      " |    |-- ATV: long (nullable = true)\n",
      " |    |-- Abstract: long (nullable = true)\n",
      " |    |-- Action: long (nullable = true)\n",
      " |    |-- Action RPG: long (nullable = true)\n",
      " |    |-- Action RTS: long (nullable = true)\n",
      " |    |-- Action Roguelike: long (nullable = true)\n",
      " |    |-- Action-Adventure: long (nullable = true)\n",
      " |    |-- Addictive: long (nullable = true)\n",
      " |    |-- Adventure: long (nullable = true)\n",
      " |    |-- Agriculture: long (nullable = true)\n",
      " |    |-- Aliens: long (nullable = true)\n",
      " |    |-- Alternate History: long (nullable = true)\n",
      " |    |-- Ambient: long (nullable = true)\n",
      " |    |-- America: long (nullable = true)\n",
      " |    |-- Animation & Modeling: long (nullable = true)\n",
      " |    |-- Anime: long (nullable = true)\n",
      " |    |-- Arcade: long (nullable = true)\n",
      " |    |-- Archery: long (nullable = true)\n",
      " |    |-- Arena Shooter: long (nullable = true)\n",
      " |    |-- Artificial Intelligence: long (nullable = true)\n",
      " |    |-- Assassin: long (nullable = true)\n",
      " |    |-- Asymmetric VR: long (nullable = true)\n",
      " |    |-- Asynchronous Multiplayer: long (nullable = true)\n",
      " |    |-- Atmospheric: long (nullable = true)\n",
      " |    |-- Audio Production: long (nullable = true)\n",
      " |    |-- Auto Battler: long (nullable = true)\n",
      " |    |-- Automation: long (nullable = true)\n",
      " |    |-- Automobile Sim: long (nullable = true)\n",
      " |    |-- BMX: long (nullable = true)\n",
      " |    |-- Base-Building: long (nullable = true)\n",
      " |    |-- Baseball: long (nullable = true)\n",
      " |    |-- Based On A Novel: long (nullable = true)\n",
      " |    |-- Basketball: long (nullable = true)\n",
      " |    |-- Battle Royale: long (nullable = true)\n",
      " |    |-- Beat 'em up: long (nullable = true)\n",
      " |    |-- Beautiful: long (nullable = true)\n",
      " |    |-- Benchmark: long (nullable = true)\n",
      " |    |-- Bikes: long (nullable = true)\n",
      " |    |-- Blood: long (nullable = true)\n",
      " |    |-- Board Game: long (nullable = true)\n",
      " |    |-- Boss Rush: long (nullable = true)\n",
      " |    |-- Bowling: long (nullable = true)\n",
      " |    |-- Boxing: long (nullable = true)\n",
      " |    |-- Building: long (nullable = true)\n",
      " |    |-- Bullet Hell: long (nullable = true)\n",
      " |    |-- Bullet Time: long (nullable = true)\n",
      " |    |-- CRPG: long (nullable = true)\n",
      " |    |-- Capitalism: long (nullable = true)\n",
      " |    |-- Card Battler: long (nullable = true)\n",
      " |    |-- Card Game: long (nullable = true)\n",
      " |    |-- Cartoon: long (nullable = true)\n",
      " |    |-- Cartoony: long (nullable = true)\n",
      " |    |-- Casual: long (nullable = true)\n",
      " |    |-- Cats: long (nullable = true)\n",
      " |    |-- Character Action Game: long (nullable = true)\n",
      " |    |-- Character Customization: long (nullable = true)\n",
      " |    |-- Chess: long (nullable = true)\n",
      " |    |-- Choices Matter: long (nullable = true)\n",
      " |    |-- Choose Your Own Adventure: long (nullable = true)\n",
      " |    |-- Cinematic: long (nullable = true)\n",
      " |    |-- City Builder: long (nullable = true)\n",
      " |    |-- Class-Based: long (nullable = true)\n",
      " |    |-- Classic: long (nullable = true)\n",
      " |    |-- Clicker: long (nullable = true)\n",
      " |    |-- Co-op: long (nullable = true)\n",
      " |    |-- Co-op Campaign: long (nullable = true)\n",
      " |    |-- Coding: long (nullable = true)\n",
      " |    |-- Cold War: long (nullable = true)\n",
      " |    |-- Collectathon: long (nullable = true)\n",
      " |    |-- Colony Sim: long (nullable = true)\n",
      " |    |-- Colorful: long (nullable = true)\n",
      " |    |-- Combat: long (nullable = true)\n",
      " |    |-- Combat Racing: long (nullable = true)\n",
      " |    |-- Comedy: long (nullable = true)\n",
      " |    |-- Comic Book: long (nullable = true)\n",
      " |    |-- Competitive: long (nullable = true)\n",
      " |    |-- Conspiracy: long (nullable = true)\n",
      " |    |-- Controller: long (nullable = true)\n",
      " |    |-- Conversation: long (nullable = true)\n",
      " |    |-- Cooking: long (nullable = true)\n",
      " |    |-- Cozy: long (nullable = true)\n",
      " |    |-- Crafting: long (nullable = true)\n",
      " |    |-- Creature Collector: long (nullable = true)\n",
      " |    |-- Cricket: long (nullable = true)\n",
      " |    |-- Crime: long (nullable = true)\n",
      " |    |-- Crowdfunded: long (nullable = true)\n",
      " |    |-- Cult Classic: long (nullable = true)\n",
      " |    |-- Cute: long (nullable = true)\n",
      " |    |-- Cyberpunk: long (nullable = true)\n",
      " |    |-- Cycling: long (nullable = true)\n",
      " |    |-- Dark: long (nullable = true)\n",
      " |    |-- Dark Comedy: long (nullable = true)\n",
      " |    |-- Dark Fantasy: long (nullable = true)\n",
      " |    |-- Dark Humor: long (nullable = true)\n",
      " |    |-- Dating Sim: long (nullable = true)\n",
      " |    |-- Deckbuilding: long (nullable = true)\n",
      " |    |-- Demons: long (nullable = true)\n",
      " |    |-- Design & Illustration: long (nullable = true)\n",
      " |    |-- Destruction: long (nullable = true)\n",
      " |    |-- Detective: long (nullable = true)\n",
      " |    |-- Difficult: long (nullable = true)\n",
      " |    |-- Dinosaurs: long (nullable = true)\n",
      " |    |-- Diplomacy: long (nullable = true)\n",
      " |    |-- Documentary: long (nullable = true)\n",
      " |    |-- Dog: long (nullable = true)\n",
      " |    |-- Dragons: long (nullable = true)\n",
      " |    |-- Drama: long (nullable = true)\n",
      " |    |-- Driving: long (nullable = true)\n",
      " |    |-- Dungeon Crawler: long (nullable = true)\n",
      " |    |-- Dungeons & Dragons: long (nullable = true)\n",
      " |    |-- Dynamic Narration: long (nullable = true)\n",
      " |    |-- Dystopian : long (nullable = true)\n",
      " |    |-- Early Access: long (nullable = true)\n",
      " |    |-- Economy: long (nullable = true)\n",
      " |    |-- Education: long (nullable = true)\n",
      " |    |-- Electronic: long (nullable = true)\n",
      " |    |-- Electronic Music: long (nullable = true)\n",
      " |    |-- Emotional: long (nullable = true)\n",
      " |    |-- Epic: long (nullable = true)\n",
      " |    |-- Episodic: long (nullable = true)\n",
      " |    |-- Escape Room: long (nullable = true)\n",
      " |    |-- Experience: long (nullable = true)\n",
      " |    |-- Experimental: long (nullable = true)\n",
      " |    |-- Exploration: long (nullable = true)\n",
      " |    |-- FMV: long (nullable = true)\n",
      " |    |-- FPS: long (nullable = true)\n",
      " |    |-- Faith: long (nullable = true)\n",
      " |    |-- Family Friendly: long (nullable = true)\n",
      " |    |-- Fantasy: long (nullable = true)\n",
      " |    |-- Farming: long (nullable = true)\n",
      " |    |-- Farming Sim: long (nullable = true)\n",
      " |    |-- Fast-Paced: long (nullable = true)\n",
      " |    |-- Feature Film: long (nullable = true)\n",
      " |    |-- Female Protagonist: long (nullable = true)\n",
      " |    |-- Fighting: long (nullable = true)\n",
      " |    |-- First-Person: long (nullable = true)\n",
      " |    |-- Fishing: long (nullable = true)\n",
      " |    |-- Flight: long (nullable = true)\n",
      " |    |-- Football: long (nullable = true)\n",
      " |    |-- Foreign: long (nullable = true)\n",
      " |    |-- Free to Play: long (nullable = true)\n",
      " |    |-- Funny: long (nullable = true)\n",
      " |    |-- Futuristic: long (nullable = true)\n",
      " |    |-- Gambling: long (nullable = true)\n",
      " |    |-- Game Development: long (nullable = true)\n",
      " |    |-- GameMaker: long (nullable = true)\n",
      " |    |-- Games Workshop: long (nullable = true)\n",
      " |    |-- Gaming: long (nullable = true)\n",
      " |    |-- God Game: long (nullable = true)\n",
      " |    |-- Golf: long (nullable = true)\n",
      " |    |-- Gore: long (nullable = true)\n",
      " |    |-- Gothic: long (nullable = true)\n",
      " |    |-- Grand Strategy: long (nullable = true)\n",
      " |    |-- Great Soundtrack: long (nullable = true)\n",
      " |    |-- Grid-Based Movement: long (nullable = true)\n",
      " |    |-- Gun Customization: long (nullable = true)\n",
      " |    |-- Hack and Slash: long (nullable = true)\n",
      " |    |-- Hacking: long (nullable = true)\n",
      " |    |-- Hand-drawn: long (nullable = true)\n",
      " |    |-- Hardware: long (nullable = true)\n",
      " |    |-- Heist: long (nullable = true)\n",
      " |    |-- Hentai: long (nullable = true)\n",
      " |    |-- Hero Shooter: long (nullable = true)\n",
      " |    |-- Hex Grid: long (nullable = true)\n",
      " |    |-- Hidden Object: long (nullable = true)\n",
      " |    |-- Historical: long (nullable = true)\n",
      " |    |-- Hockey: long (nullable = true)\n",
      " |    |-- Horror: long (nullable = true)\n",
      " |    |-- Horses: long (nullable = true)\n",
      " |    |-- Hunting: long (nullable = true)\n",
      " |    |-- Idler: long (nullable = true)\n",
      " |    |-- Illuminati: long (nullable = true)\n",
      " |    |-- Immersive: long (nullable = true)\n",
      " |    |-- Immersive Sim: long (nullable = true)\n",
      " |    |-- Indie: long (nullable = true)\n",
      " |    |-- Instrumental Music: long (nullable = true)\n",
      " |    |-- Intentionally Awkward Controls: long (nullable = true)\n",
      " |    |-- Interactive Fiction: long (nullable = true)\n",
      " |    |-- Inventory Management: long (nullable = true)\n",
      " |    |-- Investigation: long (nullable = true)\n",
      " |    |-- Isometric: long (nullable = true)\n",
      " |    |-- JRPG: long (nullable = true)\n",
      " |    |-- Jet: long (nullable = true)\n",
      " |    |-- Job Simulator: long (nullable = true)\n",
      " |    |-- Jump Scare: long (nullable = true)\n",
      " |    |-- Kickstarter: long (nullable = true)\n",
      " |    |-- LEGO: long (nullable = true)\n",
      " |    |-- LGBTQ+: long (nullable = true)\n",
      " |    |-- Lemmings: long (nullable = true)\n",
      " |    |-- Level Editor: long (nullable = true)\n",
      " |    |-- Life Sim: long (nullable = true)\n",
      " |    |-- Linear: long (nullable = true)\n",
      " |    |-- Local Co-Op: long (nullable = true)\n",
      " |    |-- Local Multiplayer: long (nullable = true)\n",
      " |    |-- Logic: long (nullable = true)\n",
      " |    |-- Loot: long (nullable = true)\n",
      " |    |-- Looter Shooter: long (nullable = true)\n",
      " |    |-- Lore-Rich: long (nullable = true)\n",
      " |    |-- Lovecraftian: long (nullable = true)\n",
      " |    |-- MMORPG: long (nullable = true)\n",
      " |    |-- MOBA: long (nullable = true)\n",
      " |    |-- Magic: long (nullable = true)\n",
      " |    |-- Mahjong: long (nullable = true)\n",
      " |    |-- Management: long (nullable = true)\n",
      " |    |-- Mars: long (nullable = true)\n",
      " |    |-- Martial Arts: long (nullable = true)\n",
      " |    |-- Massively Multiplayer: long (nullable = true)\n",
      " |    |-- Masterpiece: long (nullable = true)\n",
      " |    |-- Match 3: long (nullable = true)\n",
      " |    |-- Mature: long (nullable = true)\n",
      " |    |-- Mechs: long (nullable = true)\n",
      " |    |-- Medical Sim: long (nullable = true)\n",
      " |    |-- Medieval: long (nullable = true)\n",
      " |    |-- Memes: long (nullable = true)\n",
      " |    |-- Metroidvania: long (nullable = true)\n",
      " |    |-- Military: long (nullable = true)\n",
      " |    |-- Mini Golf: long (nullable = true)\n",
      " |    |-- Minigames: long (nullable = true)\n",
      " |    |-- Minimalist: long (nullable = true)\n",
      " |    |-- Mining: long (nullable = true)\n",
      " |    |-- Mod: long (nullable = true)\n",
      " |    |-- Moddable: long (nullable = true)\n",
      " |    |-- Modern: long (nullable = true)\n",
      " |    |-- Motocross: long (nullable = true)\n",
      " |    |-- Motorbike: long (nullable = true)\n",
      " |    |-- Mouse only: long (nullable = true)\n",
      " |    |-- Movie: long (nullable = true)\n",
      " |    |-- Multiplayer: long (nullable = true)\n",
      " |    |-- Multiple Endings: long (nullable = true)\n",
      " |    |-- Music: long (nullable = true)\n",
      " |    |-- Music-Based Procedural Generation: long (nullable = true)\n",
      " |    |-- Musou: long (nullable = true)\n",
      " |    |-- Mystery: long (nullable = true)\n",
      " |    |-- Mystery Dungeon: long (nullable = true)\n",
      " |    |-- Mythology: long (nullable = true)\n",
      " |    |-- NSFW: long (nullable = true)\n",
      " |    |-- Narration: long (nullable = true)\n",
      " |    |-- Narrative: long (nullable = true)\n",
      " |    |-- Nature: long (nullable = true)\n",
      " |    |-- Naval: long (nullable = true)\n",
      " |    |-- Naval Combat: long (nullable = true)\n",
      " |    |-- Ninja: long (nullable = true)\n",
      " |    |-- Noir: long (nullable = true)\n",
      " |    |-- Nonlinear: long (nullable = true)\n",
      " |    |-- Nostalgia: long (nullable = true)\n",
      " |    |-- Nudity: long (nullable = true)\n",
      " |    |-- Offroad: long (nullable = true)\n",
      " |    |-- Old School: long (nullable = true)\n",
      " |    |-- On-Rails Shooter: long (nullable = true)\n",
      " |    |-- Online Co-Op: long (nullable = true)\n",
      " |    |-- Open World: long (nullable = true)\n",
      " |    |-- Open World Survival Craft: long (nullable = true)\n",
      " |    |-- Otome: long (nullable = true)\n",
      " |    |-- Outbreak Sim: long (nullable = true)\n",
      " |    |-- Parkour: long (nullable = true)\n",
      " |    |-- Parody : long (nullable = true)\n",
      " |    |-- Party: long (nullable = true)\n",
      " |    |-- Party Game: long (nullable = true)\n",
      " |    |-- Party-Based RPG: long (nullable = true)\n",
      " |    |-- Perma Death: long (nullable = true)\n",
      " |    |-- Philosophical: long (nullable = true)\n",
      " |    |-- Photo Editing: long (nullable = true)\n",
      " |    |-- Physics: long (nullable = true)\n",
      " |    |-- Pinball: long (nullable = true)\n",
      " |    |-- Pirates: long (nullable = true)\n",
      " |    |-- Pixel Graphics: long (nullable = true)\n",
      " |    |-- Platformer: long (nullable = true)\n",
      " |    |-- Point & Click: long (nullable = true)\n",
      " |    |-- Political: long (nullable = true)\n",
      " |    |-- Political Sim: long (nullable = true)\n",
      " |    |-- Politics: long (nullable = true)\n",
      " |    |-- Pool: long (nullable = true)\n",
      " |    |-- Post-apocalyptic: long (nullable = true)\n",
      " |    |-- Precision Platformer: long (nullable = true)\n",
      " |    |-- Procedural Generation: long (nullable = true)\n",
      " |    |-- Programming: long (nullable = true)\n",
      " |    |-- Psychedelic: long (nullable = true)\n",
      " |    |-- Psychological: long (nullable = true)\n",
      " |    |-- Psychological Horror: long (nullable = true)\n",
      " |    |-- Puzzle: long (nullable = true)\n",
      " |    |-- Puzzle-Platformer: long (nullable = true)\n",
      " |    |-- PvE: long (nullable = true)\n",
      " |    |-- PvP: long (nullable = true)\n",
      " |    |-- Quick-Time Events: long (nullable = true)\n",
      " |    |-- RPG: long (nullable = true)\n",
      " |    |-- RPGMaker: long (nullable = true)\n",
      " |    |-- RTS: long (nullable = true)\n",
      " |    |-- Racing: long (nullable = true)\n",
      " |    |-- Real Time Tactics: long (nullable = true)\n",
      " |    |-- Real-Time: long (nullable = true)\n",
      " |    |-- Real-Time with Pause: long (nullable = true)\n",
      " |    |-- Realistic: long (nullable = true)\n",
      " |    |-- Reboot: long (nullable = true)\n",
      " |    |-- Relaxing: long (nullable = true)\n",
      " |    |-- Remake: long (nullable = true)\n",
      " |    |-- Replay Value: long (nullable = true)\n",
      " |    |-- Resource Management: long (nullable = true)\n",
      " |    |-- Retro: long (nullable = true)\n",
      " |    |-- Rhythm: long (nullable = true)\n",
      " |    |-- Robots: long (nullable = true)\n",
      " |    |-- Rock Music: long (nullable = true)\n",
      " |    |-- Rogue-like: long (nullable = true)\n",
      " |    |-- Rogue-lite: long (nullable = true)\n",
      " |    |-- Roguelike Deckbuilder: long (nullable = true)\n",
      " |    |-- Roguevania: long (nullable = true)\n",
      " |    |-- Romance: long (nullable = true)\n",
      " |    |-- Rome: long (nullable = true)\n",
      " |    |-- Rugby: long (nullable = true)\n",
      " |    |-- Runner: long (nullable = true)\n",
      " |    |-- Sailing: long (nullable = true)\n",
      " |    |-- Sandbox: long (nullable = true)\n",
      " |    |-- Satire: long (nullable = true)\n",
      " |    |-- Sci-fi: long (nullable = true)\n",
      " |    |-- Science: long (nullable = true)\n",
      " |    |-- Score Attack: long (nullable = true)\n",
      " |    |-- Sequel: long (nullable = true)\n",
      " |    |-- Sexual Content: long (nullable = true)\n",
      " |    |-- Shoot 'Em Up: long (nullable = true)\n",
      " |    |-- Shooter: long (nullable = true)\n",
      " |    |-- Shop Keeper: long (nullable = true)\n",
      " |    |-- Short: long (nullable = true)\n",
      " |    |-- Side Scroller: long (nullable = true)\n",
      " |    |-- Silent Protagonist: long (nullable = true)\n",
      " |    |-- Simulation: long (nullable = true)\n",
      " |    |-- Singleplayer: long (nullable = true)\n",
      " |    |-- Skateboarding: long (nullable = true)\n",
      " |    |-- Skating: long (nullable = true)\n",
      " |    |-- Skiing: long (nullable = true)\n",
      " |    |-- Sniper: long (nullable = true)\n",
      " |    |-- Snooker: long (nullable = true)\n",
      " |    |-- Snow: long (nullable = true)\n",
      " |    |-- Snowboarding: long (nullable = true)\n",
      " |    |-- Soccer: long (nullable = true)\n",
      " |    |-- Social Deduction: long (nullable = true)\n",
      " |    |-- Software: long (nullable = true)\n",
      " |    |-- Software Training: long (nullable = true)\n",
      " |    |-- Sokoban: long (nullable = true)\n",
      " |    |-- Solitaire: long (nullable = true)\n",
      " |    |-- Souls-like: long (nullable = true)\n",
      " |    |-- Soundtrack: long (nullable = true)\n",
      " |    |-- Space: long (nullable = true)\n",
      " |    |-- Space Sim: long (nullable = true)\n",
      " |    |-- Spaceships: long (nullable = true)\n",
      " |    |-- Spectacle fighter: long (nullable = true)\n",
      " |    |-- Spelling: long (nullable = true)\n",
      " |    |-- Split Screen: long (nullable = true)\n",
      " |    |-- Sports: long (nullable = true)\n",
      " |    |-- Stealth: long (nullable = true)\n",
      " |    |-- Steam Machine: long (nullable = true)\n",
      " |    |-- Steampunk: long (nullable = true)\n",
      " |    |-- Story Rich: long (nullable = true)\n",
      " |    |-- Strategy: long (nullable = true)\n",
      " |    |-- Strategy RPG: long (nullable = true)\n",
      " |    |-- Stylized: long (nullable = true)\n",
      " |    |-- Submarine: long (nullable = true)\n",
      " |    |-- Superhero: long (nullable = true)\n",
      " |    |-- Supernatural: long (nullable = true)\n",
      " |    |-- Surreal: long (nullable = true)\n",
      " |    |-- Survival: long (nullable = true)\n",
      " |    |-- Survival Horror: long (nullable = true)\n",
      " |    |-- Swordplay: long (nullable = true)\n",
      " |    |-- Tabletop: long (nullable = true)\n",
      " |    |-- Tactical: long (nullable = true)\n",
      " |    |-- Tactical RPG: long (nullable = true)\n",
      " |    |-- Tanks: long (nullable = true)\n",
      " |    |-- Team-Based: long (nullable = true)\n",
      " |    |-- Tennis: long (nullable = true)\n",
      " |    |-- Text-Based: long (nullable = true)\n",
      " |    |-- Third Person: long (nullable = true)\n",
      " |    |-- Third-Person Shooter: long (nullable = true)\n",
      " |    |-- Thriller: long (nullable = true)\n",
      " |    |-- Tile-Matching: long (nullable = true)\n",
      " |    |-- Time Attack: long (nullable = true)\n",
      " |    |-- Time Management: long (nullable = true)\n",
      " |    |-- Time Manipulation: long (nullable = true)\n",
      " |    |-- Time Travel: long (nullable = true)\n",
      " |    |-- Top-Down: long (nullable = true)\n",
      " |    |-- Top-Down Shooter: long (nullable = true)\n",
      " |    |-- Touch-Friendly: long (nullable = true)\n",
      " |    |-- Tower Defense: long (nullable = true)\n",
      " |    |-- TrackIR: long (nullable = true)\n",
      " |    |-- Trading: long (nullable = true)\n",
      " |    |-- Trading Card Game: long (nullable = true)\n",
      " |    |-- Traditional Roguelike: long (nullable = true)\n",
      " |    |-- Trains: long (nullable = true)\n",
      " |    |-- Transhumanism: long (nullable = true)\n",
      " |    |-- Transportation: long (nullable = true)\n",
      " |    |-- Trivia: long (nullable = true)\n",
      " |    |-- Turn-Based: long (nullable = true)\n",
      " |    |-- Turn-Based Combat: long (nullable = true)\n",
      " |    |-- Turn-Based Strategy: long (nullable = true)\n",
      " |    |-- Turn-Based Tactics: long (nullable = true)\n",
      " |    |-- Tutorial: long (nullable = true)\n",
      " |    |-- Twin Stick Shooter: long (nullable = true)\n",
      " |    |-- Typing: long (nullable = true)\n",
      " |    |-- Underground: long (nullable = true)\n",
      " |    |-- Underwater: long (nullable = true)\n",
      " |    |-- Unforgiving: long (nullable = true)\n",
      " |    |-- Utilities: long (nullable = true)\n",
      " |    |-- VR: long (nullable = true)\n",
      " |    |-- VR Only: long (nullable = true)\n",
      " |    |-- Vampire: long (nullable = true)\n",
      " |    |-- Vehicular Combat: long (nullable = true)\n",
      " |    |-- Video Production: long (nullable = true)\n",
      " |    |-- Vikings: long (nullable = true)\n",
      " |    |-- Villain Protagonist: long (nullable = true)\n",
      " |    |-- Violent: long (nullable = true)\n",
      " |    |-- Visual Novel: long (nullable = true)\n",
      " |    |-- Voice Control: long (nullable = true)\n",
      " |    |-- Volleyball: long (nullable = true)\n",
      " |    |-- Voxel: long (nullable = true)\n",
      " |    |-- Walking Simulator: long (nullable = true)\n",
      " |    |-- War: long (nullable = true)\n",
      " |    |-- Wargame: long (nullable = true)\n",
      " |    |-- Warhammer 40K: long (nullable = true)\n",
      " |    |-- Web Publishing: long (nullable = true)\n",
      " |    |-- Well-Written: long (nullable = true)\n",
      " |    |-- Werewolves: long (nullable = true)\n",
      " |    |-- Western: long (nullable = true)\n",
      " |    |-- Wholesome: long (nullable = true)\n",
      " |    |-- Word Game: long (nullable = true)\n",
      " |    |-- World War I: long (nullable = true)\n",
      " |    |-- World War II: long (nullable = true)\n",
      " |    |-- Wrestling: long (nullable = true)\n",
      " |    |-- Zombies: long (nullable = true)\n",
      " |    |-- e-sports: long (nullable = true)\n",
      " |-- type: string (nullable = true)\n",
      " |-- website: string (nullable = true)\n",
      "\n"
     ]
    }
   ],
   "source": [
    "# Set file path to data\n",
    "filepath = os.getenv('BUCKET_PATH')\n",
    "\n",
    "# Create data frame\n",
    "data_clean = spark.read.json(filepath)\n",
    "\n",
    "# Create working data frame and remove top level\n",
    "data_clean = data_clean.select('data.*')\n",
    "\n",
    "display(data_clean.limit(5))\n",
    "data_clean.printSchema()"
   ]
  },
  {
   "cell_type": "code",
   "execution_count": 0,
   "metadata": {
    "application/vnd.databricks.v1+cell": {
     "cellMetadata": {
      "byteLimit": 2048000,
      "rowLimit": 10000
     },
     "inputWidgets": {},
     "nuid": "0e7e6f4a-826d-4e3f-b186-901fde161e41",
     "showTitle": false,
     "title": ""
    }
   },
   "outputs": [],
   "source": [
    "# Transform and clean data\n",
    "\n",
    "# Separate platforms into columns\n",
    "# Calculate rating based on reviews\n",
    "# Convert release date to datetime\n",
    "# Find lower bound of owners from interval\n",
    "# Cast columns to correct types\n",
    "# Remove useless columns\n",
    "data = data_clean.withColumn('linux', F.col('platforms.linux')) \\\n",
    "    .withColumn('mac', F.col('platforms.mac')) \\\n",
    "    .withColumn('windows', F.col('platforms.windows')) \\\n",
    "    .withColumn('rating', F.col('positive') / (F.col('positive') + F.col('negative'))) \\\n",
    "    .withColumn('release_date', F.to_date(F.unix_timestamp(F.col('release_date'), 'yyyy/M/d').cast(\"timestamp\"))) \\\n",
    "    .withColumn('price', F.col('price').cast(DataTypes.FloatType())) \\\n",
    "    .withColumn('initialprice', F.col('initialprice').cast(DataTypes.FloatType())) \\\n",
    "    .withColumn('discount', F.col('discount').cast(DataTypes.FloatType())) \\\n",
    "    .drop('platforms') \\\n",
    "    .drop('tags') \\\n",
    "    .drop('categories') \\\n",
    "    .drop('website') \\\n",
    "    .drop('short_description') \\\n",
    "    .drop('header_image')\n",
    "\n",
    "# Extract owner uppper and lower bounds\n",
    "# Calculate revenue\n",
    "data = data.withColumn('owners', F.split('owners', ' ')) \\\n",
    "    .withColumn('lower_owners', F.col('owners')[0]) \\\n",
    "    .withColumn('upper_owners', F.col('owners')[2]) \\\n",
    "    .withColumn('lower_owners', F.regexp_replace(F.col('lower_owners'), ',', '')) \\\n",
    "    .withColumn('upper_owners', F.regexp_replace(F.col('upper_owners'), ',', '')) \\\n",
    "    .withColumn('lower_owners', F.col('lower_owners').cast(DataTypes.IntegerType())) \\\n",
    "    .withColumn('upper_owners', F.col('upper_owners').cast(DataTypes.IntegerType())) \\\n",
    "    .withColumn('owners', (F.col('lower_owners') + F.col('upper_owners')) / 2) \\\n",
    "    .withColumn('revenue', F.col('owners') * F.col('price')) \\\n",
    "    .drop('lower_owners') \\\n",
    "    .drop('upper_owners')\n",
    "\n",
    "# Explode genre\n",
    "data = data.withColumn('genre', F.split(data['genre'], ','))\n",
    "data = data.withColumn('genre', F.explode('genre'))\n",
    "\n",
    "# Explode language\n",
    "data = data.withColumn('languages', F.split(data['languages'], ','))\n",
    "data = data.withColumn('languages', F.explode('languages'))"
   ]
  },
  {
   "cell_type": "code",
   "execution_count": 0,
   "metadata": {
    "application/vnd.databricks.v1+cell": {
     "cellMetadata": {
      "byteLimit": 2048000,
      "rowLimit": 10000
     },
     "inputWidgets": {},
     "nuid": "8d875703-9516-4e00-bfd4-c34b14866085",
     "showTitle": false,
     "title": ""
    }
   },
   "outputs": [
    {
     "data": {
      "text/html": [
       "<style scoped>\n",
       "  .table-result-container {\n",
       "    max-height: 300px;\n",
       "    overflow: auto;\n",
       "  }\n",
       "  table, th, td {\n",
       "    border: 1px solid black;\n",
       "    border-collapse: collapse;\n",
       "  }\n",
       "  th, td {\n",
       "    padding: 5px;\n",
       "  }\n",
       "  th {\n",
       "    text-align: left;\n",
       "  }\n",
       "</style><div class='table-result-container'><table class='table-result'><thead style='background-color: white'><tr><th>appid</th><th>ccu</th><th>developer</th><th>discount</th><th>genre</th><th>initialprice</th><th>languages</th><th>name</th><th>negative</th><th>owners</th><th>positive</th><th>price</th><th>publisher</th><th>release_date</th><th>required_age</th><th>type</th><th>linux</th><th>mac</th><th>windows</th><th>rating</th><th>revenue</th></tr></thead><tbody><tr><td>10</td><td>13990</td><td>Valve</td><td>0.0</td><td>Action</td><td>999.0</td><td>English</td><td>Counter-Strike</td><td>5199</td><td>1.5E7</td><td>201215</td><td>999.0</td><td>Valve</td><td>2000-11-01</td><td>0</td><td>game</td><td>true</td><td>true</td><td>true</td><td>0.9748127549487923</td><td>1.4985E10</td></tr><tr><td>10</td><td>13990</td><td>Valve</td><td>0.0</td><td>Action</td><td>999.0</td><td> French</td><td>Counter-Strike</td><td>5199</td><td>1.5E7</td><td>201215</td><td>999.0</td><td>Valve</td><td>2000-11-01</td><td>0</td><td>game</td><td>true</td><td>true</td><td>true</td><td>0.9748127549487923</td><td>1.4985E10</td></tr><tr><td>10</td><td>13990</td><td>Valve</td><td>0.0</td><td>Action</td><td>999.0</td><td> German</td><td>Counter-Strike</td><td>5199</td><td>1.5E7</td><td>201215</td><td>999.0</td><td>Valve</td><td>2000-11-01</td><td>0</td><td>game</td><td>true</td><td>true</td><td>true</td><td>0.9748127549487923</td><td>1.4985E10</td></tr><tr><td>10</td><td>13990</td><td>Valve</td><td>0.0</td><td>Action</td><td>999.0</td><td> Italian</td><td>Counter-Strike</td><td>5199</td><td>1.5E7</td><td>201215</td><td>999.0</td><td>Valve</td><td>2000-11-01</td><td>0</td><td>game</td><td>true</td><td>true</td><td>true</td><td>0.9748127549487923</td><td>1.4985E10</td></tr><tr><td>10</td><td>13990</td><td>Valve</td><td>0.0</td><td>Action</td><td>999.0</td><td> Spanish - Spain</td><td>Counter-Strike</td><td>5199</td><td>1.5E7</td><td>201215</td><td>999.0</td><td>Valve</td><td>2000-11-01</td><td>0</td><td>game</td><td>true</td><td>true</td><td>true</td><td>0.9748127549487923</td><td>1.4985E10</td></tr></tbody></table></div>"
      ]
     },
     "metadata": {
      "application/vnd.databricks.v1+output": {
       "addedWidgets": {},
       "aggData": [],
       "aggError": "",
       "aggOverflow": false,
       "aggSchema": [],
       "aggSeriesLimitReached": false,
       "aggType": "",
       "arguments": {},
       "columnCustomDisplayInfos": {},
       "data": [
        [
         10,
         13990,
         "Valve",
         0,
         "Action",
         999,
         "English",
         "Counter-Strike",
         5199,
         15000000,
         201215,
         999,
         "Valve",
         "2000-11-01",
         "0",
         "game",
         true,
         true,
         true,
         0.9748127549487923,
         14985000000
        ],
        [
         10,
         13990,
         "Valve",
         0,
         "Action",
         999,
         " French",
         "Counter-Strike",
         5199,
         15000000,
         201215,
         999,
         "Valve",
         "2000-11-01",
         "0",
         "game",
         true,
         true,
         true,
         0.9748127549487923,
         14985000000
        ],
        [
         10,
         13990,
         "Valve",
         0,
         "Action",
         999,
         " German",
         "Counter-Strike",
         5199,
         15000000,
         201215,
         999,
         "Valve",
         "2000-11-01",
         "0",
         "game",
         true,
         true,
         true,
         0.9748127549487923,
         14985000000
        ],
        [
         10,
         13990,
         "Valve",
         0,
         "Action",
         999,
         " Italian",
         "Counter-Strike",
         5199,
         15000000,
         201215,
         999,
         "Valve",
         "2000-11-01",
         "0",
         "game",
         true,
         true,
         true,
         0.9748127549487923,
         14985000000
        ],
        [
         10,
         13990,
         "Valve",
         0,
         "Action",
         999,
         " Spanish - Spain",
         "Counter-Strike",
         5199,
         15000000,
         201215,
         999,
         "Valve",
         "2000-11-01",
         "0",
         "game",
         true,
         true,
         true,
         0.9748127549487923,
         14985000000
        ]
       ],
       "datasetInfos": [],
       "dbfsResultPath": null,
       "isJsonSchema": true,
       "metadata": {},
       "overflow": false,
       "plotOptions": {
        "customPlotOptions": {},
        "displayType": "table",
        "pivotAggregation": null,
        "pivotColumns": null,
        "xColumns": null,
        "yColumns": null
       },
       "removedWidgets": [],
       "schema": [
        {
         "metadata": "{}",
         "name": "appid",
         "type": "\"long\""
        },
        {
         "metadata": "{}",
         "name": "ccu",
         "type": "\"long\""
        },
        {
         "metadata": "{}",
         "name": "developer",
         "type": "\"string\""
        },
        {
         "metadata": "{}",
         "name": "discount",
         "type": "\"float\""
        },
        {
         "metadata": "{}",
         "name": "genre",
         "type": "\"string\""
        },
        {
         "metadata": "{}",
         "name": "initialprice",
         "type": "\"float\""
        },
        {
         "metadata": "{}",
         "name": "languages",
         "type": "\"string\""
        },
        {
         "metadata": "{}",
         "name": "name",
         "type": "\"string\""
        },
        {
         "metadata": "{}",
         "name": "negative",
         "type": "\"long\""
        },
        {
         "metadata": "{}",
         "name": "owners",
         "type": "\"double\""
        },
        {
         "metadata": "{}",
         "name": "positive",
         "type": "\"long\""
        },
        {
         "metadata": "{}",
         "name": "price",
         "type": "\"float\""
        },
        {
         "metadata": "{}",
         "name": "publisher",
         "type": "\"string\""
        },
        {
         "metadata": "{}",
         "name": "release_date",
         "type": "\"date\""
        },
        {
         "metadata": "{}",
         "name": "required_age",
         "type": "\"string\""
        },
        {
         "metadata": "{}",
         "name": "type",
         "type": "\"string\""
        },
        {
         "metadata": "{}",
         "name": "linux",
         "type": "\"boolean\""
        },
        {
         "metadata": "{}",
         "name": "mac",
         "type": "\"boolean\""
        },
        {
         "metadata": "{}",
         "name": "windows",
         "type": "\"boolean\""
        },
        {
         "metadata": "{}",
         "name": "rating",
         "type": "\"double\""
        },
        {
         "metadata": "{}",
         "name": "revenue",
         "type": "\"double\""
        }
       ],
       "type": "table"
      }
     },
     "output_type": "display_data"
    }
   ],
   "source": [
    "display(data.limit(5))"
   ]
  },
  {
   "cell_type": "code",
   "execution_count": 0,
   "metadata": {
    "application/vnd.databricks.v1+cell": {
     "cellMetadata": {
      "byteLimit": 2048000,
      "rowLimit": 10000
     },
     "inputWidgets": {},
     "nuid": "6139c985-6718-4c70-9290-999dfcc87a8a",
     "showTitle": false,
     "title": ""
    }
   },
   "outputs": [
    {
     "name": "stdout",
     "output_type": "stream",
     "text": [
      "Out[69]: 579641"
     ]
    }
   ],
   "source": [
    "data.count()"
   ]
  },
  {
   "cell_type": "markdown",
   "metadata": {
    "application/vnd.databricks.v1+cell": {
     "cellMetadata": {
      "byteLimit": 2048000,
      "rowLimit": 10000
     },
     "inputWidgets": {},
     "nuid": "535cbe88-d7ad-4039-921f-384ea670dbdc",
     "showTitle": false,
     "title": ""
    }
   },
   "source": [
    "# Macro Analysis"
   ]
  },
  {
   "cell_type": "markdown",
   "metadata": {
    "application/vnd.databricks.v1+cell": {
     "cellMetadata": {
      "byteLimit": 2048000,
      "rowLimit": 10000
     },
     "inputWidgets": {},
     "nuid": "6fb745d7-2520-40ae-b799-f85d8d0decb1",
     "showTitle": false,
     "title": ""
    }
   },
   "source": [
    "#### Which publisher has the most games on Steam?"
   ]
  },
  {
   "cell_type": "code",
   "execution_count": 0,
   "metadata": {
    "application/vnd.databricks.v1+cell": {
     "cellMetadata": {
      "byteLimit": 2048000,
      "rowLimit": 10000
     },
     "inputWidgets": {},
     "nuid": "6e8fe3b2-5ca0-4ed7-b3bd-cf5e8db126ba",
     "showTitle": false,
     "title": ""
    }
   },
   "outputs": [
    {
     "data": {
      "text/html": [
       "<style scoped>\n",
       "  .table-result-container {\n",
       "    max-height: 300px;\n",
       "    overflow: auto;\n",
       "  }\n",
       "  table, th, td {\n",
       "    border: 1px solid black;\n",
       "    border-collapse: collapse;\n",
       "  }\n",
       "  th, td {\n",
       "    padding: 5px;\n",
       "  }\n",
       "  th {\n",
       "    text-align: left;\n",
       "  }\n",
       "</style><div class='table-result-container'><table class='table-result'><thead style='background-color: white'><tr><th>publisher</th><th>count</th></tr></thead><tbody><tr><td>Hede</td><td>8121</td></tr><tr><td>Dnovel</td><td>2543</td></tr><tr><td>Blender Games</td><td>2274</td></tr><tr><td>Ubisoft</td><td>2135</td></tr><tr><td>Daedalic Entertainment</td><td>1920</td></tr></tbody></table></div>"
      ]
     },
     "metadata": {
      "application/vnd.databricks.v1+output": {
       "addedWidgets": {},
       "aggData": [],
       "aggError": "",
       "aggOverflow": false,
       "aggSchema": [],
       "aggSeriesLimitReached": false,
       "aggType": "",
       "arguments": {},
       "columnCustomDisplayInfos": {},
       "data": [
        [
         "Hede",
         8121
        ],
        [
         "Dnovel",
         2543
        ],
        [
         "Blender Games",
         2274
        ],
        [
         "Ubisoft",
         2135
        ],
        [
         "Daedalic Entertainment",
         1920
        ]
       ],
       "datasetInfos": [],
       "dbfsResultPath": null,
       "isJsonSchema": true,
       "metadata": {},
       "overflow": false,
       "plotOptions": {
        "customPlotOptions": {},
        "displayType": "table",
        "pivotAggregation": null,
        "pivotColumns": null,
        "xColumns": null,
        "yColumns": null
       },
       "removedWidgets": [],
       "schema": [
        {
         "metadata": "{}",
         "name": "publisher",
         "type": "\"string\""
        },
        {
         "metadata": "{}",
         "name": "count",
         "type": "\"long\""
        }
       ],
       "type": "table"
      }
     },
     "output_type": "display_data"
    }
   ],
   "source": [
    "# Count of games by publisher\n",
    "display(\n",
    "    data.groupBy('publisher').count().orderBy('count', ascending=False).limit(5)\n",
    ")"
   ]
  },
  {
   "cell_type": "markdown",
   "metadata": {
    "application/vnd.databricks.v1+cell": {
     "cellMetadata": {
      "byteLimit": 2048000,
      "rowLimit": 10000
     },
     "inputWidgets": {},
     "nuid": "df94b418-3326-45ec-8d42-518a4116e7f1",
     "showTitle": false,
     "title": ""
    }
   },
   "source": [
    "Interestingly enough, the publisher with the most titles (by a significant amount) is a known \"scam\" publisher. We also see Blender Games which publishes large amounts of very inexpensive \"junk\" games. Other than that, we unsurprisingly see Ubisoft, a large publisher, and Deadalic Entertainment, a renowned indie game publisher."
   ]
  },
  {
   "cell_type": "markdown",
   "metadata": {
    "application/vnd.databricks.v1+cell": {
     "cellMetadata": {
      "byteLimit": 2048000,
      "rowLimit": 10000
     },
     "inputWidgets": {},
     "nuid": "97d76e07-ebf4-4c6a-b140-55d184e6f44b",
     "showTitle": false,
     "title": ""
    }
   },
   "source": [
    "#### What are the best rated games?"
   ]
  },
  {
   "cell_type": "code",
   "execution_count": 0,
   "metadata": {
    "application/vnd.databricks.v1+cell": {
     "cellMetadata": {
      "byteLimit": 2048000,
      "rowLimit": 10000
     },
     "inputWidgets": {},
     "nuid": "5f5465bb-c421-41b3-9e2a-527221822afa",
     "showTitle": false,
     "title": ""
    }
   },
   "outputs": [
    {
     "data": {
      "text/html": [
       "<style scoped>\n",
       "  .table-result-container {\n",
       "    max-height: 300px;\n",
       "    overflow: auto;\n",
       "  }\n",
       "  table, th, td {\n",
       "    border: 1px solid black;\n",
       "    border-collapse: collapse;\n",
       "  }\n",
       "  th, td {\n",
       "    padding: 5px;\n",
       "  }\n",
       "  th {\n",
       "    text-align: left;\n",
       "  }\n",
       "</style><div class='table-result-container'><table class='table-result'><thead style='background-color: white'><tr><th>name</th><th>max(positive)</th><th>max(rating)</th></tr></thead><tbody><tr><td>Counter-Strike: Global Offensive</td><td>5943345</td><td>0.8830547135268165</td></tr><tr><td>Dota 2</td><td>1534895</td><td>0.828414231133127</td></tr><tr><td>Grand Theft Auto V</td><td>1229265</td><td>0.852091714934523</td></tr><tr><td>PUBG: BATTLEGROUNDS</td><td>1185361</td><td>0.5661084992616564</td></tr><tr><td>Terraria</td><td>1014711</td><td>0.978420408623737</td></tr><tr><td>Tom Clancy's Rainbow Six Siege</td><td>942910</td><td>0.8681157512219688</td></tr><tr><td>Garry's Mod</td><td>861240</td><td>0.9663412017889722</td></tr><tr><td>Team Fortress 2</td><td>846407</td><td>0.9364670347299824</td></tr><tr><td>Rust</td><td>732513</td><td>0.8672210468740936</td></tr><tr><td>Left 4 Dead 2</td><td>643836</td><td>0.9745286560187932</td></tr><tr><td>The Witcher 3: Wild Hunt</td><td>632627</td><td>0.9616262738040227</td></tr><tr><td>Among Us</td><td>586302</td><td>0.9179384890937443</td></tr><tr><td>Euro Truck Simulator 2</td><td>572368</td><td>0.9734431097497717</td></tr><tr><td>Wallpaper Engine</td><td>561096</td><td>0.9807193158162436</td></tr><tr><td>PAYDAY 2</td><td>532013</td><td>0.8939757254553368</td></tr><tr><td>Dead by Daylight</td><td>509637</td><td>0.8140723986237169</td></tr><tr><td>Stardew Valley</td><td>497558</td><td>0.9816845914201889</td></tr><tr><td>Rocket League</td><td>496499</td><td>0.8873278955721087</td></tr><tr><td>ELDEN RING</td><td>490203</td><td>0.9039815885415226</td></tr><tr><td>ARK: Survival Evolved</td><td>481318</td><td>0.8261324783390775</td></tr><tr><td>Phasmophobia</td><td>475555</td><td>0.968350512524995</td></tr><tr><td>Unturned</td><td>451671</td><td>0.914741508681185</td></tr><tr><td>Apex Legends</td><td>450786</td><td>0.8542872032974842</td></tr><tr><td>Warframe</td><td>448616</td><td>0.8674355875670711</td></tr><tr><td>Cyberpunk 2077</td><td>427003</td><td>0.7664622183450636</td></tr><tr><td>Destiny 2</td><td>420074</td><td>0.8370542475012355</td></tr><tr><td>The Forest</td><td>394258</td><td>0.9524612500483166</td></tr><tr><td>Fall Guys: Ultimate Knockout</td><td>382576</td><td>0.8128310433402526</td></tr><tr><td>Valheim</td><td>346013</td><td>0.9512071079442053</td></tr><tr><td>Don't Starve Together</td><td>340987</td><td>0.9607161975600823</td></tr></tbody></table></div>"
      ]
     },
     "metadata": {
      "application/vnd.databricks.v1+output": {
       "addedWidgets": {},
       "aggData": [],
       "aggError": "",
       "aggOverflow": false,
       "aggSchema": [],
       "aggSeriesLimitReached": false,
       "aggType": "",
       "arguments": {},
       "columnCustomDisplayInfos": {},
       "data": [
        [
         "Counter-Strike: Global Offensive",
         5943345,
         0.8830547135268165
        ],
        [
         "Dota 2",
         1534895,
         0.828414231133127
        ],
        [
         "Grand Theft Auto V",
         1229265,
         0.852091714934523
        ],
        [
         "PUBG: BATTLEGROUNDS",
         1185361,
         0.5661084992616564
        ],
        [
         "Terraria",
         1014711,
         0.978420408623737
        ],
        [
         "Tom Clancy's Rainbow Six Siege",
         942910,
         0.8681157512219688
        ],
        [
         "Garry's Mod",
         861240,
         0.9663412017889722
        ],
        [
         "Team Fortress 2",
         846407,
         0.9364670347299824
        ],
        [
         "Rust",
         732513,
         0.8672210468740936
        ],
        [
         "Left 4 Dead 2",
         643836,
         0.9745286560187932
        ],
        [
         "The Witcher 3: Wild Hunt",
         632627,
         0.9616262738040227
        ],
        [
         "Among Us",
         586302,
         0.9179384890937443
        ],
        [
         "Euro Truck Simulator 2",
         572368,
         0.9734431097497717
        ],
        [
         "Wallpaper Engine",
         561096,
         0.9807193158162436
        ],
        [
         "PAYDAY 2",
         532013,
         0.8939757254553368
        ],
        [
         "Dead by Daylight",
         509637,
         0.8140723986237169
        ],
        [
         "Stardew Valley",
         497558,
         0.9816845914201889
        ],
        [
         "Rocket League",
         496499,
         0.8873278955721087
        ],
        [
         "ELDEN RING",
         490203,
         0.9039815885415226
        ],
        [
         "ARK: Survival Evolved",
         481318,
         0.8261324783390775
        ],
        [
         "Phasmophobia",
         475555,
         0.968350512524995
        ],
        [
         "Unturned",
         451671,
         0.914741508681185
        ],
        [
         "Apex Legends",
         450786,
         0.8542872032974842
        ],
        [
         "Warframe",
         448616,
         0.8674355875670711
        ],
        [
         "Cyberpunk 2077",
         427003,
         0.7664622183450636
        ],
        [
         "Destiny 2",
         420074,
         0.8370542475012355
        ],
        [
         "The Forest",
         394258,
         0.9524612500483166
        ],
        [
         "Fall Guys: Ultimate Knockout",
         382576,
         0.8128310433402526
        ],
        [
         "Valheim",
         346013,
         0.9512071079442053
        ],
        [
         "Don't Starve Together",
         340987,
         0.9607161975600823
        ]
       ],
       "datasetInfos": [],
       "dbfsResultPath": null,
       "isJsonSchema": true,
       "metadata": {},
       "overflow": false,
       "plotOptions": {
        "customPlotOptions": {},
        "displayType": "table",
        "pivotAggregation": null,
        "pivotColumns": null,
        "xColumns": null,
        "yColumns": null
       },
       "removedWidgets": [],
       "schema": [
        {
         "metadata": "{}",
         "name": "name",
         "type": "\"string\""
        },
        {
         "metadata": "{}",
         "name": "max(positive)",
         "type": "\"long\""
        },
        {
         "metadata": "{}",
         "name": "max(rating)",
         "type": "\"double\""
        }
       ],
       "type": "table"
      }
     },
     "output_type": "display_data"
    }
   ],
   "source": [
    "# Find games with most postive reviews and show their ratings too\n",
    "display(\n",
    "    data.groupBy('name').max('positive', 'rating').orderBy('max(positive)', ascending=False).limit(30)\n",
    ")"
   ]
  },
  {
   "cell_type": "markdown",
   "metadata": {
    "application/vnd.databricks.v1+cell": {
     "cellMetadata": {
      "byteLimit": 2048000,
      "rowLimit": 10000
     },
     "inputWidgets": {},
     "nuid": "dc3dfe82-6a2d-4a08-bd00-199396eec8aa",
     "showTitle": false,
     "title": ""
    }
   },
   "source": [
    "Overall, we see that the most popular games by amount of positive reviews also have very high ratings (generally above or around 85%, which corresponds to 'very positive' on Steam). We do see an outlier: PUBG: Battlegrounds. Despite the game's enormous popularity, it has poor overall ratings due to it's shoddy performance, rough launch and lackluster updates. However, its status as one of (if not the) first battle royale games has cemented it as one of the most played (and thus rated) games on steam."
   ]
  },
  {
   "cell_type": "markdown",
   "metadata": {
    "application/vnd.databricks.v1+cell": {
     "cellMetadata": {
      "byteLimit": 2048000,
      "rowLimit": 10000
     },
     "inputWidgets": {},
     "nuid": "e0aebaa7-8e25-4a9f-8474-72a5007845d4",
     "showTitle": false,
     "title": ""
    }
   },
   "source": [
    "#### Are there years with more releases? Were there more or fewer game releases during the Covid, for example?"
   ]
  },
  {
   "cell_type": "code",
   "execution_count": 0,
   "metadata": {
    "application/vnd.databricks.v1+cell": {
     "cellMetadata": {
      "byteLimit": 2048000,
      "rowLimit": 10000
     },
     "inputWidgets": {},
     "nuid": "2edcb1de-4d11-4894-9764-678bf1c47d34",
     "showTitle": false,
     "title": ""
    }
   },
   "outputs": [
    {
     "data": {
      "text/html": [
       "<style scoped>\n",
       "  .table-result-container {\n",
       "    max-height: 300px;\n",
       "    overflow: auto;\n",
       "  }\n",
       "  table, th, td {\n",
       "    border: 1px solid black;\n",
       "    border-collapse: collapse;\n",
       "  }\n",
       "  th, td {\n",
       "    padding: 5px;\n",
       "  }\n",
       "  th {\n",
       "    text-align: left;\n",
       "  }\n",
       "</style><div class='table-result-container'><table class='table-result'><thead style='background-color: white'><tr><th>year(release_date)</th><th>count</th></tr></thead><tbody><tr><td>2021</td><td>100655</td></tr><tr><td>2020</td><td>94501</td></tr><tr><td>2022</td><td>88114</td></tr><tr><td>2019</td><td>74992</td></tr><tr><td>2018</td><td>74657</td></tr></tbody></table></div>"
      ]
     },
     "metadata": {
      "application/vnd.databricks.v1+output": {
       "addedWidgets": {},
       "aggData": [],
       "aggError": "",
       "aggOverflow": false,
       "aggSchema": [],
       "aggSeriesLimitReached": false,
       "aggType": "",
       "arguments": {},
       "columnCustomDisplayInfos": {},
       "data": [
        [
         2021,
         100655
        ],
        [
         2020,
         94501
        ],
        [
         2022,
         88114
        ],
        [
         2019,
         74992
        ],
        [
         2018,
         74657
        ]
       ],
       "datasetInfos": [],
       "dbfsResultPath": null,
       "isJsonSchema": true,
       "metadata": {},
       "overflow": false,
       "plotOptions": {
        "customPlotOptions": {},
        "displayType": "table",
        "pivotAggregation": null,
        "pivotColumns": null,
        "xColumns": null,
        "yColumns": null
       },
       "removedWidgets": [],
       "schema": [
        {
         "metadata": "{}",
         "name": "year(release_date)",
         "type": "\"integer\""
        },
        {
         "metadata": "{}",
         "name": "count",
         "type": "\"long\""
        }
       ],
       "type": "table"
      }
     },
     "output_type": "display_data"
    }
   ],
   "source": [
    "display(\n",
    "    data.groupBy(F.year('release_date')).count().orderBy('count', ascending=False).limit(5),\n",
    "    data.groupBy(F.year('release_date')).count().orderBy('count', ascending=True).limit(5)\n",
    ")"
   ]
  },
  {
   "cell_type": "markdown",
   "metadata": {
    "application/vnd.databricks.v1+cell": {
     "cellMetadata": {
      "byteLimit": 2048000,
      "rowLimit": 10000
     },
     "inputWidgets": {},
     "nuid": "9229d314-6016-4a10-9727-7e73a2c96bad",
     "showTitle": false,
     "title": ""
    }
   },
   "source": [
    "Unsurprisingly, we see that the amount of releases by year has trended with the growth of the video game industry: many more games have been releaased recently. That being said, it doesn't follow a strict increasing pattern, we see a drop in 2022 that we didn't expect. Let's take a look at this data in chronological order:"
   ]
  },
  {
   "cell_type": "code",
   "execution_count": 0,
   "metadata": {
    "application/vnd.databricks.v1+cell": {
     "cellMetadata": {
      "byteLimit": 2048000,
      "rowLimit": 10000
     },
     "inputWidgets": {},
     "nuid": "36e3ac95-3358-4017-b188-132dad1a1c1e",
     "showTitle": false,
     "title": ""
    }
   },
   "outputs": [
    {
     "data": {
      "text/html": [
       "<style scoped>\n",
       "  .table-result-container {\n",
       "    max-height: 300px;\n",
       "    overflow: auto;\n",
       "  }\n",
       "  table, th, td {\n",
       "    border: 1px solid black;\n",
       "    border-collapse: collapse;\n",
       "  }\n",
       "  th, td {\n",
       "    padding: 5px;\n",
       "  }\n",
       "  th {\n",
       "    text-align: left;\n",
       "  }\n",
       "</style><div class='table-result-container'><table class='table-result'><thead style='background-color: white'><tr><th>year(release_date)</th><th>count</th></tr></thead><tbody><tr><td>2022</td><td>88114</td></tr><tr><td>2021</td><td>100655</td></tr><tr><td>2020</td><td>94501</td></tr><tr><td>2019</td><td>74992</td></tr><tr><td>2018</td><td>74657</td></tr><tr><td>2017</td><td>54082</td></tr><tr><td>2016</td><td>36330</td></tr><tr><td>2015</td><td>23607</td></tr><tr><td>2014</td><td>14203</td></tr><tr><td>2013</td><td>5807</td></tr></tbody></table></div>"
      ]
     },
     "metadata": {
      "application/vnd.databricks.v1+output": {
       "addedWidgets": {},
       "aggData": [],
       "aggError": "",
       "aggOverflow": false,
       "aggSchema": [],
       "aggSeriesLimitReached": false,
       "aggType": "",
       "arguments": {},
       "columnCustomDisplayInfos": {},
       "data": [
        [
         2022,
         88114
        ],
        [
         2021,
         100655
        ],
        [
         2020,
         94501
        ],
        [
         2019,
         74992
        ],
        [
         2018,
         74657
        ],
        [
         2017,
         54082
        ],
        [
         2016,
         36330
        ],
        [
         2015,
         23607
        ],
        [
         2014,
         14203
        ],
        [
         2013,
         5807
        ]
       ],
       "datasetInfos": [],
       "dbfsResultPath": null,
       "isJsonSchema": true,
       "metadata": {},
       "overflow": false,
       "plotOptions": {
        "customPlotOptions": {},
        "displayType": "table",
        "pivotAggregation": null,
        "pivotColumns": null,
        "xColumns": null,
        "yColumns": null
       },
       "removedWidgets": [],
       "schema": [
        {
         "metadata": "{}",
         "name": "year(release_date)",
         "type": "\"integer\""
        },
        {
         "metadata": "{}",
         "name": "count",
         "type": "\"long\""
        }
       ],
       "type": "table"
      }
     },
     "output_type": "display_data"
    }
   ],
   "source": [
    "display(\n",
    "    data.groupBy(F.year('release_date')).count().orderBy(F.year('release_date'), ascending=False).limit(10)\n",
    ")"
   ]
  },
  {
   "cell_type": "markdown",
   "metadata": {
    "application/vnd.databricks.v1+cell": {
     "cellMetadata": {
      "byteLimit": 2048000,
      "rowLimit": 10000
     },
     "inputWidgets": {},
     "nuid": "13141f86-de37-4c9d-9f14-5b77fd758086",
     "showTitle": false,
     "title": ""
    }
   },
   "source": [
    "It seems like the only year that falls out of our pattern of steady increase is 2022, which could be explained by our dataset possibly being released before the end of said year. Covid, which began in early 2022, seems to have only have had a positive impact on the amount of releases. This could be explained by the boom of small development teams that came together during quarantine to create their own indie titles."
   ]
  },
  {
   "cell_type": "markdown",
   "metadata": {
    "application/vnd.databricks.v1+cell": {
     "cellMetadata": {
      "byteLimit": 2048000,
      "rowLimit": 10000
     },
     "inputWidgets": {},
     "nuid": "ae464632-0c06-488b-b624-08559dfa0e7f",
     "showTitle": false,
     "title": ""
    }
   },
   "source": [
    "#### How are the prices distributed? Are there any games with a discount?"
   ]
  },
  {
   "cell_type": "code",
   "execution_count": 0,
   "metadata": {
    "application/vnd.databricks.v1+cell": {
     "cellMetadata": {
      "byteLimit": 2048000,
      "rowLimit": 10000
     },
     "inputWidgets": {},
     "nuid": "abc2b048-2b09-4766-9a3c-5d58d7787d0f",
     "showTitle": false,
     "title": ""
    }
   },
   "outputs": [
    {
     "data": {
      "text/html": [
       "<style scoped>\n",
       "  .table-result-container {\n",
       "    max-height: 300px;\n",
       "    overflow: auto;\n",
       "  }\n",
       "  table, th, td {\n",
       "    border: 1px solid black;\n",
       "    border-collapse: collapse;\n",
       "  }\n",
       "  th, td {\n",
       "    padding: 5px;\n",
       "  }\n",
       "  th {\n",
       "    text-align: left;\n",
       "  }\n",
       "</style><div class='table-result-container'><table class='table-result'><thead style='background-color: white'><tr><th>price</th><th>count</th></tr></thead><tbody><tr><td>99900.0</td><td>1</td></tr><tr><td>29990.0</td><td>1</td></tr><tr><td>26999.0</td><td>4</td></tr><tr><td>24900.0</td><td>4</td></tr><tr><td>19999.0</td><td>89</td></tr></tbody></table></div>"
      ]
     },
     "metadata": {
      "application/vnd.databricks.v1+output": {
       "addedWidgets": {},
       "aggData": [],
       "aggError": "",
       "aggOverflow": false,
       "aggSchema": [],
       "aggSeriesLimitReached": false,
       "aggType": "",
       "arguments": {},
       "columnCustomDisplayInfos": {},
       "data": [
        [
         99900,
         1
        ],
        [
         29990,
         1
        ],
        [
         26999,
         4
        ],
        [
         24900,
         4
        ],
        [
         19999,
         89
        ]
       ],
       "datasetInfos": [],
       "dbfsResultPath": null,
       "isJsonSchema": true,
       "metadata": {},
       "overflow": false,
       "plotOptions": {
        "customPlotOptions": {},
        "displayType": "table",
        "pivotAggregation": null,
        "pivotColumns": null,
        "xColumns": null,
        "yColumns": null
       },
       "removedWidgets": [],
       "schema": [
        {
         "metadata": "{}",
         "name": "price",
         "type": "\"float\""
        },
        {
         "metadata": "{}",
         "name": "count",
         "type": "\"long\""
        }
       ],
       "type": "table"
      }
     },
     "output_type": "display_data"
    }
   ],
   "source": [
    "display(\n",
    "    data.groupBy('price').count().orderBy('price', ascending=False).limit(5),\n",
    "    data.groupBy('price').count().orderBy('count', ascending=False).limit(5)\n",
    ")"
   ]
  },
  {
   "cell_type": "markdown",
   "metadata": {
    "application/vnd.databricks.v1+cell": {
     "cellMetadata": {
      "byteLimit": 2048000,
      "rowLimit": 10000
     },
     "inputWidgets": {},
     "nuid": "a3c004b5-d6d5-4c6c-932c-84e0575ceb21",
     "showTitle": false,
     "title": ""
    }
   },
   "source": [
    "It looks like we have an enormous amount of games with very high prices, lets try to dive a bit deeper into these results."
   ]
  },
  {
   "cell_type": "code",
   "execution_count": 0,
   "metadata": {
    "application/vnd.databricks.v1+cell": {
     "cellMetadata": {
      "byteLimit": 2048000,
      "rowLimit": 10000
     },
     "inputWidgets": {},
     "nuid": "71b2021f-562d-4433-8f0b-121d8c0a0fba",
     "showTitle": false,
     "title": ""
    }
   },
   "outputs": [
    {
     "data": {
      "text/html": [
       "<style scoped>\n",
       "  .table-result-container {\n",
       "    max-height: 300px;\n",
       "    overflow: auto;\n",
       "  }\n",
       "  table, th, td {\n",
       "    border: 1px solid black;\n",
       "    border-collapse: collapse;\n",
       "  }\n",
       "  th, td {\n",
       "    padding: 5px;\n",
       "  }\n",
       "  th {\n",
       "    text-align: left;\n",
       "  }\n",
       "</style><div class='table-result-container'><table class='table-result'><thead style='background-color: white'><tr><th>name</th><th>max(price)</th></tr></thead><tbody><tr><td>Left 4 Dead 2</td><td>999.0</td></tr><tr><td>Terraria</td><td>999.0</td></tr><tr><td>Rust</td><td>3999.0</td></tr><tr><td>Grand Theft Auto V</td><td>2998.0</td></tr><tr><td>Garry's Mod</td><td>999.0</td></tr><tr><td>Monster Hunter: World</td><td>2999.0</td></tr><tr><td>ARK: Survival Evolved</td><td>1999.0</td></tr></tbody></table></div>"
      ]
     },
     "metadata": {
      "application/vnd.databricks.v1+output": {
       "addedWidgets": {},
       "aggData": [],
       "aggError": "",
       "aggOverflow": false,
       "aggSchema": [],
       "aggSeriesLimitReached": false,
       "aggType": "",
       "arguments": {},
       "columnCustomDisplayInfos": {},
       "data": [
        [
         "Left 4 Dead 2",
         999
        ],
        [
         "Terraria",
         999
        ],
        [
         "Rust",
         3999
        ],
        [
         "Grand Theft Auto V",
         2998
        ],
        [
         "Garry's Mod",
         999
        ],
        [
         "Monster Hunter: World",
         2999
        ],
        [
         "ARK: Survival Evolved",
         1999
        ]
       ],
       "datasetInfos": [],
       "dbfsResultPath": null,
       "isJsonSchema": true,
       "metadata": {},
       "overflow": false,
       "plotOptions": {
        "customPlotOptions": {},
        "displayType": "table",
        "pivotAggregation": null,
        "pivotColumns": null,
        "xColumns": null,
        "yColumns": null
       },
       "removedWidgets": [],
       "schema": [
        {
         "metadata": "{}",
         "name": "name",
         "type": "\"string\""
        },
        {
         "metadata": "{}",
         "name": "max(price)",
         "type": "\"float\""
        }
       ],
       "type": "table"
      }
     },
     "output_type": "display_data"
    }
   ],
   "source": [
    "data_price = data.filter(\n",
    "    (F.col('name') == 'Grand Theft Auto V') | \\\n",
    "    (F.col('name') == 'Terraria') | \\\n",
    "    (F.col('name') == 'Monster Hunter: World') | \\\n",
    "    (F.col('name') == 'Left 4 Dead 2') | \\\n",
    "    (F.col('name') == \"Garry's Mod\") | \\\n",
    "    (F.col('name') == 'Rust') | \\\n",
    "    (F.col('name') == 'ARK: Survival Evolved')) \\\n",
    "        .select(['name', 'developer', 'price']).groupBy('name').max()\n",
    "\n",
    "display(data_price)"
   ]
  },
  {
   "cell_type": "markdown",
   "metadata": {
    "application/vnd.databricks.v1+cell": {
     "cellMetadata": {
      "byteLimit": 2048000,
      "rowLimit": 10000
     },
     "inputWidgets": {},
     "nuid": "18a67d3d-621f-4728-8b0b-196fe186b22c",
     "showTitle": false,
     "title": ""
    }
   },
   "source": [
    "Despite the prices initially seeming incorrect, we can see that the prices do actually seem correct relative to each other when looking at some popular games. Let's add the real prices and find the differences."
   ]
  },
  {
   "cell_type": "code",
   "execution_count": 0,
   "metadata": {
    "application/vnd.databricks.v1+cell": {
     "cellMetadata": {
      "byteLimit": 2048000,
      "rowLimit": 10000
     },
     "inputWidgets": {},
     "nuid": "673a8cef-79d0-45dd-b1a3-5c6d52f152ef",
     "showTitle": false,
     "title": ""
    }
   },
   "outputs": [
    {
     "data": {
      "text/html": [
       "<style scoped>\n",
       "  .table-result-container {\n",
       "    max-height: 300px;\n",
       "    overflow: auto;\n",
       "  }\n",
       "  table, th, td {\n",
       "    border: 1px solid black;\n",
       "    border-collapse: collapse;\n",
       "  }\n",
       "  th, td {\n",
       "    padding: 5px;\n",
       "  }\n",
       "  th {\n",
       "    text-align: left;\n",
       "  }\n",
       "</style><div class='table-result-container'><table class='table-result'><thead style='background-color: white'><tr><th>name</th><th>max(price)</th><th>actual_price_usd</th><th>difference</th></tr></thead><tbody><tr><td>Left 4 Dead 2</td><td>999.0</td><td>9.99</td><td>100.0</td></tr><tr><td>Terraria</td><td>999.0</td><td>9.99</td><td>100.0</td></tr><tr><td>Rust</td><td>3999.0</td><td>39.99</td><td>100.0</td></tr><tr><td>Grand Theft Auto V</td><td>2998.0</td><td>29.99</td><td>99.96665555185062</td></tr><tr><td>Garry's Mod</td><td>999.0</td><td>9.99</td><td>100.0</td></tr><tr><td>Monster Hunter: World</td><td>2999.0</td><td>59.99</td><td>49.991665277546254</td></tr><tr><td>ARK: Survival Evolved</td><td>1999.0</td><td>39.99</td><td>49.98749687421855</td></tr></tbody></table></div>"
      ]
     },
     "metadata": {
      "application/vnd.databricks.v1+output": {
       "addedWidgets": {},
       "aggData": [],
       "aggError": "",
       "aggOverflow": false,
       "aggSchema": [],
       "aggSeriesLimitReached": false,
       "aggType": "",
       "arguments": {},
       "columnCustomDisplayInfos": {},
       "data": [
        [
         "Left 4 Dead 2",
         999,
         9.99,
         100
        ],
        [
         "Terraria",
         999,
         9.99,
         100
        ],
        [
         "Rust",
         3999,
         39.99,
         100
        ],
        [
         "Grand Theft Auto V",
         2998,
         29.99,
         99.96665555185062
        ],
        [
         "Garry's Mod",
         999,
         9.99,
         100
        ],
        [
         "Monster Hunter: World",
         2999,
         59.99,
         49.991665277546254
        ],
        [
         "ARK: Survival Evolved",
         1999,
         39.99,
         49.98749687421855
        ]
       ],
       "datasetInfos": [],
       "dbfsResultPath": null,
       "isJsonSchema": true,
       "metadata": {},
       "overflow": false,
       "plotOptions": {
        "customPlotOptions": {},
        "displayType": "table",
        "pivotAggregation": null,
        "pivotColumns": null,
        "xColumns": null,
        "yColumns": null
       },
       "removedWidgets": [],
       "schema": [
        {
         "metadata": "{}",
         "name": "name",
         "type": "\"string\""
        },
        {
         "metadata": "{}",
         "name": "max(price)",
         "type": "\"float\""
        },
        {
         "metadata": "{}",
         "name": "actual_price_usd",
         "type": "\"double\""
        },
        {
         "metadata": "{}",
         "name": "difference",
         "type": "\"double\""
        }
       ],
       "type": "table"
      }
     },
     "output_type": "display_data"
    }
   ],
   "source": [
    "actual_prices = {\n",
    "    \"Left 4 Dead 2\": 9.99,\n",
    "    \"Terraria\": 9.99,\n",
    "    \"Rust\": 39.99,\n",
    "    \"Grand Theft Auto V\": 29.99,\n",
    "    \"Garry's Mod\": 9.99,\n",
    "    \"Monster Hunter: World\": 59.99,\n",
    "    \"ARK: Survival Evolved\": 39.99\n",
    "}\n",
    "\n",
    "data_price = data_price.join(spark.createDataFrame(actual_prices.items(), [\"name\", \"actual_price_usd\"]), \"name\")\n",
    "data_price = data_price.withColumn('difference', F.col(\"max(price)\") / F.col(\"actual_price_usd\"))\n",
    "display(data_price)"
   ]
  },
  {
   "cell_type": "markdown",
   "metadata": {
    "application/vnd.databricks.v1+cell": {
     "cellMetadata": {
      "byteLimit": 2048000,
      "rowLimit": 10000
     },
     "inputWidgets": {},
     "nuid": "c1fca9f8-6823-405d-8b21-d79cbcc81da5",
     "showTitle": false,
     "title": ""
    }
   },
   "source": [
    "It looks like the prices in the dataset have been multiplied by 100, so we will simply divide all price values by 100."
   ]
  },
  {
   "cell_type": "code",
   "execution_count": 0,
   "metadata": {
    "application/vnd.databricks.v1+cell": {
     "cellMetadata": {
      "byteLimit": 2048000,
      "rowLimit": 10000
     },
     "inputWidgets": {},
     "nuid": "47afb877-3438-4ed8-8280-909fd104d245",
     "showTitle": false,
     "title": ""
    }
   },
   "outputs": [],
   "source": [
    "data = data.withColumn('price', F.col('price') / 100) \\\n",
    "    .withColumn('initialprice', F.col('initialprice') / 100) \\\n",
    "    .withColumn('revenue', F.col('revenue') / 100)"
   ]
  },
  {
   "cell_type": "code",
   "execution_count": 0,
   "metadata": {
    "application/vnd.databricks.v1+cell": {
     "cellMetadata": {
      "byteLimit": 2048000,
      "rowLimit": 10000
     },
     "inputWidgets": {},
     "nuid": "67f785c0-ad5a-4c00-9065-f7501c152851",
     "showTitle": false,
     "title": ""
    }
   },
   "outputs": [
    {
     "data": {
      "text/html": [
       "<style scoped>\n",
       "  .table-result-container {\n",
       "    max-height: 300px;\n",
       "    overflow: auto;\n",
       "  }\n",
       "  table, th, td {\n",
       "    border: 1px solid black;\n",
       "    border-collapse: collapse;\n",
       "  }\n",
       "  th, td {\n",
       "    padding: 5px;\n",
       "  }\n",
       "  th {\n",
       "    text-align: left;\n",
       "  }\n",
       "</style><div class='table-result-container'><table class='table-result'><thead style='background-color: white'><tr><th>summary</th><th>price</th></tr></thead><tbody><tr><td>count</td><td>579641</td></tr><tr><td>mean</td><td>9.006299796013808</td></tr><tr><td>stddev</td><td>11.138714939416925</td></tr><tr><td>min</td><td>0.0</td></tr><tr><td>max</td><td>999.0</td></tr></tbody></table></div>"
      ]
     },
     "metadata": {
      "application/vnd.databricks.v1+output": {
       "addedWidgets": {},
       "aggData": [],
       "aggError": "",
       "aggOverflow": false,
       "aggSchema": [],
       "aggSeriesLimitReached": false,
       "aggType": "",
       "arguments": {},
       "columnCustomDisplayInfos": {},
       "data": [
        [
         "count",
         "579641"
        ],
        [
         "mean",
         "9.006299796013808"
        ],
        [
         "stddev",
         "11.138714939416925"
        ],
        [
         "min",
         "0.0"
        ],
        [
         "max",
         "999.0"
        ]
       ],
       "datasetInfos": [],
       "dbfsResultPath": null,
       "isJsonSchema": true,
       "metadata": {},
       "overflow": false,
       "plotOptions": {
        "customPlotOptions": {},
        "displayType": "table",
        "pivotAggregation": null,
        "pivotColumns": null,
        "xColumns": null,
        "yColumns": null
       },
       "removedWidgets": [],
       "schema": [
        {
         "metadata": "{}",
         "name": "summary",
         "type": "\"string\""
        },
        {
         "metadata": "{}",
         "name": "price",
         "type": "\"string\""
        }
       ],
       "type": "table"
      }
     },
     "output_type": "display_data"
    },
    {
     "name": "stdout",
     "output_type": "stream",
     "text": [
      "Out[78]: [1.59, 4.99, 12.99]"
     ]
    }
   ],
   "source": [
    "display(data.select('price').describe())\n",
    "data.approxQuantile('price', [0.25, 0.5, 0.75], 0)"
   ]
  },
  {
   "cell_type": "markdown",
   "metadata": {
    "application/vnd.databricks.v1+cell": {
     "cellMetadata": {
      "byteLimit": 2048000,
      "rowLimit": 10000
     },
     "inputWidgets": {},
     "nuid": "6b32b478-af85-4b0d-9d2d-7d86da0febc3",
     "showTitle": false,
     "title": ""
    }
   },
   "source": [
    "The mean price of a game is around $9 USD, with a standard deviation of $11 USD. \n",
    "We remark that our median is actually much lower than our mean, at $4.99 indicating that our prices are quite significantly positively skewed (there are many high price outliers).\n",
    "\n",
    "The minimum and maximum sit at the extremes of free and $999."
   ]
  },
  {
   "cell_type": "code",
   "execution_count": 0,
   "metadata": {
    "application/vnd.databricks.v1+cell": {
     "cellMetadata": {
      "byteLimit": 2048000,
      "rowLimit": 10000
     },
     "inputWidgets": {},
     "nuid": "a5a001ac-e79d-44eb-9a62-bc57b94acbd8",
     "showTitle": false,
     "title": ""
    }
   },
   "outputs": [
    {
     "data": {
      "text/html": [
       "<style scoped>\n",
       "  .table-result-container {\n",
       "    max-height: 300px;\n",
       "    overflow: auto;\n",
       "  }\n",
       "  table, th, td {\n",
       "    border: 1px solid black;\n",
       "    border-collapse: collapse;\n",
       "  }\n",
       "  th, td {\n",
       "    padding: 5px;\n",
       "  }\n",
       "  th {\n",
       "    text-align: left;\n",
       "  }\n",
       "</style><div class='table-result-container'><table class='table-result'><thead style='background-color: white'><tr><th>name</th><th>genre</th><th>developer</th><th>price</th></tr></thead><tbody><tr><td>Ascent Free-Roaming VR Experience</td><td>Action</td><td>Fury Games</td><td>999.0</td></tr></tbody></table></div>"
      ]
     },
     "metadata": {
      "application/vnd.databricks.v1+output": {
       "addedWidgets": {},
       "aggData": [],
       "aggError": "",
       "aggOverflow": false,
       "aggSchema": [],
       "aggSeriesLimitReached": false,
       "aggType": "",
       "arguments": {},
       "columnCustomDisplayInfos": {},
       "data": [
        [
         "Ascent Free-Roaming VR Experience",
         "Action",
         "Fury Games",
         999
        ]
       ],
       "datasetInfos": [],
       "dbfsResultPath": null,
       "isJsonSchema": true,
       "metadata": {},
       "overflow": false,
       "plotOptions": {
        "customPlotOptions": {},
        "displayType": "table",
        "pivotAggregation": null,
        "pivotColumns": null,
        "xColumns": null,
        "yColumns": null
       },
       "removedWidgets": [],
       "schema": [
        {
         "metadata": "{}",
         "name": "name",
         "type": "\"string\""
        },
        {
         "metadata": "{}",
         "name": "genre",
         "type": "\"string\""
        },
        {
         "metadata": "{}",
         "name": "developer",
         "type": "\"string\""
        },
        {
         "metadata": "{}",
         "name": "price",
         "type": "\"double\""
        }
       ],
       "type": "table"
      }
     },
     "output_type": "display_data"
    }
   ],
   "source": [
    "display(data.filter(F.col('price') == 999).select(['name', 'genre', 'developer', 'price']))"
   ]
  },
  {
   "cell_type": "markdown",
   "metadata": {
    "application/vnd.databricks.v1+cell": {
     "cellMetadata": {
      "byteLimit": 2048000,
      "rowLimit": 10000
     },
     "inputWidgets": {},
     "nuid": "90d1cc46-2517-41af-9e6a-fb9282d75123",
     "showTitle": false,
     "title": ""
    }
   },
   "source": [
    "Out of curiousity, we find that there is a single game on Steam priced at $999: 'Ascent Free-Roaming VR Experience'"
   ]
  },
  {
   "cell_type": "code",
   "execution_count": 0,
   "metadata": {
    "application/vnd.databricks.v1+cell": {
     "cellMetadata": {
      "byteLimit": 2048000,
      "rowLimit": 10000
     },
     "inputWidgets": {},
     "nuid": "d6dd34f1-5c58-4d4b-8448-c455aa0294cc",
     "showTitle": false,
     "title": ""
    }
   },
   "outputs": [],
   "source": [
    "data_discount = data.groupBy('name').max().filter(F.col('max(discount)') > 0)"
   ]
  },
  {
   "cell_type": "code",
   "execution_count": 0,
   "metadata": {
    "application/vnd.databricks.v1+cell": {
     "cellMetadata": {
      "byteLimit": 2048000,
      "rowLimit": 10000
     },
     "inputWidgets": {},
     "nuid": "bdf1b0b2-8767-4151-8d4d-0663f02572c7",
     "showTitle": false,
     "title": ""
    }
   },
   "outputs": [
    {
     "name": "stdout",
     "output_type": "stream",
     "text": [
      "Amount of games with a discount:  0.434 %\n",
      "Average discount for games that do have a discount:  57.59 %\n"
     ]
    }
   ],
   "source": [
    "print(\n",
    "    'Amount of games with a discount: ',\n",
    "   round(data_discount.count() / data.count() * 100, 3),\n",
    "   '%'\n",
    ")\n",
    "\n",
    "print(\n",
    "    'Average discount for games that do have a discount: ',\n",
    "    round(data_discount.select(F.mean('max(discount)')).collect()[0][0], 2),\n",
    "    '%'\n",
    ")"
   ]
  },
  {
   "cell_type": "markdown",
   "metadata": {
    "application/vnd.databricks.v1+cell": {
     "cellMetadata": {
      "byteLimit": 2048000,
      "rowLimit": 10000
     },
     "inputWidgets": {},
     "nuid": "90f648b9-8eb2-422b-9282-b16806cf8b88",
     "showTitle": false,
     "title": ""
    }
   },
   "source": [
    "\n",
    "The average discount for games that *do* have a discount is 60%, however, very few games are discounted on Steam overall: perhaps this is due to the many \"junk\" games on the platform that are rarely updated or played. Let's try to filter these out by only looking at games with more than 1,000 reviews."
   ]
  },
  {
   "cell_type": "code",
   "execution_count": 0,
   "metadata": {
    "application/vnd.databricks.v1+cell": {
     "cellMetadata": {
      "byteLimit": 2048000,
      "rowLimit": 10000
     },
     "inputWidgets": {},
     "nuid": "21d1ae81-16ee-4141-ac6d-8c43055c942b",
     "showTitle": false,
     "title": ""
    }
   },
   "outputs": [
    {
     "name": "stdout",
     "output_type": "stream",
     "text": [
      "Average owners of discounted games: 883099.0 \n",
      " Average owners of undiscounted games: 1143049.0\n"
     ]
    }
   ],
   "source": [
    "\n",
    "print(\n",
    "    'Average owners of discounted games:',  \n",
    "    round(data_discount.filter((F.col('max(positive)') + F.col('max(negative)')) > 1000).select(F.mean('max(owners)')).collect()[0][0], 0),\n",
    "    '\\n',\n",
    "    'Average owners of undiscounted games:',\n",
    "    round(data.groupBy('name').max().filter((F.col('max(positive)') + F.col('max(negative)')) > 1000).select(F.mean('max(owners)')).collect()[0][0], 0))"
   ]
  },
  {
   "cell_type": "markdown",
   "metadata": {
    "application/vnd.databricks.v1+cell": {
     "cellMetadata": {
      "byteLimit": 2048000,
      "rowLimit": 10000
     },
     "inputWidgets": {},
     "nuid": "83829a2f-799a-48e0-b7ee-64bbc47a34c5",
     "showTitle": false,
     "title": ""
    }
   },
   "source": [
    "\n",
    "\n",
    "When filtering out games with a low amount of total reviews, we find that undiscounted games actually have a higher amount of average owners. Perhaps games discount themselves hoping to get more users, indicating they had few in the first place."
   ]
  },
  {
   "cell_type": "markdown",
   "metadata": {
    "application/vnd.databricks.v1+cell": {
     "cellMetadata": {
      "byteLimit": 2048000,
      "rowLimit": 10000
     },
     "inputWidgets": {},
     "nuid": "9d75ad09-5026-4be2-9ac5-3f471b800e74",
     "showTitle": false,
     "title": ""
    }
   },
   "source": [
    "#### What are the most represented languages?"
   ]
  },
  {
   "cell_type": "code",
   "execution_count": 0,
   "metadata": {
    "application/vnd.databricks.v1+cell": {
     "cellMetadata": {
      "byteLimit": 2048000,
      "rowLimit": 10000
     },
     "inputWidgets": {},
     "nuid": "0514fcd4-03d0-44ec-abc7-6f64e07b6e7c",
     "showTitle": false,
     "title": ""
    }
   },
   "outputs": [
    {
     "data": {
      "text/html": [
       "<style scoped>\n",
       "  .table-result-container {\n",
       "    max-height: 300px;\n",
       "    overflow: auto;\n",
       "  }\n",
       "  table, th, td {\n",
       "    border: 1px solid black;\n",
       "    border-collapse: collapse;\n",
       "  }\n",
       "  th, td {\n",
       "    padding: 5px;\n",
       "  }\n",
       "  th {\n",
       "    text-align: left;\n",
       "  }\n",
       "</style><div class='table-result-container'><table class='table-result'><thead style='background-color: white'><tr><th>languages</th><th>count</th></tr></thead><tbody><tr><td>English</td><td>154137</td></tr><tr><td> German</td><td>38220</td></tr><tr><td> Simplified Chinese</td><td>36910</td></tr><tr><td> Russian</td><td>36872</td></tr><tr><td> French</td><td>36590</td></tr><tr><td> Spanish - Spain</td><td>33859</td></tr><tr><td> Japanese</td><td>28191</td></tr><tr><td> Italian</td><td>25104</td></tr><tr><td> Portuguese - Brazil</td><td>19650</td></tr><tr><td> Korean</td><td>19022</td></tr></tbody></table></div>"
      ]
     },
     "metadata": {
      "application/vnd.databricks.v1+output": {
       "addedWidgets": {},
       "aggData": [],
       "aggError": "",
       "aggOverflow": false,
       "aggSchema": [],
       "aggSeriesLimitReached": false,
       "aggType": "",
       "arguments": {},
       "columnCustomDisplayInfos": {},
       "data": [
        [
         "English",
         154137
        ],
        [
         " German",
         38220
        ],
        [
         " Simplified Chinese",
         36910
        ],
        [
         " Russian",
         36872
        ],
        [
         " French",
         36590
        ],
        [
         " Spanish - Spain",
         33859
        ],
        [
         " Japanese",
         28191
        ],
        [
         " Italian",
         25104
        ],
        [
         " Portuguese - Brazil",
         19650
        ],
        [
         " Korean",
         19022
        ]
       ],
       "datasetInfos": [],
       "dbfsResultPath": null,
       "isJsonSchema": true,
       "metadata": {},
       "overflow": false,
       "plotOptions": {
        "customPlotOptions": {},
        "displayType": "table",
        "pivotAggregation": null,
        "pivotColumns": null,
        "xColumns": null,
        "yColumns": null
       },
       "removedWidgets": [],
       "schema": [
        {
         "metadata": "{}",
         "name": "languages",
         "type": "\"string\""
        },
        {
         "metadata": "{}",
         "name": "count",
         "type": "\"long\""
        }
       ],
       "type": "table"
      }
     },
     "output_type": "display_data"
    }
   ],
   "source": [
    "display(\n",
    "    data.groupBy('languages').count().orderBy('count', ascending=False).limit(10),\n",
    "    data.groupBy('languages').count().orderBy('count', ascending=True).limit(5)\n",
    ")"
   ]
  },
  {
   "cell_type": "markdown",
   "metadata": {
    "application/vnd.databricks.v1+cell": {
     "cellMetadata": {
      "byteLimit": 2048000,
      "rowLimit": 10000
     },
     "inputWidgets": {},
     "nuid": "9d641da6-fe8b-4950-bd49-f47fafe9e321",
     "showTitle": false,
     "title": ""
    }
   },
   "source": [
    "Unsurprisingly, we see English as the most common language for steam games with 4 times more games than any other language. Closely following, we have most major european lanugages (German, Russian, French, Spanish, Italian) alongside a few asian languages such as Simplified/Traditional Mandarin and Korean.\n",
    "\n",
    "Our 5 least popular languages contain 4 'languages' that are actually variations on our most common languages. With some effort cleaning this data, we could get a better representation of which languages are the least supported."
   ]
  },
  {
   "cell_type": "code",
   "execution_count": 0,
   "metadata": {
    "application/vnd.databricks.v1+cell": {
     "cellMetadata": {
      "byteLimit": 2048000,
      "rowLimit": 10000
     },
     "inputWidgets": {},
     "nuid": "e57e617f-7349-4b44-9c9b-0a6206982463",
     "showTitle": false,
     "title": ""
    }
   },
   "outputs": [
    {
     "name": "stdout",
     "output_type": "stream",
     "text": [
      "Out[84]: 4.5697250539558105"
     ]
    }
   ],
   "source": [
    "data.filter(F.col('languages') != 'English').groupBy('name').max().count() / data.count() * 100"
   ]
  },
  {
   "cell_type": "markdown",
   "metadata": {
    "application/vnd.databricks.v1+cell": {
     "cellMetadata": {
      "byteLimit": 2048000,
      "rowLimit": 10000
     },
     "inputWidgets": {},
     "nuid": "8b7b46ee-54aa-4fe4-a9b8-965666984843",
     "showTitle": false,
     "title": ""
    }
   },
   "source": [
    "It looks like we only have 4.5% of all games that *do not* have English as a language."
   ]
  },
  {
   "cell_type": "markdown",
   "metadata": {
    "application/vnd.databricks.v1+cell": {
     "cellMetadata": {
      "byteLimit": 2048000,
      "rowLimit": 10000
     },
     "inputWidgets": {},
     "nuid": "9f96604d-0230-4578-94fe-196d69352ec4",
     "showTitle": false,
     "title": ""
    }
   },
   "source": [
    "#### Are there any games prohibited from children under 16/18?"
   ]
  },
  {
   "cell_type": "code",
   "execution_count": 0,
   "metadata": {
    "application/vnd.databricks.v1+cell": {
     "cellMetadata": {
      "byteLimit": 2048000,
      "rowLimit": 10000
     },
     "inputWidgets": {},
     "nuid": "889d77e6-36ac-46be-ba64-7ddd863c945f",
     "showTitle": false,
     "title": ""
    }
   },
   "outputs": [
    {
     "name": "stdout",
     "output_type": "stream",
     "text": [
      "1.3882730862723651\n",
      "0.4347518550275084\n"
     ]
    }
   ],
   "source": [
    "print(data.filter(F.col('required_age') > 0).count() / data.count() * 100)\n",
    "print(data.filter(F.col('required_age') >= 18).count() / data.count() * 100)"
   ]
  },
  {
   "cell_type": "markdown",
   "metadata": {
    "application/vnd.databricks.v1+cell": {
     "cellMetadata": {
      "byteLimit": 2048000,
      "rowLimit": 10000
     },
     "inputWidgets": {},
     "nuid": "d6961901-9253-47ce-aea2-cee4cc93fe04",
     "showTitle": false,
     "title": ""
    }
   },
   "source": [
    "Only 1.4% of games feature an age rating above 0, meaning a vast majority of games on Steam are considered suitable for everyone. We could anticipate that this is done so that developers can maximise the accessibility of their games, although this doesn't take into account the possibility that some games are simply 'unrated' due to a lack of means. We will explore this in our next step.\n",
    "\n",
    "An even more impressively low 0.4% of games are rated over 18, showing just how few games are targeted at mature audiences."
   ]
  },
  {
   "cell_type": "code",
   "execution_count": 0,
   "metadata": {
    "application/vnd.databricks.v1+cell": {
     "cellMetadata": {
      "byteLimit": 2048000,
      "rowLimit": 10000
     },
     "inputWidgets": {},
     "nuid": "3943e90f-aba4-409b-a07b-ac35ab6a38bf",
     "showTitle": false,
     "title": ""
    }
   },
   "outputs": [
    {
     "name": "stdout",
     "output_type": "stream",
     "text": [
      "+-------------------+\n",
      "|median(max(owners))|\n",
      "+-------------------+\n",
      "|            75000.0|\n",
      "+-------------------+\n",
      "\n",
      "+-------------------+\n",
      "|median(max(owners))|\n",
      "+-------------------+\n",
      "|            10000.0|\n",
      "+-------------------+\n",
      "\n",
      "+--------------------+\n",
      "|median(max(revenue))|\n",
      "+--------------------+\n",
      "|            452275.0|\n",
      "+--------------------+\n",
      "\n",
      "+--------------------+\n",
      "|median(max(revenue))|\n",
      "+--------------------+\n",
      "|             59900.0|\n",
      "+--------------------+\n",
      "\n",
      "None None None None\n"
     ]
    }
   ],
   "source": [
    "print(\n",
    "    data.filter(F.col('required_age') > 0).groupBy('name').max().select(F.median('max(owners)')).show(),\n",
    "    data.groupBy('name').max().select(F.median('max(owners)')).show(),\n",
    "    data.filter(F.col('required_age') > 0).groupBy('name').max().select(F.median('max(revenue)')).show(),\n",
    "    data.groupBy('name').max().select(F.median('max(revenue)')).show()\n",
    ")"
   ]
  },
  {
   "cell_type": "markdown",
   "metadata": {
    "application/vnd.databricks.v1+cell": {
     "cellMetadata": {
      "byteLimit": 2048000,
      "rowLimit": 10000
     },
     "inputWidgets": {},
     "nuid": "29f12f84-4a52-4b6f-9fbf-6a78f1db3751",
     "showTitle": false,
     "title": ""
    }
   },
   "source": [
    "\n",
    "When we look at purchase and revenue amounts, we find some interesting insights. It seems as though games that are rated actually have significantly higher player bases and revenue amounts. This actually points us to our previous remark, the possibility that games are unrated due to a lack of means or effort.\n",
    "\n",
    "If we look at the games we used to analyze our prices, we see that most of those games did actually feature an age rating. Maybe we can suppose that games that have the means (and necessity) to receive a proper age rating score are also games produced by the largest studios"
   ]
  },
  {
   "cell_type": "markdown",
   "metadata": {
    "application/vnd.databricks.v1+cell": {
     "cellMetadata": {
      "byteLimit": 2048000,
      "rowLimit": 10000
     },
     "inputWidgets": {},
     "nuid": "d844b534-86f1-4eb2-b960-cf8a833c4626",
     "showTitle": false,
     "title": ""
    }
   },
   "source": [
    "# Genre Analysis"
   ]
  },
  {
   "cell_type": "markdown",
   "metadata": {
    "application/vnd.databricks.v1+cell": {
     "cellMetadata": {
      "byteLimit": 2048000,
      "rowLimit": 10000
     },
     "inputWidgets": {},
     "nuid": "7998d923-f162-4fe5-8244-b9fcaba2e743",
     "showTitle": true,
     "title": ""
    }
   },
   "source": [
    "#### What are the most represented genres?"
   ]
  },
  {
   "cell_type": "code",
   "execution_count": 0,
   "metadata": {
    "application/vnd.databricks.v1+cell": {
     "cellMetadata": {
      "byteLimit": 2048000,
      "rowLimit": 10000
     },
     "inputWidgets": {},
     "nuid": "02285c25-45fa-412b-8db4-1aa327e0b092",
     "showTitle": false,
     "title": ""
    }
   },
   "outputs": [
    {
     "data": {
      "text/html": [
       "<style scoped>\n",
       "  .table-result-container {\n",
       "    max-height: 300px;\n",
       "    overflow: auto;\n",
       "  }\n",
       "  table, th, td {\n",
       "    border: 1px solid black;\n",
       "    border-collapse: collapse;\n",
       "  }\n",
       "  th, td {\n",
       "    padding: 5px;\n",
       "  }\n",
       "  th {\n",
       "    text-align: left;\n",
       "  }\n",
       "</style><div class='table-result-container'><table class='table-result'><thead style='background-color: white'><tr><th>genre</th><th>count</th></tr></thead><tbody><tr><td> Indie</td><td>124887</td></tr><tr><td>Action</td><td>87070</td></tr><tr><td> Casual</td><td>47249</td></tr><tr><td> Adventure</td><td>41376</td></tr><tr><td>Casual</td><td>39712</td></tr><tr><td>Adventure</td><td>39032</td></tr><tr><td> Strategy</td><td>39010</td></tr><tr><td> Simulation</td><td>37902</td></tr><tr><td> RPG</td><td>28607</td></tr><tr><td> Early Access</td><td>16480</td></tr></tbody></table></div>"
      ]
     },
     "metadata": {
      "application/vnd.databricks.v1+output": {
       "addedWidgets": {},
       "aggData": [],
       "aggError": "",
       "aggOverflow": false,
       "aggSchema": [],
       "aggSeriesLimitReached": false,
       "aggType": "",
       "arguments": {},
       "columnCustomDisplayInfos": {},
       "data": [
        [
         " Indie",
         124887
        ],
        [
         "Action",
         87070
        ],
        [
         " Casual",
         47249
        ],
        [
         " Adventure",
         41376
        ],
        [
         "Casual",
         39712
        ],
        [
         "Adventure",
         39032
        ],
        [
         " Strategy",
         39010
        ],
        [
         " Simulation",
         37902
        ],
        [
         " RPG",
         28607
        ],
        [
         " Early Access",
         16480
        ]
       ],
       "datasetInfos": [],
       "dbfsResultPath": null,
       "isJsonSchema": true,
       "metadata": {},
       "overflow": false,
       "plotOptions": {
        "customPlotOptions": {},
        "displayType": "table",
        "pivotAggregation": null,
        "pivotColumns": null,
        "xColumns": null,
        "yColumns": null
       },
       "removedWidgets": [],
       "schema": [
        {
         "metadata": "{}",
         "name": "genre",
         "type": "\"string\""
        },
        {
         "metadata": "{}",
         "name": "count",
         "type": "\"long\""
        }
       ],
       "type": "table"
      }
     },
     "output_type": "display_data"
    }
   ],
   "source": [
    "display(\n",
    "    data.groupBy('genre').count().orderBy('count', ascending=False).limit(10)\n",
    ")"
   ]
  },
  {
   "cell_type": "markdown",
   "metadata": {
    "application/vnd.databricks.v1+cell": {
     "cellMetadata": {
      "byteLimit": 2048000,
      "rowLimit": 10000
     },
     "inputWidgets": {},
     "nuid": "73528c03-4061-40db-9afd-051b8a0df867",
     "showTitle": false,
     "title": ""
    }
   },
   "source": [
    "Indie games are the most popular genre, which is expected given that they are also the games that generally require the lowest effort and development team size. Apart from that, the top genres are those we expect to be most common."
   ]
  },
  {
   "cell_type": "markdown",
   "metadata": {
    "application/vnd.databricks.v1+cell": {
     "cellMetadata": {
      "byteLimit": 2048000,
      "rowLimit": 10000
     },
     "inputWidgets": {},
     "nuid": "33ae5869-634d-4b6d-9485-5c00ff1ff5ed",
     "showTitle": false,
     "title": ""
    }
   },
   "source": [
    "#### Are there any genres that have a better positive/negative review ratio?"
   ]
  },
  {
   "cell_type": "code",
   "execution_count": 0,
   "metadata": {
    "application/vnd.databricks.v1+cell": {
     "cellMetadata": {
      "byteLimit": 2048000,
      "rowLimit": 10000
     },
     "inputWidgets": {},
     "nuid": "116ae176-0af0-40b1-abe6-6281fd1c63f1",
     "showTitle": false,
     "title": ""
    }
   },
   "outputs": [
    {
     "data": {
      "text/html": [
       "<style scoped>\n",
       "  .table-result-container {\n",
       "    max-height: 300px;\n",
       "    overflow: auto;\n",
       "  }\n",
       "  table, th, td {\n",
       "    border: 1px solid black;\n",
       "    border-collapse: collapse;\n",
       "  }\n",
       "  th, td {\n",
       "    padding: 5px;\n",
       "  }\n",
       "  th {\n",
       "    text-align: left;\n",
       "  }\n",
       "</style><div class='table-result-container'><table class='table-result'><thead style='background-color: white'><tr><th>genre</th><th>average_rating</th><th>games_in_genre</th></tr></thead><tbody><tr><td>Game Development</td><td>0.875543159820522</td><td>45</td></tr><tr><td>Early Access</td><td>0.7843566496034051</td><td>54</td></tr><tr><td>Adventure</td><td>0.7780953752061316</td><td>38944</td></tr><tr><td>Casual</td><td>0.7706988605203206</td><td>39489</td></tr><tr><td>RPG</td><td>0.7654013017744452</td><td>2616</td></tr><tr><td> Indie</td><td>0.7641087007044408</td><td>124415</td></tr><tr><td>Strategy</td><td>0.7551537898233701</td><td>2772</td></tr><tr><td> Casual</td><td>0.7545438234542035</td><td>47082</td></tr><tr><td>Indie</td><td>0.747609130221416</td><td>16237</td></tr><tr><td>Action</td><td>0.7460070916159153</td><td>86864</td></tr></tbody></table></div>"
      ]
     },
     "metadata": {
      "application/vnd.databricks.v1+output": {
       "addedWidgets": {},
       "aggData": [],
       "aggError": "",
       "aggOverflow": false,
       "aggSchema": [],
       "aggSeriesLimitReached": false,
       "aggType": "",
       "arguments": {},
       "columnCustomDisplayInfos": {},
       "data": [
        [
         "Game Development",
         0.875543159820522,
         45
        ],
        [
         "Early Access",
         0.7843566496034051,
         54
        ],
        [
         "Adventure",
         0.7780953752061316,
         38944
        ],
        [
         "Casual",
         0.7706988605203206,
         39489
        ],
        [
         "RPG",
         0.7654013017744452,
         2616
        ],
        [
         " Indie",
         0.7641087007044408,
         124415
        ],
        [
         "Strategy",
         0.7551537898233701,
         2772
        ],
        [
         " Casual",
         0.7545438234542035,
         47082
        ],
        [
         "Indie",
         0.747609130221416,
         16237
        ],
        [
         "Action",
         0.7460070916159153,
         86864
        ]
       ],
       "datasetInfos": [],
       "dbfsResultPath": null,
       "isJsonSchema": true,
       "metadata": {},
       "overflow": false,
       "plotOptions": {
        "customPlotOptions": {},
        "displayType": "table",
        "pivotAggregation": null,
        "pivotColumns": null,
        "xColumns": null,
        "yColumns": null
       },
       "removedWidgets": [],
       "schema": [
        {
         "metadata": "{}",
         "name": "genre",
         "type": "\"string\""
        },
        {
         "metadata": "{}",
         "name": "average_rating",
         "type": "\"double\""
        },
        {
         "metadata": "{}",
         "name": "games_in_genre",
         "type": "\"long\""
        }
       ],
       "type": "table"
      }
     },
     "output_type": "display_data"
    }
   ],
   "source": [
    "display(\n",
    "    data.groupBy('genre').agg(F.mean('rating').alias('average_rating'), F.count('rating').alias('games_in_genre')).orderBy('average_rating', ascending=False).limit(10),\n",
    "    data.groupBy('genre').agg(F.mean('rating').alias('average_rating'), F.count('rating').alias('games_in_genre')).orderBy('average_rating', ascending=True).limit(10)\n",
    ")"
   ]
  },
  {
   "cell_type": "markdown",
   "metadata": {
    "application/vnd.databricks.v1+cell": {
     "cellMetadata": {
      "byteLimit": 2048000,
      "rowLimit": 10000
     },
     "inputWidgets": {},
     "nuid": "cd854c35-ae5b-46fc-bcf4-922cdf3f5c29",
     "showTitle": false,
     "title": ""
    }
   },
   "source": [
    "Once more, we see our most common genres as those with the highest average ratings. They all hover around the same score of 75%, which roughly corresponds to the average rating of games on steam in general (see next code block). We also note 2 outliers with exceptionally high average ratings."
   ]
  },
  {
   "cell_type": "code",
   "execution_count": 0,
   "metadata": {
    "application/vnd.databricks.v1+cell": {
     "cellMetadata": {
      "byteLimit": 2048000,
      "rowLimit": 10000
     },
     "inputWidgets": {},
     "nuid": "842c535d-57fe-4b08-bec6-1dc09a146c2d",
     "showTitle": false,
     "title": ""
    }
   },
   "outputs": [
    {
     "data": {
      "text/html": [
       "<style scoped>\n",
       "  .table-result-container {\n",
       "    max-height: 300px;\n",
       "    overflow: auto;\n",
       "  }\n",
       "  table, th, td {\n",
       "    border: 1px solid black;\n",
       "    border-collapse: collapse;\n",
       "  }\n",
       "  th, td {\n",
       "    padding: 5px;\n",
       "  }\n",
       "  th {\n",
       "    text-align: left;\n",
       "  }\n",
       "</style><div class='table-result-container'><table class='table-result'><thead style='background-color: white'><tr><th>avg(rating)</th></tr></thead><tbody><tr><td>0.7375417323235289</td></tr></tbody></table></div>"
      ]
     },
     "metadata": {
      "application/vnd.databricks.v1+output": {
       "addedWidgets": {},
       "aggData": [],
       "aggError": "",
       "aggOverflow": false,
       "aggSchema": [],
       "aggSeriesLimitReached": false,
       "aggType": "",
       "arguments": {},
       "columnCustomDisplayInfos": {},
       "data": [
        [
         0.7375417323235289
        ]
       ],
       "datasetInfos": [],
       "dbfsResultPath": null,
       "isJsonSchema": true,
       "metadata": {},
       "overflow": false,
       "plotOptions": {
        "customPlotOptions": {},
        "displayType": "table",
        "pivotAggregation": null,
        "pivotColumns": null,
        "xColumns": null,
        "yColumns": null
       },
       "removedWidgets": [],
       "schema": [
        {
         "metadata": "{}",
         "name": "avg(rating)",
         "type": "\"double\""
        }
       ],
       "type": "table"
      }
     },
     "output_type": "display_data"
    }
   ],
   "source": [
    "display(data.groupBy('name').agg(F.max('rating').alias('rating')).select(F.mean('rating')))"
   ]
  },
  {
   "cell_type": "markdown",
   "metadata": {
    "application/vnd.databricks.v1+cell": {
     "cellMetadata": {
      "byteLimit": 2048000,
      "rowLimit": 10000
     },
     "inputWidgets": {},
     "nuid": "12a0de42-e4a6-4b9e-b885-7e2825d84baa",
     "showTitle": false,
     "title": ""
    }
   },
   "source": [
    "What is more interesting to note, is that all of the worst rated genres are quite niche, under a few hundred games whereas the most popular genres had 10s of thousands of games."
   ]
  },
  {
   "cell_type": "markdown",
   "metadata": {
    "application/vnd.databricks.v1+cell": {
     "cellMetadata": {
      "byteLimit": 2048000,
      "rowLimit": 10000
     },
     "inputWidgets": {},
     "nuid": "3c360fc9-0e1c-4218-8590-a5fb8b6943d1",
     "showTitle": false,
     "title": ""
    }
   },
   "source": [
    "#### Do some publishers have favourite genres?"
   ]
  },
  {
   "cell_type": "code",
   "execution_count": 0,
   "metadata": {
    "application/vnd.databricks.v1+cell": {
     "cellMetadata": {
      "byteLimit": 2048000,
      "rowLimit": 10000
     },
     "inputWidgets": {},
     "nuid": "45b56469-fcff-466b-9b18-67b1cba78f8e",
     "showTitle": false,
     "title": ""
    }
   },
   "outputs": [],
   "source": [
    "publisher_genre_data = data.groupBy('publisher', 'genre').count()\n",
    "publisher_owner_data = data.groupBy('publisher').mean('owners')\n",
    "publisher_data = publisher_genre_data.join(publisher_owner_data, 'publisher', 'left')\n",
    "max_genre_publisher_data = data.groupBy('publisher', 'genre').count().groupBy('publisher').max('count')\n",
    "favourite_publisher_genre_data = publisher_data.join(max_genre_publisher_data, 'publisher', 'left')\n"
   ]
  },
  {
   "cell_type": "code",
   "execution_count": 0,
   "metadata": {
    "application/vnd.databricks.v1+cell": {
     "cellMetadata": {
      "byteLimit": 2048000,
      "rowLimit": 10000
     },
     "inputWidgets": {},
     "nuid": "7a256a66-a13e-457e-b2bc-2384307f459a",
     "showTitle": false,
     "title": ""
    }
   },
   "outputs": [
    {
     "data": {
      "text/html": [
       "<style scoped>\n",
       "  .table-result-container {\n",
       "    max-height: 300px;\n",
       "    overflow: auto;\n",
       "  }\n",
       "  table, th, td {\n",
       "    border: 1px solid black;\n",
       "    border-collapse: collapse;\n",
       "  }\n",
       "  th, td {\n",
       "    padding: 5px;\n",
       "  }\n",
       "  th {\n",
       "    text-align: left;\n",
       "  }\n",
       "</style><div class='table-result-container'><table class='table-result'><thead style='background-color: white'><tr><th>publisher</th><th>genre</th><th>count</th><th>avg(owners)</th><th>max(count)</th></tr></thead><tbody><tr><td>Valve</td><td>Action</td><td>346</td><td>6.3068692196531795E7</td><td>346</td></tr><tr><td>Amazon Games</td><td>Action</td><td>20</td><td>4.6411764705882356E7</td><td>20</td></tr><tr><td>KRAFTON, Inc.</td><td>Action</td><td>23</td><td>4.52279203539823E7</td><td>23</td></tr><tr><td>Wallpaper Engine Team</td><td> Animation & Modeling</td><td>23</td><td>3.5E7</td><td>23</td></tr><tr><td>Wallpaper Engine Team</td><td> Indie</td><td>23</td><td>3.5E7</td><td>23</td></tr><tr><td>Wallpaper Engine Team</td><td>Casual</td><td>23</td><td>3.5E7</td><td>23</td></tr><tr><td>Wallpaper Engine Team</td><td> Design & Illustration</td><td>23</td><td>3.5E7</td><td>23</td></tr><tr><td>Wallpaper Engine Team</td><td> Photo Editing</td><td>23</td><td>3.5E7</td><td>23</td></tr><tr><td>Wallpaper Engine Team</td><td> Utilities</td><td>23</td><td>3.5E7</td><td>23</td></tr><tr><td>FromSoftware Inc., Bandai Namco Entertainment</td><td> RPG</td><td>14</td><td>3.5E7</td><td>14</td></tr><tr><td>FromSoftware Inc., Bandai Namco Entertainment</td><td>Action</td><td>14</td><td>3.5E7</td><td>14</td></tr><tr><td>Bungie</td><td>Action</td><td>13</td><td>3.5E7</td><td>13</td></tr><tr><td>Bungie</td><td> Free to Play</td><td>13</td><td>3.5E7</td><td>13</td></tr><tr><td>Bungie</td><td> Adventure</td><td>13</td><td>3.5E7</td><td>13</td></tr><tr><td>Grinding Gear Games</td><td>Action</td><td>7</td><td>3.5E7</td><td>7</td></tr><tr><td>Grinding Gear Games</td><td> Indie</td><td>7</td><td>3.5E7</td><td>7</td></tr><tr><td>Grinding Gear Games</td><td> Free to Play</td><td>7</td><td>3.5E7</td><td>7</td></tr><tr><td>Grinding Gear Games</td><td> Massively Multiplayer</td><td>7</td><td>3.5E7</td><td>7</td></tr><tr><td>Grinding Gear Games</td><td> RPG</td><td>7</td><td>3.5E7</td><td>7</td></tr><tr><td>Grinding Gear Games</td><td> Adventure</td><td>7</td><td>3.5E7</td><td>7</td></tr></tbody></table></div>"
      ]
     },
     "metadata": {
      "application/vnd.databricks.v1+output": {
       "addedWidgets": {},
       "aggData": [],
       "aggError": "",
       "aggOverflow": false,
       "aggSchema": [],
       "aggSeriesLimitReached": false,
       "aggType": "",
       "arguments": {},
       "columnCustomDisplayInfos": {},
       "data": [
        [
         "Valve",
         "Action",
         346,
         63068692.196531795,
         346
        ],
        [
         "Amazon Games",
         "Action",
         20,
         46411764.705882356,
         20
        ],
        [
         "KRAFTON, Inc.",
         "Action",
         23,
         45227920.3539823,
         23
        ],
        [
         "Wallpaper Engine Team",
         " Animation & Modeling",
         23,
         35000000,
         23
        ],
        [
         "Wallpaper Engine Team",
         " Indie",
         23,
         35000000,
         23
        ],
        [
         "Wallpaper Engine Team",
         "Casual",
         23,
         35000000,
         23
        ],
        [
         "Wallpaper Engine Team",
         " Design & Illustration",
         23,
         35000000,
         23
        ],
        [
         "Wallpaper Engine Team",
         " Photo Editing",
         23,
         35000000,
         23
        ],
        [
         "Wallpaper Engine Team",
         " Utilities",
         23,
         35000000,
         23
        ],
        [
         "FromSoftware Inc., Bandai Namco Entertainment",
         " RPG",
         14,
         35000000,
         14
        ],
        [
         "FromSoftware Inc., Bandai Namco Entertainment",
         "Action",
         14,
         35000000,
         14
        ],
        [
         "Bungie",
         "Action",
         13,
         35000000,
         13
        ],
        [
         "Bungie",
         " Free to Play",
         13,
         35000000,
         13
        ],
        [
         "Bungie",
         " Adventure",
         13,
         35000000,
         13
        ],
        [
         "Grinding Gear Games",
         "Action",
         7,
         35000000,
         7
        ],
        [
         "Grinding Gear Games",
         " Indie",
         7,
         35000000,
         7
        ],
        [
         "Grinding Gear Games",
         " Free to Play",
         7,
         35000000,
         7
        ],
        [
         "Grinding Gear Games",
         " Massively Multiplayer",
         7,
         35000000,
         7
        ],
        [
         "Grinding Gear Games",
         " RPG",
         7,
         35000000,
         7
        ],
        [
         "Grinding Gear Games",
         " Adventure",
         7,
         35000000,
         7
        ]
       ],
       "datasetInfos": [],
       "dbfsResultPath": null,
       "isJsonSchema": true,
       "metadata": {},
       "overflow": false,
       "plotOptions": {
        "customPlotOptions": {},
        "displayType": "table",
        "pivotAggregation": null,
        "pivotColumns": null,
        "xColumns": null,
        "yColumns": null
       },
       "removedWidgets": [],
       "schema": [
        {
         "metadata": "{}",
         "name": "publisher",
         "type": "\"string\""
        },
        {
         "metadata": "{}",
         "name": "genre",
         "type": "\"string\""
        },
        {
         "metadata": "{}",
         "name": "count",
         "type": "\"long\""
        },
        {
         "metadata": "{}",
         "name": "avg(owners)",
         "type": "\"double\""
        },
        {
         "metadata": "{}",
         "name": "max(count)",
         "type": "\"long\""
        }
       ],
       "type": "table"
      }
     },
     "output_type": "display_data"
    }
   ],
   "source": [
    "display(\n",
    "    favourite_publisher_genre_data.filter(F.col('count') == F.col('max(count)')).orderBy(['avg(owners)', 'count'], ascending=False).limit(20)\n",
    ")"
   ]
  },
  {
   "cell_type": "markdown",
   "metadata": {
    "application/vnd.databricks.v1+cell": {
     "cellMetadata": {
      "byteLimit": 2048000,
      "rowLimit": 10000
     },
     "inputWidgets": {},
     "nuid": "d523889b-26c2-4867-8287-1846239c599f",
     "showTitle": false,
     "title": ""
    }
   },
   "source": [
    "t looks like action games are the genre that the biggest publishers like to publish the most, although we'd have to explore or data further if we wanted to be able to say that they publish those games significantly more than any other game. Note that we often have duplicate entires of publishers, this is due many of these publishers having published an even amount of games of multiple genres (don't forget games can have multiple genres!)."
   ]
  },
  {
   "cell_type": "markdown",
   "metadata": {
    "application/vnd.databricks.v1+cell": {
     "cellMetadata": {
      "byteLimit": 2048000,
      "rowLimit": 10000
     },
     "inputWidgets": {},
     "nuid": "9f1b8586-08b7-418b-81b8-a54f8a1ac97e",
     "showTitle": false,
     "title": ""
    }
   },
   "source": [
    "#### What are the most lucrative genres?"
   ]
  },
  {
   "cell_type": "code",
   "execution_count": 0,
   "metadata": {
    "application/vnd.databricks.v1+cell": {
     "cellMetadata": {
      "byteLimit": 2048000,
      "rowLimit": 10000
     },
     "inputWidgets": {},
     "nuid": "4224941a-5484-4ed3-98ba-c7b85c88fc60",
     "showTitle": false,
     "title": ""
    }
   },
   "outputs": [
    {
     "data": {
      "text/html": [
       "<style scoped>\n",
       "  .table-result-container {\n",
       "    max-height: 300px;\n",
       "    overflow: auto;\n",
       "  }\n",
       "  table, th, td {\n",
       "    border: 1px solid black;\n",
       "    border-collapse: collapse;\n",
       "  }\n",
       "  th, td {\n",
       "    padding: 5px;\n",
       "  }\n",
       "  th {\n",
       "    text-align: left;\n",
       "  }\n",
       "</style><div class='table-result-container'><table class='table-result'><thead style='background-color: white'><tr><th>genre</th><th>avg(revenue)</th></tr></thead><tbody><tr><td>RPG</td><td>1.9517454411764707E7</td></tr><tr><td> Animation & Modeling</td><td>1.7885429281767957E7</td></tr><tr><td>Strategy</td><td>1.4149998035328045E7</td></tr><tr><td> Massively Multiplayer</td><td>1.2178633122553447E7</td></tr><tr><td> RPG</td><td>8339238.322788129</td></tr><tr><td>Simulation</td><td>7974726.925440393</td></tr><tr><td> Adventure</td><td>7938345.849042923</td></tr><tr><td> Photo Editing</td><td>7902480.968468469</td></tr><tr><td>Action</td><td>7289354.654875387</td></tr><tr><td>Racing</td><td>6537795.6701599555</td></tr></tbody></table></div>"
      ]
     },
     "metadata": {
      "application/vnd.databricks.v1+output": {
       "addedWidgets": {},
       "aggData": [],
       "aggError": "",
       "aggOverflow": false,
       "aggSchema": [],
       "aggSeriesLimitReached": false,
       "aggType": "",
       "arguments": {},
       "columnCustomDisplayInfos": {},
       "data": [
        [
         "RPG",
         19517454.411764707
        ],
        [
         " Animation & Modeling",
         17885429.281767957
        ],
        [
         "Strategy",
         14149998.035328045
        ],
        [
         " Massively Multiplayer",
         12178633.122553447
        ],
        [
         " RPG",
         8339238.322788129
        ],
        [
         "Simulation",
         7974726.925440393
        ],
        [
         " Adventure",
         7938345.849042923
        ],
        [
         " Photo Editing",
         7902480.968468469
        ],
        [
         "Action",
         7289354.654875387
        ],
        [
         "Racing",
         6537795.6701599555
        ]
       ],
       "datasetInfos": [],
       "dbfsResultPath": null,
       "isJsonSchema": true,
       "metadata": {},
       "overflow": false,
       "plotOptions": {
        "customPlotOptions": {},
        "displayType": "table",
        "pivotAggregation": null,
        "pivotColumns": null,
        "xColumns": null,
        "yColumns": null
       },
       "removedWidgets": [],
       "schema": [
        {
         "metadata": "{}",
         "name": "genre",
         "type": "\"string\""
        },
        {
         "metadata": "{}",
         "name": "avg(revenue)",
         "type": "\"double\""
        }
       ],
       "type": "table"
      }
     },
     "output_type": "display_data"
    }
   ],
   "source": [
    "display(data.groupBy('genre').mean('revenue').orderBy('avg(revenue)', ascending=False).limit(10),\n",
    "        data.groupBy('genre').mean('revenue').orderBy('avg(revenue)', ascending=True).limit(10))"
   ]
  },
  {
   "cell_type": "markdown",
   "metadata": {
    "application/vnd.databricks.v1+cell": {
     "cellMetadata": {
      "byteLimit": 2048000,
      "rowLimit": 10000
     },
     "inputWidgets": {},
     "nuid": "99f89f98-bcbc-456a-8a27-587ef661707a",
     "showTitle": false,
     "title": ""
    }
   },
   "source": [
    "MMOs and RPGs are unsurprisingly some of the most lucrative games out there, thanks to their service-based model."
   ]
  },
  {
   "cell_type": "markdown",
   "metadata": {
    "application/vnd.databricks.v1+cell": {
     "cellMetadata": {
      "byteLimit": 2048000,
      "rowLimit": 10000
     },
     "inputWidgets": {},
     "nuid": "e1868924-79f5-4fec-abca-bcbd05dfb1f3",
     "showTitle": false,
     "title": ""
    }
   },
   "source": [
    "# Platform analysis"
   ]
  },
  {
   "cell_type": "markdown",
   "metadata": {
    "application/vnd.databricks.v1+cell": {
     "cellMetadata": {
      "byteLimit": 2048000,
      "rowLimit": 10000
     },
     "inputWidgets": {},
     "nuid": "0a75ae73-4733-4e53-a034-52ab3a3da0dd",
     "showTitle": false,
     "title": ""
    }
   },
   "source": [
    "#### Are most games available on Windows/Mac/Linux?"
   ]
  },
  {
   "cell_type": "code",
   "execution_count": 0,
   "metadata": {
    "application/vnd.databricks.v1+cell": {
     "cellMetadata": {
      "byteLimit": 2048000,
      "rowLimit": 10000
     },
     "inputWidgets": {},
     "nuid": "0078962c-be35-4b55-806f-7d4b1dbd04d5",
     "showTitle": false,
     "title": ""
    }
   },
   "outputs": [
    {
     "name": "stdout",
     "output_type": "stream",
     "text": [
      "windows 99.98016013359994 %\n",
      "linux 19.60937890866933 %\n",
      "mac 29.25552195238087 %\n"
     ]
    }
   ],
   "source": [
    "platforms = ['windows', 'linux', 'mac']\n",
    "\n",
    "for platform in platforms:\n",
    "  print(platform, data.filter(F.col(platform) == True).count()/data.count()*100, '%')"
   ]
  },
  {
   "cell_type": "markdown",
   "metadata": {
    "application/vnd.databricks.v1+cell": {
     "cellMetadata": {
      "byteLimit": 2048000,
      "rowLimit": 10000
     },
     "inputWidgets": {},
     "nuid": "941a4550-c443-48e8-a1e6-b00f6164cb91",
     "showTitle": false,
     "title": ""
    }
   },
   "source": [
    "As expected, almost all games are supported by Windows given it is the defacto consumer platform. Linux and Mac both have a similarly low level of support at 19% and 29% respectively, although this does not take into account the Proton emulator for Linux that makes a majority of Steam's library available on the platform."
   ]
  },
  {
   "cell_type": "markdown",
   "metadata": {
    "application/vnd.databricks.v1+cell": {
     "cellMetadata": {
      "byteLimit": 2048000,
      "rowLimit": 10000
     },
     "inputWidgets": {},
     "nuid": "8078dfbd-bdab-432a-a9ba-3b7e4cf7a12e",
     "showTitle": false,
     "title": ""
    }
   },
   "source": [
    "#### Do certain genres tend to be preferentially available on certain platforms?"
   ]
  },
  {
   "cell_type": "code",
   "execution_count": 0,
   "metadata": {
    "application/vnd.databricks.v1+cell": {
     "cellMetadata": {
      "byteLimit": 2048000,
      "rowLimit": 10000
     },
     "inputWidgets": {},
     "nuid": "6f08ad84-b016-4d5c-986b-665d80ed0082",
     "showTitle": false,
     "title": ""
    }
   },
   "outputs": [],
   "source": [
    "games_per_genre_data = data.groupBy('genre').agg(F.count('*').alias('genre_amount'))\n",
    "windows_per_genre_data = data.filter(F.col('windows') == True).groupBy('genre').agg(F.count('*').alias('windows_amount'))\n",
    "linux_per_genre_data = data.filter(F.col('linux') == True).groupBy('genre').agg(F.count('*').alias('linux_amount'))\n",
    "mac_per_genre_data = data.filter(F.col('mac') == True).groupBy('genre').agg(F.count('*').alias('mac_amount'))\n",
    "\n",
    "platform_genre_data = games_per_genre_data.join(windows_per_genre_data, 'genre', 'left') \\\n",
    "    .join(linux_per_genre_data, 'genre', 'left') \\\n",
    "    .join(mac_per_genre_data, 'genre', 'left')\n",
    "\n",
    "platform_genre_data = platform_genre_data.withColumn('windows', F.round(F.col('windows_amount') / F.col('genre_amount'), 2)) \\\n",
    "    .withColumn('linux', F.round(F.col('linux_amount') / F.col('genre_amount'), 2)) \\\n",
    "    .withColumn('mac', F.round(F.col('mac_amount') / F.col('genre_amount'), 2))"
   ]
  },
  {
   "cell_type": "code",
   "execution_count": 0,
   "metadata": {
    "application/vnd.databricks.v1+cell": {
     "cellMetadata": {
      "byteLimit": 2048000,
      "rowLimit": 10000
     },
     "inputWidgets": {},
     "nuid": "fb34fb6e-2700-4b25-ac59-c0589ac8a377",
     "showTitle": false,
     "title": ""
    }
   },
   "outputs": [
    {
     "data": {
      "text/html": [
       "<style scoped>\n",
       "  .table-result-container {\n",
       "    max-height: 300px;\n",
       "    overflow: auto;\n",
       "  }\n",
       "  table, th, td {\n",
       "    border: 1px solid black;\n",
       "    border-collapse: collapse;\n",
       "  }\n",
       "  th, td {\n",
       "    padding: 5px;\n",
       "  }\n",
       "  th {\n",
       "    text-align: left;\n",
       "  }\n",
       "</style><div class='table-result-container'><table class='table-result'><thead style='background-color: white'><tr><th>genre</th><th>genre_amount</th><th>windows_amount</th><th>linux_amount</th><th>mac_amount</th><th>windows</th><th>linux</th><th>mac</th></tr></thead><tbody><tr><td> Indie</td><td>124887</td><td>124877</td><td>26874</td><td>38106</td><td>1.0</td><td>0.22</td><td>0.31</td></tr><tr><td>Action</td><td>87070</td><td>87058</td><td>16766</td><td>21692</td><td>1.0</td><td>0.19</td><td>0.25</td></tr><tr><td> Casual</td><td>47249</td><td>47246</td><td>9882</td><td>15364</td><td>1.0</td><td>0.21</td><td>0.33</td></tr><tr><td> Adventure</td><td>41376</td><td>41375</td><td>7592</td><td>9968</td><td>1.0</td><td>0.18</td><td>0.24</td></tr><tr><td>Casual</td><td>39712</td><td>39711</td><td>6930</td><td>10723</td><td>1.0</td><td>0.17</td><td>0.27</td></tr><tr><td>Adventure</td><td>39032</td><td>39023</td><td>7335</td><td>13767</td><td>1.0</td><td>0.19</td><td>0.35</td></tr><tr><td> Strategy</td><td>39010</td><td>39003</td><td>9197</td><td>14389</td><td>1.0</td><td>0.24</td><td>0.37</td></tr><tr><td> Simulation</td><td>37902</td><td>37895</td><td>8072</td><td>11808</td><td>1.0</td><td>0.21</td><td>0.31</td></tr><tr><td> RPG</td><td>28607</td><td>28606</td><td>5311</td><td>8119</td><td>1.0</td><td>0.19</td><td>0.28</td></tr><tr><td> Early Access</td><td>16480</td><td>16480</td><td>2346</td><td>3131</td><td>1.0</td><td>0.14</td><td>0.19</td></tr><tr><td>Indie</td><td>16255</td><td>16254</td><td>3899</td><td>5873</td><td>1.0</td><td>0.24</td><td>0.36</td></tr><tr><td> Sports</td><td>10191</td><td>10190</td><td>1902</td><td>2824</td><td>1.0</td><td>0.19</td><td>0.28</td></tr><tr><td> Free to Play</td><td>9486</td><td>9484</td><td>1758</td><td>2861</td><td>1.0</td><td>0.19</td><td>0.3</td></tr><tr><td> Racing</td><td>7570</td><td>7569</td><td>1720</td><td>2223</td><td>1.0</td><td>0.23</td><td>0.29</td></tr><tr><td> Massively Multiplayer</td><td>6642</td><td>6641</td><td>1030</td><td>1695</td><td>1.0</td><td>0.16</td><td>0.26</td></tr><tr><td>Simulation</td><td>4882</td><td>4855</td><td>590</td><td>1593</td><td>0.99</td><td>0.12</td><td>0.33</td></tr><tr><td>Strategy</td><td>2774</td><td>2774</td><td>558</td><td>916</td><td>1.0</td><td>0.2</td><td>0.33</td></tr><tr><td>RPG</td><td>2618</td><td>2618</td><td>300</td><td>443</td><td>1.0</td><td>0.11</td><td>0.17</td></tr><tr><td>Free to Play</td><td>2374</td><td>2374</td><td>445</td><td>866</td><td>1.0</td><td>0.19</td><td>0.36</td></tr><tr><td> Utilities</td><td>1889</td><td>1876</td><td>103</td><td>386</td><td>0.99</td><td>0.05</td><td>0.2</td></tr></tbody></table></div>"
      ]
     },
     "metadata": {
      "application/vnd.databricks.v1+output": {
       "addedWidgets": {},
       "aggData": [],
       "aggError": "",
       "aggOverflow": false,
       "aggSchema": [],
       "aggSeriesLimitReached": false,
       "aggType": "",
       "arguments": {},
       "columnCustomDisplayInfos": {},
       "data": [
        [
         " Indie",
         124887,
         124877,
         26874,
         38106,
         1,
         0.22,
         0.31
        ],
        [
         "Action",
         87070,
         87058,
         16766,
         21692,
         1,
         0.19,
         0.25
        ],
        [
         " Casual",
         47249,
         47246,
         9882,
         15364,
         1,
         0.21,
         0.33
        ],
        [
         " Adventure",
         41376,
         41375,
         7592,
         9968,
         1,
         0.18,
         0.24
        ],
        [
         "Casual",
         39712,
         39711,
         6930,
         10723,
         1,
         0.17,
         0.27
        ],
        [
         "Adventure",
         39032,
         39023,
         7335,
         13767,
         1,
         0.19,
         0.35
        ],
        [
         " Strategy",
         39010,
         39003,
         9197,
         14389,
         1,
         0.24,
         0.37
        ],
        [
         " Simulation",
         37902,
         37895,
         8072,
         11808,
         1,
         0.21,
         0.31
        ],
        [
         " RPG",
         28607,
         28606,
         5311,
         8119,
         1,
         0.19,
         0.28
        ],
        [
         " Early Access",
         16480,
         16480,
         2346,
         3131,
         1,
         0.14,
         0.19
        ],
        [
         "Indie",
         16255,
         16254,
         3899,
         5873,
         1,
         0.24,
         0.36
        ],
        [
         " Sports",
         10191,
         10190,
         1902,
         2824,
         1,
         0.19,
         0.28
        ],
        [
         " Free to Play",
         9486,
         9484,
         1758,
         2861,
         1,
         0.19,
         0.3
        ],
        [
         " Racing",
         7570,
         7569,
         1720,
         2223,
         1,
         0.23,
         0.29
        ],
        [
         " Massively Multiplayer",
         6642,
         6641,
         1030,
         1695,
         1,
         0.16,
         0.26
        ],
        [
         "Simulation",
         4882,
         4855,
         590,
         1593,
         0.99,
         0.12,
         0.33
        ],
        [
         "Strategy",
         2774,
         2774,
         558,
         916,
         1,
         0.2,
         0.33
        ],
        [
         "RPG",
         2618,
         2618,
         300,
         443,
         1,
         0.11,
         0.17
        ],
        [
         "Free to Play",
         2374,
         2374,
         445,
         866,
         1,
         0.19,
         0.36
        ],
        [
         " Utilities",
         1889,
         1876,
         103,
         386,
         0.99,
         0.05,
         0.2
        ]
       ],
       "datasetInfos": [],
       "dbfsResultPath": null,
       "isJsonSchema": true,
       "metadata": {},
       "overflow": false,
       "plotOptions": {
        "customPlotOptions": {},
        "displayType": "table",
        "pivotAggregation": null,
        "pivotColumns": null,
        "xColumns": null,
        "yColumns": null
       },
       "removedWidgets": [],
       "schema": [
        {
         "metadata": "{}",
         "name": "genre",
         "type": "\"string\""
        },
        {
         "metadata": "{}",
         "name": "genre_amount",
         "type": "\"long\""
        },
        {
         "metadata": "{}",
         "name": "windows_amount",
         "type": "\"long\""
        },
        {
         "metadata": "{}",
         "name": "linux_amount",
         "type": "\"long\""
        },
        {
         "metadata": "{}",
         "name": "mac_amount",
         "type": "\"long\""
        },
        {
         "metadata": "{}",
         "name": "windows",
         "type": "\"double\""
        },
        {
         "metadata": "{}",
         "name": "linux",
         "type": "\"double\""
        },
        {
         "metadata": "{}",
         "name": "mac",
         "type": "\"double\""
        }
       ],
       "type": "table"
      }
     },
     "output_type": "display_data"
    }
   ],
   "source": [
    "display(platform_genre_data.orderBy('genre_amount', ascending=False).limit(20))"
   ]
  },
  {
   "cell_type": "markdown",
   "metadata": {
    "application/vnd.databricks.v1+cell": {
     "cellMetadata": {
      "byteLimit": 2048000,
      "rowLimit": 10000
     },
     "inputWidgets": {},
     "nuid": "1fb6de55-122d-4394-8b92-7d2363f51a9a",
     "showTitle": false,
     "title": ""
    }
   },
   "source": [
    "# Addtional Analysis"
   ]
  },
  {
   "cell_type": "markdown",
   "metadata": {
    "application/vnd.databricks.v1+cell": {
     "cellMetadata": {
      "byteLimit": 2048000,
      "rowLimit": 10000
     },
     "inputWidgets": {},
     "nuid": "67a49259-174f-4ea5-b39d-e0cbdb314f71",
     "showTitle": false,
     "title": ""
    }
   },
   "source": [
    "#### Do better rated games sell better?"
   ]
  },
  {
   "cell_type": "code",
   "execution_count": 0,
   "metadata": {
    "application/vnd.databricks.v1+cell": {
     "cellMetadata": {
      "byteLimit": 2048000,
      "rowLimit": 10000
     },
     "inputWidgets": {},
     "nuid": "cf5c3eaa-4ed1-48fb-9076-4639e9c01ada",
     "showTitle": false,
     "title": ""
    }
   },
   "outputs": [],
   "source": [
    "data_rating = data.withColumn('rating_category', F.when(F.col('rating') > 0.95, 'Overwhelmingly Positive')\n",
    "                                    .when((F.col('rating') > 0.80) & (F.col('rating') < 0.95), 'Very Positive')\n",
    "                                    .when((F.col('rating') > 0.70) & (F.col('rating') < 0.80), 'Positive')\n",
    "                                    .when((F.col('rating') > 0.40) & (F.col('rating') < 0.70), 'Mixed')\n",
    "                                    .when((F.col('rating') > 0.20) & (F.col('rating') < 0.40), 'Mostly Negative')\n",
    "                                    .when((F.col('rating') > 0.00) & (F.col('rating') < 0.20), 'Very Negative')\n",
    "                                    )"
   ]
  },
  {
   "cell_type": "code",
   "execution_count": 0,
   "metadata": {
    "application/vnd.databricks.v1+cell": {
     "cellMetadata": {
      "byteLimit": 2048000,
      "rowLimit": 10000
     },
     "inputWidgets": {},
     "nuid": "c32a7bc7-5f32-4fd8-8bb5-fcc7294f17e2",
     "showTitle": false,
     "title": ""
    }
   },
   "outputs": [
    {
     "data": {
      "text/html": [
       "<style scoped>\n",
       "  .table-result-container {\n",
       "    max-height: 300px;\n",
       "    overflow: auto;\n",
       "  }\n",
       "  table, th, td {\n",
       "    border: 1px solid black;\n",
       "    border-collapse: collapse;\n",
       "  }\n",
       "  th, td {\n",
       "    padding: 5px;\n",
       "  }\n",
       "  th {\n",
       "    text-align: left;\n",
       "  }\n",
       "</style><div class='table-result-container'><table class='table-result'><thead style='background-color: white'><tr><th>rating_category</th><th>average_owners</th></tr></thead><tbody><tr><td>Overwhelmingly Positive</td><td>351933.0</td></tr><tr><td>Very Positive</td><td>626288.0</td></tr><tr><td>Positive</td><td>239794.0</td></tr><tr><td>Mixed</td><td>186960.0</td></tr><tr><td>null</td><td>15486.0</td></tr><tr><td>Mostly Negative</td><td>47728.0</td></tr><tr><td>Very Negative</td><td>19659.0</td></tr></tbody></table></div>"
      ]
     },
     "metadata": {
      "application/vnd.databricks.v1+output": {
       "addedWidgets": {},
       "aggData": [],
       "aggError": "",
       "aggOverflow": false,
       "aggSchema": [],
       "aggSeriesLimitReached": false,
       "aggType": "",
       "arguments": {},
       "columnCustomDisplayInfos": {},
       "data": [
        [
         "Overwhelmingly Positive",
         351933
        ],
        [
         "Very Positive",
         626288
        ],
        [
         "Positive",
         239794
        ],
        [
         "Mixed",
         186960
        ],
        [
         null,
         15486
        ],
        [
         "Mostly Negative",
         47728
        ],
        [
         "Very Negative",
         19659
        ]
       ],
       "datasetInfos": [],
       "dbfsResultPath": null,
       "isJsonSchema": true,
       "metadata": {},
       "overflow": false,
       "plotOptions": {
        "customPlotOptions": {},
        "displayType": "table",
        "pivotAggregation": null,
        "pivotColumns": null,
        "xColumns": null,
        "yColumns": null
       },
       "removedWidgets": [],
       "schema": [
        {
         "metadata": "{}",
         "name": "rating_category",
         "type": "\"string\""
        },
        {
         "metadata": "{}",
         "name": "average_owners",
         "type": "\"double\""
        }
       ],
       "type": "table"
      }
     },
     "output_type": "display_data"
    }
   ],
   "source": [
    "display(\n",
    "    data_rating.groupBy('rating_category').mean('owners', 'rating').orderBy('avg(rating)', ascending=False).drop('avg(rating)').withColumn('average_owners', F.round('avg(owners)', 0)).drop('avg(owners)').limit(10)\n",
    ")"
   ]
  },
  {
   "cell_type": "markdown",
   "metadata": {
    "application/vnd.databricks.v1+cell": {
     "cellMetadata": {
      "byteLimit": 2048000,
      "rowLimit": 10000
     },
     "inputWidgets": {},
     "nuid": "d1e20814-9669-41ed-8a07-64e1c4a4986b",
     "showTitle": false,
     "title": ""
    }
   },
   "source": [
    "As expected, we see that the games with the best reviews often have more sales, with a very steep drop off once a game is considered \"Mostly Negative\" by Steam. We also see that \"Overwhelmingly Positive\" actually have lower ownership, but this could be due to games with very low review counts being considered."
   ]
  },
  {
   "cell_type": "code",
   "execution_count": 0,
   "metadata": {
    "application/vnd.databricks.v1+cell": {
     "cellMetadata": {
      "byteLimit": 2048000,
      "rowLimit": 10000
     },
     "inputWidgets": {},
     "nuid": "2dc01e30-2bb6-4f54-af05-c43465c1f3c3",
     "showTitle": false,
     "title": ""
    }
   },
   "outputs": [
    {
     "data": {
      "text/html": [
       "<style scoped>\n",
       "  .table-result-container {\n",
       "    max-height: 300px;\n",
       "    overflow: auto;\n",
       "  }\n",
       "  table, th, td {\n",
       "    border: 1px solid black;\n",
       "    border-collapse: collapse;\n",
       "  }\n",
       "  th, td {\n",
       "    padding: 5px;\n",
       "  }\n",
       "  th {\n",
       "    text-align: left;\n",
       "  }\n",
       "</style><div class='table-result-container'><table class='table-result'><thead style='background-color: white'><tr><th>rating_category</th><th>average_owners</th></tr></thead><tbody><tr><td>Overwhelmingly Positive</td><td>2336926.0</td></tr><tr><td>Very Positive</td><td>1958077.0</td></tr><tr><td>Positive</td><td>1065329.0</td></tr><tr><td>Mixed</td><td>1488003.0</td></tr><tr><td>Mostly Negative</td><td>1193608.0</td></tr><tr><td>Very Negative</td><td>176071.0</td></tr></tbody></table></div>"
      ]
     },
     "metadata": {
      "application/vnd.databricks.v1+output": {
       "addedWidgets": {},
       "aggData": [],
       "aggError": "",
       "aggOverflow": false,
       "aggSchema": [],
       "aggSeriesLimitReached": false,
       "aggType": "",
       "arguments": {},
       "columnCustomDisplayInfos": {},
       "data": [
        [
         "Overwhelmingly Positive",
         2336926
        ],
        [
         "Very Positive",
         1958077
        ],
        [
         "Positive",
         1065329
        ],
        [
         "Mixed",
         1488003
        ],
        [
         "Mostly Negative",
         1193608
        ],
        [
         "Very Negative",
         176071
        ]
       ],
       "datasetInfos": [],
       "dbfsResultPath": null,
       "isJsonSchema": true,
       "metadata": {},
       "overflow": false,
       "plotOptions": {
        "customPlotOptions": {},
        "displayType": "table",
        "pivotAggregation": null,
        "pivotColumns": null,
        "xColumns": null,
        "yColumns": null
       },
       "removedWidgets": [],
       "schema": [
        {
         "metadata": "{}",
         "name": "rating_category",
         "type": "\"string\""
        },
        {
         "metadata": "{}",
         "name": "average_owners",
         "type": "\"double\""
        }
       ],
       "type": "table"
      }
     },
     "output_type": "display_data"
    }
   ],
   "source": [
    "display(\n",
    "    data_rating.filter((F.col('positive') + F.col('negative')) > 1000).groupBy('rating_category').mean('owners', 'rating').orderBy('avg(rating)', ascending=False).drop('avg(rating)').withColumn('average_owners', F.round('avg(owners)', 0)).drop('avg(owners)').limit(10)\n",
    ")"
   ]
  },
  {
   "cell_type": "markdown",
   "metadata": {
    "application/vnd.databricks.v1+cell": {
     "cellMetadata": {
      "byteLimit": 2048000,
      "rowLimit": 10000
     },
     "inputWidgets": {},
     "nuid": "aa4f54a1-4f78-4d80-9a42-e4f193242eca",
     "showTitle": false,
     "title": ""
    }
   },
   "source": [
    "\n",
    "When we only look at games with significant amounts of reviews, the distribution becomes a lot more regular. Average owners steadily increases with ratings (with a small exception for mixed reviews that are slightly lower than expected, and very negative reviews which have very few players)."
   ]
  },
  {
   "cell_type": "markdown",
   "metadata": {
    "application/vnd.databricks.v1+cell": {
     "cellMetadata": {
      "byteLimit": 2048000,
      "rowLimit": 10000
     },
     "inputWidgets": {},
     "nuid": "d5642fa5-8166-43ed-aa27-979109d7567b",
     "showTitle": false,
     "title": ""
    }
   },
   "source": [
    "#### Do games that support Mac also support Linux? And vice versa?"
   ]
  },
  {
   "cell_type": "code",
   "execution_count": 0,
   "metadata": {
    "application/vnd.databricks.v1+cell": {
     "cellMetadata": {
      "byteLimit": 2048000,
      "rowLimit": 10000
     },
     "inputWidgets": {},
     "nuid": "176a63ae-02a1-470d-8f4a-5b9170b18c38",
     "showTitle": false,
     "title": ""
    }
   },
   "outputs": [],
   "source": [
    "linux_data = data.filter(F.col('linux') == True)\n",
    "mac_data = data.filter(F.col('mac') == True)"
   ]
  },
  {
   "cell_type": "code",
   "execution_count": 0,
   "metadata": {
    "application/vnd.databricks.v1+cell": {
     "cellMetadata": {
      "byteLimit": 2048000,
      "rowLimit": 10000
     },
     "inputWidgets": {},
     "nuid": "e09b331d-c364-4c15-98a9-1b846113fda6",
     "showTitle": false,
     "title": ""
    }
   },
   "outputs": [
    {
     "name": "stdout",
     "output_type": "stream",
     "text": [
      "Percent of games that support Mac or Linux:  32.097798464911904 \n",
      " Percent of Linux games that support Mac:  85.50552505630631 \n",
      " Percent of Mac games that support Linux:  57.31260725216274\n"
     ]
    }
   ],
   "source": [
    "print(\n",
    "    'Percent of games that support Mac or Linux: ',\n",
    "    data.filter((F.col('mac') == True) | (F.col('linux') == True)).count() / data.count() * 100,\n",
    "    '\\n',\n",
    "    'Percent of Linux games that support Mac: ',\n",
    "    linux_data.filter(F.col('mac') == True).count() / linux_data.count() * 100,\n",
    "    '\\n',\n",
    "    'Percent of Mac games that support Linux: ',\n",
    "    mac_data.filter(F.col('linux') == True).count() / mac_data.count() * 100\n",
    ")"
   ]
  },
  {
   "cell_type": "markdown",
   "metadata": {
    "application/vnd.databricks.v1+cell": {
     "cellMetadata": {
      "byteLimit": 2048000,
      "rowLimit": 10000
     },
     "inputWidgets": {},
     "nuid": "23b9ca8b-6e09-4073-a3e3-197f0144de51",
     "showTitle": false,
     "title": ""
    }
   },
   "source": [
    "\n",
    "It does indeed look like games that support Mac or Linux support the other secondary platform more often. It makes sense that studios with the ressources and will to support multiple platforms would go through the effort of supporting both, rather than only one. We do note that Linux games are generally more cross-compatible, could this be due to the open-source nature of the platform and mindset of the developers that create for it?"
   ]
  },
  {
   "cell_type": "markdown",
   "metadata": {
    "application/vnd.databricks.v1+cell": {
     "cellMetadata": {
      "byteLimit": 2048000,
      "rowLimit": 10000
     },
     "inputWidgets": {},
     "nuid": "8b1cd66b-7664-4027-810b-483254aac175",
     "showTitle": false,
     "title": ""
    }
   },
   "source": [
    "#### How has the price of games evolved over the years?"
   ]
  },
  {
   "cell_type": "code",
   "execution_count": 0,
   "metadata": {
    "application/vnd.databricks.v1+cell": {
     "cellMetadata": {
      "byteLimit": 2048000,
      "rowLimit": 10000
     },
     "inputWidgets": {},
     "nuid": "6b2b9d93-093d-4ce2-8523-031862bbcf4c",
     "showTitle": false,
     "title": ""
    }
   },
   "outputs": [
    {
     "data": {
      "text/html": [
       "<style scoped>\n",
       "  .table-result-container {\n",
       "    max-height: 300px;\n",
       "    overflow: auto;\n",
       "  }\n",
       "  table, th, td {\n",
       "    border: 1px solid black;\n",
       "    border-collapse: collapse;\n",
       "  }\n",
       "  th, td {\n",
       "    padding: 5px;\n",
       "  }\n",
       "  th {\n",
       "    text-align: left;\n",
       "  }\n",
       "</style><div class='table-result-container'><table class='table-result'><thead style='background-color: white'><tr><th>year(release_date)</th><th>avg(price)</th></tr></thead><tbody><tr><td>2022</td><td>11.043988809942753</td></tr><tr><td>2021</td><td>10.001366648445044</td></tr><tr><td>2020</td><td>8.632283256255551</td></tr><tr><td>2019</td><td>7.9693333955574275</td></tr><tr><td>2018</td><td>7.822365082973651</td></tr><tr><td>2017</td><td>7.686865315626159</td></tr><tr><td>2016</td><td>8.187749518300162</td></tr><tr><td>2015</td><td>8.379348498324983</td></tr><tr><td>2014</td><td>10.329954939098403</td></tr><tr><td>2013</td><td>11.524577234371861</td></tr><tr><td>2012</td><td>10.236208916368922</td></tr><tr><td>2011</td><td>9.619976765799509</td></tr><tr><td>2010</td><td>8.771747328723917</td></tr><tr><td>2009</td><td>9.703461084905488</td></tr><tr><td>2008</td><td>10.209217081850412</td></tr><tr><td>2007</td><td>7.228568376068308</td></tr><tr><td>2006</td><td>10.820507936507866</td></tr><tr><td>2005</td><td>7.093000000000002</td></tr><tr><td>2004</td><td>9.990000000000006</td></tr><tr><td>2003</td><td>4.470769230769227</td></tr><tr><td>2002</td><td>14.990000000000004</td></tr><tr><td>2001</td><td>9.02225806451613</td></tr><tr><td>2000</td><td>7.342941176470585</td></tr><tr><td>1999</td><td>4.324666666666668</td></tr><tr><td>1998</td><td>9.99</td></tr><tr><td>1997</td><td>15.69285714285714</td></tr><tr><td>null</td><td>8.017812234494471</td></tr></tbody></table></div>"
      ]
     },
     "metadata": {
      "application/vnd.databricks.v1+output": {
       "addedWidgets": {},
       "aggData": [],
       "aggError": "",
       "aggOverflow": false,
       "aggSchema": [],
       "aggSeriesLimitReached": false,
       "aggType": "",
       "arguments": {},
       "columnCustomDisplayInfos": {},
       "data": [
        [
         2022,
         11.043988809942753
        ],
        [
         2021,
         10.001366648445044
        ],
        [
         2020,
         8.632283256255551
        ],
        [
         2019,
         7.9693333955574275
        ],
        [
         2018,
         7.822365082973651
        ],
        [
         2017,
         7.686865315626159
        ],
        [
         2016,
         8.187749518300162
        ],
        [
         2015,
         8.379348498324983
        ],
        [
         2014,
         10.329954939098403
        ],
        [
         2013,
         11.524577234371861
        ],
        [
         2012,
         10.236208916368922
        ],
        [
         2011,
         9.619976765799509
        ],
        [
         2010,
         8.771747328723917
        ],
        [
         2009,
         9.703461084905488
        ],
        [
         2008,
         10.209217081850412
        ],
        [
         2007,
         7.228568376068308
        ],
        [
         2006,
         10.820507936507866
        ],
        [
         2005,
         7.093000000000002
        ],
        [
         2004,
         9.990000000000006
        ],
        [
         2003,
         4.470769230769227
        ],
        [
         2002,
         14.990000000000004
        ],
        [
         2001,
         9.02225806451613
        ],
        [
         2000,
         7.342941176470585
        ],
        [
         1999,
         4.324666666666668
        ],
        [
         1998,
         9.99
        ],
        [
         1997,
         15.69285714285714
        ],
        [
         null,
         8.017812234494471
        ]
       ],
       "datasetInfos": [],
       "dbfsResultPath": null,
       "isJsonSchema": true,
       "metadata": {},
       "overflow": false,
       "plotOptions": {
        "customPlotOptions": {},
        "displayType": "table",
        "pivotAggregation": null,
        "pivotColumns": null,
        "xColumns": null,
        "yColumns": null
       },
       "removedWidgets": [],
       "schema": [
        {
         "metadata": "{}",
         "name": "year(release_date)",
         "type": "\"integer\""
        },
        {
         "metadata": "{}",
         "name": "avg(price)",
         "type": "\"double\""
        }
       ],
       "type": "table"
      }
     },
     "output_type": "display_data"
    }
   ],
   "source": [
    "display(\n",
    "    data.groupBy(F.year('release_date')).mean('price').orderBy(F.year('release_date'), ascending=False).limit(100)\n",
    ")"
   ]
  },
  {
   "cell_type": "markdown",
   "metadata": {
    "application/vnd.databricks.v1+cell": {
     "cellMetadata": {
      "byteLimit": 2048000,
      "rowLimit": 10000
     },
     "inputWidgets": {},
     "nuid": "39533ae2-43f4-463f-9116-a64204d13325",
     "showTitle": false,
     "title": ""
    }
   },
   "source": [
    "#### Are certain genres more popular during certain seasons?"
   ]
  },
  {
   "cell_type": "code",
   "execution_count": 0,
   "metadata": {
    "application/vnd.databricks.v1+cell": {
     "cellMetadata": {
      "byteLimit": 2048000,
      "rowLimit": 10000
     },
     "inputWidgets": {},
     "nuid": "d6d66868-3195-467d-89fe-8210196e9b94",
     "showTitle": false,
     "title": ""
    }
   },
   "outputs": [],
   "source": [
    "data_seasons = data.withColumn('season', F.when(F.month('release_date') < 3, 0)\n",
    "                               .when(F.month('release_date') < 6, 1)\n",
    "                               .when(F.month('release_date') < 9, 2)\n",
    "                               .when(F.month('release_date') < 12, 3))"
   ]
  },
  {
   "cell_type": "code",
   "execution_count": 0,
   "metadata": {
    "application/vnd.databricks.v1+cell": {
     "cellMetadata": {
      "byteLimit": 2048000,
      "rowLimit": 10000
     },
     "inputWidgets": {},
     "nuid": "86882a36-8b6c-4ac7-85c7-b43382e13034",
     "showTitle": false,
     "title": ""
    }
   },
   "outputs": [],
   "source": [
    "top_genres = data.groupBy('genre').count().orderBy('count', ascending=False).limit(10).rdd.map(lambda x: x[0]).collect()"
   ]
  },
  {
   "cell_type": "code",
   "execution_count": 0,
   "metadata": {
    "application/vnd.databricks.v1+cell": {
     "cellMetadata": {
      "byteLimit": 2048000,
      "rowLimit": 10000
     },
     "inputWidgets": {},
     "nuid": "10663da4-4754-4f7f-872e-05bf0453f275",
     "showTitle": false,
     "title": ""
    }
   },
   "outputs": [
    {
     "data": {
      "text/html": [
       "<style scoped>\n",
       "  .table-result-container {\n",
       "    max-height: 300px;\n",
       "    overflow: auto;\n",
       "  }\n",
       "  table, th, td {\n",
       "    border: 1px solid black;\n",
       "    border-collapse: collapse;\n",
       "  }\n",
       "  th, td {\n",
       "    padding: 5px;\n",
       "  }\n",
       "  th {\n",
       "    text-align: left;\n",
       "  }\n",
       "</style><div class='table-result-container'><table class='table-result'><thead style='background-color: white'><tr><th>season</th><th>count</th></tr></thead><tbody><tr><td>null</td><td>9033</td></tr><tr><td>0</td><td>13686</td></tr><tr><td>1</td><td>27464</td></tr><tr><td>2</td><td>25951</td></tr><tr><td>3</td><td>30175</td></tr></tbody></table></div>"
      ]
     },
     "metadata": {
      "application/vnd.databricks.v1+output": {
       "addedWidgets": {},
       "aggData": [],
       "aggError": "",
       "aggOverflow": false,
       "aggSchema": [],
       "aggSeriesLimitReached": false,
       "aggType": "",
       "arguments": {},
       "columnCustomDisplayInfos": {},
       "data": [
        [
         null,
         9033
        ],
        [
         0,
         13686
        ],
        [
         1,
         27464
        ],
        [
         2,
         25951
        ],
        [
         3,
         30175
        ]
       ],
       "datasetInfos": [],
       "dbfsResultPath": null,
       "isJsonSchema": true,
       "metadata": {},
       "overflow": false,
       "plotOptions": {
        "customPlotOptions": {},
        "displayType": "table",
        "pivotAggregation": null,
        "pivotColumns": null,
        "xColumns": null,
        "yColumns": null
       },
       "removedWidgets": [],
       "schema": [
        {
         "metadata": "{}",
         "name": "season",
         "type": "\"integer\""
        },
        {
         "metadata": "{}",
         "name": "count",
         "type": "\"long\""
        }
       ],
       "type": "table"
      }
     },
     "output_type": "display_data"
    }
   ],
   "source": [
    "display(data_seasons.filter((F.col('positive') + F.col('negative')) > 1000).groupBy('season').count().orderBy('season'))"
   ]
  },
  {
   "cell_type": "markdown",
   "metadata": {
    "application/vnd.databricks.v1+cell": {
     "cellMetadata": {
      "byteLimit": 2048000,
      "rowLimit": 10000
     },
     "inputWidgets": {},
     "nuid": "c4b6f795-09dd-41e6-a74f-1e0c103cff49",
     "showTitle": false,
     "title": ""
    }
   },
   "source": [
    "Games are released seasonally, starting with a relatively low quantity in spring that rapidly doubles and stays elevated for the rest of the year. We can suppose that this is all due to publishers trying to maximise their sales during the holiday season, when they know consumers will pay full price for games."
   ]
  },
  {
   "cell_type": "code",
   "execution_count": 0,
   "metadata": {
    "application/vnd.databricks.v1+cell": {
     "cellMetadata": {
      "byteLimit": 2048000,
      "rowLimit": 10000
     },
     "inputWidgets": {},
     "nuid": "534404e6-0e69-4ffc-9651-d18bcd07a28d",
     "showTitle": false,
     "title": ""
    }
   },
   "outputs": [
    {
     "data": {
      "text/html": [
       "<style scoped>\n",
       "  .table-result-container {\n",
       "    max-height: 300px;\n",
       "    overflow: auto;\n",
       "  }\n",
       "  table, th, td {\n",
       "    border: 1px solid black;\n",
       "    border-collapse: collapse;\n",
       "  }\n",
       "  th, td {\n",
       "    padding: 5px;\n",
       "  }\n",
       "  th {\n",
       "    text-align: left;\n",
       "  }\n",
       "</style><div class='table-result-container'><table class='table-result'><thead style='background-color: white'><tr><th>genre</th><th>season</th><th>count</th></tr></thead><tbody><tr><td>Casual</td><td>3</td><td>965</td></tr><tr><td>Casual</td><td>2</td><td>942</td></tr><tr><td>Casual</td><td>1</td><td>867</td></tr><tr><td>Casual</td><td>0</td><td>476</td></tr><tr><td>Casual</td><td>null</td><td>443</td></tr><tr><td>Adventure</td><td>3</td><td>1917</td></tr><tr><td>Adventure</td><td>2</td><td>1589</td></tr><tr><td>Adventure</td><td>1</td><td>1807</td></tr><tr><td>Adventure</td><td>0</td><td>997</td></tr><tr><td>Adventure</td><td>null</td><td>470</td></tr><tr><td>Action</td><td>3</td><td>5577</td></tr><tr><td>Action</td><td>2</td><td>4859</td></tr><tr><td>Action</td><td>1</td><td>5014</td></tr><tr><td>Action</td><td>0</td><td>2275</td></tr><tr><td>Action</td><td>null</td><td>1458</td></tr><tr><td> Strategy</td><td>3</td><td>2247</td></tr><tr><td> Strategy</td><td>2</td><td>1876</td></tr><tr><td> Strategy</td><td>1</td><td>2343</td></tr><tr><td> Strategy</td><td>0</td><td>1061</td></tr><tr><td> Strategy</td><td>null</td><td>637</td></tr><tr><td> Simulation</td><td>3</td><td>2365</td></tr><tr><td> Simulation</td><td>2</td><td>2008</td></tr><tr><td> Simulation</td><td>1</td><td>1974</td></tr><tr><td> Simulation</td><td>0</td><td>913</td></tr><tr><td> Simulation</td><td>null</td><td>740</td></tr><tr><td> RPG</td><td>3</td><td>2053</td></tr><tr><td> RPG</td><td>2</td><td>1842</td></tr><tr><td> RPG</td><td>1</td><td>1776</td></tr><tr><td> RPG</td><td>0</td><td>1072</td></tr><tr><td> RPG</td><td>null</td><td>636</td></tr><tr><td> Indie</td><td>3</td><td>4896</td></tr><tr><td> Indie</td><td>2</td><td>4402</td></tr><tr><td> Indie</td><td>1</td><td>4815</td></tr><tr><td> Indie</td><td>0</td><td>2381</td></tr><tr><td> Indie</td><td>null</td><td>1438</td></tr><tr><td> Early Access</td><td>3</td><td>583</td></tr><tr><td> Early Access</td><td>2</td><td>645</td></tr><tr><td> Early Access</td><td>1</td><td>558</td></tr><tr><td> Early Access</td><td>0</td><td>412</td></tr><tr><td> Early Access</td><td>null</td><td>275</td></tr><tr><td> Casual</td><td>3</td><td>1371</td></tr><tr><td> Casual</td><td>2</td><td>1125</td></tr><tr><td> Casual</td><td>1</td><td>1413</td></tr><tr><td> Casual</td><td>0</td><td>687</td></tr><tr><td> Casual</td><td>null</td><td>438</td></tr><tr><td> Adventure</td><td>3</td><td>2527</td></tr><tr><td> Adventure</td><td>2</td><td>2338</td></tr><tr><td> Adventure</td><td>1</td><td>2209</td></tr><tr><td> Adventure</td><td>0</td><td>1167</td></tr><tr><td> Adventure</td><td>null</td><td>783</td></tr></tbody></table></div>"
      ]
     },
     "metadata": {
      "application/vnd.databricks.v1+output": {
       "addedWidgets": {},
       "aggData": [],
       "aggError": "",
       "aggOverflow": false,
       "aggSchema": [],
       "aggSeriesLimitReached": false,
       "aggType": "",
       "arguments": {},
       "columnCustomDisplayInfos": {},
       "data": [
        [
         "Casual",
         3,
         965
        ],
        [
         "Casual",
         2,
         942
        ],
        [
         "Casual",
         1,
         867
        ],
        [
         "Casual",
         0,
         476
        ],
        [
         "Casual",
         null,
         443
        ],
        [
         "Adventure",
         3,
         1917
        ],
        [
         "Adventure",
         2,
         1589
        ],
        [
         "Adventure",
         1,
         1807
        ],
        [
         "Adventure",
         0,
         997
        ],
        [
         "Adventure",
         null,
         470
        ],
        [
         "Action",
         3,
         5577
        ],
        [
         "Action",
         2,
         4859
        ],
        [
         "Action",
         1,
         5014
        ],
        [
         "Action",
         0,
         2275
        ],
        [
         "Action",
         null,
         1458
        ],
        [
         " Strategy",
         3,
         2247
        ],
        [
         " Strategy",
         2,
         1876
        ],
        [
         " Strategy",
         1,
         2343
        ],
        [
         " Strategy",
         0,
         1061
        ],
        [
         " Strategy",
         null,
         637
        ],
        [
         " Simulation",
         3,
         2365
        ],
        [
         " Simulation",
         2,
         2008
        ],
        [
         " Simulation",
         1,
         1974
        ],
        [
         " Simulation",
         0,
         913
        ],
        [
         " Simulation",
         null,
         740
        ],
        [
         " RPG",
         3,
         2053
        ],
        [
         " RPG",
         2,
         1842
        ],
        [
         " RPG",
         1,
         1776
        ],
        [
         " RPG",
         0,
         1072
        ],
        [
         " RPG",
         null,
         636
        ],
        [
         " Indie",
         3,
         4896
        ],
        [
         " Indie",
         2,
         4402
        ],
        [
         " Indie",
         1,
         4815
        ],
        [
         " Indie",
         0,
         2381
        ],
        [
         " Indie",
         null,
         1438
        ],
        [
         " Early Access",
         3,
         583
        ],
        [
         " Early Access",
         2,
         645
        ],
        [
         " Early Access",
         1,
         558
        ],
        [
         " Early Access",
         0,
         412
        ],
        [
         " Early Access",
         null,
         275
        ],
        [
         " Casual",
         3,
         1371
        ],
        [
         " Casual",
         2,
         1125
        ],
        [
         " Casual",
         1,
         1413
        ],
        [
         " Casual",
         0,
         687
        ],
        [
         " Casual",
         null,
         438
        ],
        [
         " Adventure",
         3,
         2527
        ],
        [
         " Adventure",
         2,
         2338
        ],
        [
         " Adventure",
         1,
         2209
        ],
        [
         " Adventure",
         0,
         1167
        ],
        [
         " Adventure",
         null,
         783
        ]
       ],
       "datasetInfos": [],
       "dbfsResultPath": null,
       "isJsonSchema": true,
       "metadata": {},
       "overflow": false,
       "plotOptions": {
        "customPlotOptions": {},
        "displayType": "table",
        "pivotAggregation": null,
        "pivotColumns": null,
        "xColumns": null,
        "yColumns": null
       },
       "removedWidgets": [],
       "schema": [
        {
         "metadata": "{}",
         "name": "genre",
         "type": "\"string\""
        },
        {
         "metadata": "{}",
         "name": "season",
         "type": "\"integer\""
        },
        {
         "metadata": "{}",
         "name": "count",
         "type": "\"long\""
        }
       ],
       "type": "table"
      }
     },
     "output_type": "display_data"
    }
   ],
   "source": [
    "display(\n",
    "  data_seasons.filter((F.col('positive') + F.col('negative')) > 1000).filter(F.col('genre').isin(top_genres)).groupBy('genre', 'season').count().orderBy(['genre', 'season'], ascending=False)\n",
    ")"
   ]
  },
  {
   "cell_type": "markdown",
   "metadata": {
    "application/vnd.databricks.v1+cell": {
     "cellMetadata": {
      "byteLimit": 2048000,
      "rowLimit": 10000
     },
     "inputWidgets": {},
     "nuid": "a843c67e-fd5b-48d4-b198-0d32cef572d6",
     "showTitle": false,
     "title": ""
    }
   },
   "source": [
    "The pattern we noticed earlier does indeed apply to all genres (or at least all the most popular ones)."
   ]
  }
 ],
 "metadata": {
  "application/vnd.databricks.v1+notebook": {
   "dashboards": [],
   "environmentMetadata": null,
   "language": "python",
   "notebookMetadata": {
    "pythonIndentUnit": 4
   },
   "notebookName": "p_steam",
   "widgets": {}
  },
  "kernelspec": {
   "display_name": "colab",
   "language": "python",
   "name": "python3"
  },
  "language_info": {
   "name": "python",
   "version": "3.10.9"
  }
 },
 "nbformat": 4,
 "nbformat_minor": 0
}
